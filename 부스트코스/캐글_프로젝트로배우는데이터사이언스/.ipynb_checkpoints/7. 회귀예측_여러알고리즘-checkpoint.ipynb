{
 "cells": [
  {
   "cell_type": "markdown",
   "id": "87cc7dbe",
   "metadata": {},
   "source": [
    "# 데이터 출처\n",
    "* Pima Indians 당뇨병 데이터셋(Pima Indians Diabetes Database)\n",
    "* 캐글 URL : https://www.kaggle.com/datasets/uciml/pima-indians-diabetes-database"
   ]
  },
  {
   "cell_type": "markdown",
   "id": "30062b58",
   "metadata": {},
   "source": [
    "## 데이터 구성\n",
    "* Pregnancies : 임신 횟수\n",
    "* Glucose : 2시간 동안의 경구 포도당 내성 검사에서 혈장 포도당 농도\n",
    "* BloodPressure : 이완기 혈압 (mm Hg)\n",
    "* SkinThickness : 삼두근 피부 주름 두께 (mm), 체지방을 추정하는데 사용되는 값\n",
    "* Insulin : 2시간 혈청 인슐린 (mu U / ml)\n",
    "* BMI : 체질량 지수 (체중kg / 키(m)^2)\n",
    "* DiabetesPedigreeFunction : 당뇨병 혈통 기능\n",
    "* Age : 나이\n",
    "* Outcome : 768개 중에 268개의 결과 클래스 변수(0 또는 1)는 1이고 나머지는 0입니다."
   ]
  },
  {
   "cell_type": "markdown",
   "id": "8c207dd4",
   "metadata": {},
   "source": [
    "# 필요한 라이브러리 로드"
   ]
  },
  {
   "cell_type": "code",
   "execution_count": 1,
   "id": "39c4f2a0",
   "metadata": {},
   "outputs": [],
   "source": [
    "%config Completer.use_jedi = False\n",
    "import pandas as pd\n",
    "import numpy as np\n",
    "import seaborn as sns\n",
    "import matplotlib.pyplot as plt\n",
    "\n",
    "%matplotlib inline"
   ]
  },
  {
   "cell_type": "markdown",
   "id": "5681ed56",
   "metadata": {},
   "source": [
    "# 데이터셋 로드"
   ]
  },
  {
   "cell_type": "code",
   "execution_count": 2,
   "id": "69d50362",
   "metadata": {},
   "outputs": [
    {
     "data": {
      "text/plain": [
       "(768, 9)"
      ]
     },
     "execution_count": 2,
     "metadata": {},
     "output_type": "execute_result"
    }
   ],
   "source": [
    "df = pd.read_csv(\"diabetes.csv\")\n",
    "df.shape"
   ]
  },
  {
   "cell_type": "code",
   "execution_count": 3,
   "id": "81e522a0",
   "metadata": {
    "scrolled": true
   },
   "outputs": [
    {
     "data": {
      "text/html": [
       "<div>\n",
       "<style scoped>\n",
       "    .dataframe tbody tr th:only-of-type {\n",
       "        vertical-align: middle;\n",
       "    }\n",
       "\n",
       "    .dataframe tbody tr th {\n",
       "        vertical-align: top;\n",
       "    }\n",
       "\n",
       "    .dataframe thead th {\n",
       "        text-align: right;\n",
       "    }\n",
       "</style>\n",
       "<table border=\"1\" class=\"dataframe\">\n",
       "  <thead>\n",
       "    <tr style=\"text-align: right;\">\n",
       "      <th></th>\n",
       "      <th>Pregnancies</th>\n",
       "      <th>Glucose</th>\n",
       "      <th>BloodPressure</th>\n",
       "      <th>SkinThickness</th>\n",
       "      <th>Insulin</th>\n",
       "      <th>BMI</th>\n",
       "      <th>DiabetesPedigreeFunction</th>\n",
       "      <th>Age</th>\n",
       "      <th>Outcome</th>\n",
       "    </tr>\n",
       "  </thead>\n",
       "  <tbody>\n",
       "    <tr>\n",
       "      <th>0</th>\n",
       "      <td>6</td>\n",
       "      <td>148</td>\n",
       "      <td>72</td>\n",
       "      <td>35</td>\n",
       "      <td>0</td>\n",
       "      <td>33.6</td>\n",
       "      <td>0.627</td>\n",
       "      <td>50</td>\n",
       "      <td>1</td>\n",
       "    </tr>\n",
       "    <tr>\n",
       "      <th>1</th>\n",
       "      <td>1</td>\n",
       "      <td>85</td>\n",
       "      <td>66</td>\n",
       "      <td>29</td>\n",
       "      <td>0</td>\n",
       "      <td>26.6</td>\n",
       "      <td>0.351</td>\n",
       "      <td>31</td>\n",
       "      <td>0</td>\n",
       "    </tr>\n",
       "    <tr>\n",
       "      <th>2</th>\n",
       "      <td>8</td>\n",
       "      <td>183</td>\n",
       "      <td>64</td>\n",
       "      <td>0</td>\n",
       "      <td>0</td>\n",
       "      <td>23.3</td>\n",
       "      <td>0.672</td>\n",
       "      <td>32</td>\n",
       "      <td>1</td>\n",
       "    </tr>\n",
       "    <tr>\n",
       "      <th>3</th>\n",
       "      <td>1</td>\n",
       "      <td>89</td>\n",
       "      <td>66</td>\n",
       "      <td>23</td>\n",
       "      <td>94</td>\n",
       "      <td>28.1</td>\n",
       "      <td>0.167</td>\n",
       "      <td>21</td>\n",
       "      <td>0</td>\n",
       "    </tr>\n",
       "    <tr>\n",
       "      <th>4</th>\n",
       "      <td>0</td>\n",
       "      <td>137</td>\n",
       "      <td>40</td>\n",
       "      <td>35</td>\n",
       "      <td>168</td>\n",
       "      <td>43.1</td>\n",
       "      <td>2.288</td>\n",
       "      <td>33</td>\n",
       "      <td>1</td>\n",
       "    </tr>\n",
       "  </tbody>\n",
       "</table>\n",
       "</div>"
      ],
      "text/plain": [
       "   Pregnancies  Glucose  BloodPressure  SkinThickness  Insulin   BMI  \\\n",
       "0            6      148             72             35        0  33.6   \n",
       "1            1       85             66             29        0  26.6   \n",
       "2            8      183             64              0        0  23.3   \n",
       "3            1       89             66             23       94  28.1   \n",
       "4            0      137             40             35      168  43.1   \n",
       "\n",
       "   DiabetesPedigreeFunction  Age  Outcome  \n",
       "0                     0.627   50        1  \n",
       "1                     0.351   31        0  \n",
       "2                     0.672   32        1  \n",
       "3                     0.167   21        0  \n",
       "4                     2.288   33        1  "
      ]
     },
     "execution_count": 3,
     "metadata": {},
     "output_type": "execute_result"
    }
   ],
   "source": [
    "df.head()"
   ]
  },
  {
   "cell_type": "markdown",
   "id": "3c75fb7c",
   "metadata": {},
   "source": [
    "# 학습, 예측 데이터셋 나누기"
   ]
  },
  {
   "cell_type": "markdown",
   "id": "e486c709",
   "metadata": {},
   "source": [
    "* 인슐린 값이 0인 값을 test 세트로 가정하여 예측하기"
   ]
  },
  {
   "cell_type": "code",
   "execution_count": 4,
   "id": "a48590ae",
   "metadata": {},
   "outputs": [
    {
     "data": {
      "text/plain": [
       "True     394\n",
       "False    374\n",
       "Name: Insulin, dtype: int64"
      ]
     },
     "execution_count": 4,
     "metadata": {},
     "output_type": "execute_result"
    }
   ],
   "source": [
    "# label 값을 기준으로 나누기\n",
    "# 나누기 전에 label 값을 시각화\n",
    "(df[\"Insulin\"] > 0).value_counts()"
   ]
  },
  {
   "cell_type": "code",
   "execution_count": 5,
   "id": "1389148c",
   "metadata": {},
   "outputs": [
    {
     "data": {
      "text/plain": [
       "(394, 9)"
      ]
     },
     "execution_count": 5,
     "metadata": {},
     "output_type": "execute_result"
    }
   ],
   "source": [
    "# train 세트 만들기 (0이 아닌 값)\n",
    "train = df[df[\"Insulin\"] > 0].copy()\n",
    "train.shape"
   ]
  },
  {
   "cell_type": "code",
   "execution_count": 6,
   "id": "528533a1",
   "metadata": {},
   "outputs": [
    {
     "data": {
      "text/plain": [
       "(374, 9)"
      ]
     },
     "execution_count": 6,
     "metadata": {},
     "output_type": "execute_result"
    }
   ],
   "source": [
    "# test 세트 만들기(0인 값)\n",
    "test = df[df[\"Insulin\"] == 0].copy()\n",
    "test.shape"
   ]
  },
  {
   "cell_type": "markdown",
   "id": "629ada8c",
   "metadata": {},
   "source": [
    "# EDA"
   ]
  },
  {
   "cell_type": "code",
   "execution_count": 7,
   "id": "dc2b939d",
   "metadata": {},
   "outputs": [
    {
     "name": "stderr",
     "output_type": "stream",
     "text": [
      "C:\\Users\\ksh\\anaconda3\\lib\\site-packages\\seaborn\\distributions.py:2619: FutureWarning: `distplot` is a deprecated function and will be removed in a future version. Please adapt your code to use either `displot` (a figure-level function with similar flexibility) or `histplot` (an axes-level function for histograms).\n",
      "  warnings.warn(msg, FutureWarning)\n"
     ]
    },
    {
     "data": {
      "text/plain": [
       "<AxesSubplot:xlabel='Insulin', ylabel='Density'>"
      ]
     },
     "execution_count": 7,
     "metadata": {},
     "output_type": "execute_result"
    },
    {
     "data": {
      "image/png": "[encoded data removed]",
      "text/plain": [
       "<Figure size 640x480 with 1 Axes>"
      ]
     },
     "metadata": {},
     "output_type": "display_data"
    }
   ],
   "source": [
    "sns.distplot(train[\"Insulin\"])"
   ]
  },
  {
   "cell_type": "code",
   "execution_count": 8,
   "id": "59796e39",
   "metadata": {},
   "outputs": [
    {
     "name": "stderr",
     "output_type": "stream",
     "text": [
      "C:\\Users\\ksh\\anaconda3\\lib\\site-packages\\seaborn\\_decorators.py:36: FutureWarning: Pass the following variable as a keyword arg: x. From version 0.12, the only valid positional argument will be `data`, and passing other arguments without an explicit keyword will result in an error or misinterpretation.\n",
      "  warnings.warn(\n"
     ]
    },
    {
     "data": {
      "text/plain": [
       "<AxesSubplot:xlabel='Insulin'>"
      ]
     },
     "execution_count": 8,
     "metadata": {},
     "output_type": "execute_result"
    },
    {
     "data": {
      "image/png": "[encoded data removed]",
      "text/plain": [
       "<Figure size 640x480 with 1 Axes>"
      ]
     },
     "metadata": {},
     "output_type": "display_data"
    }
   ],
   "source": [
    "sns.boxplot(train[\"Insulin\"])"
   ]
  },
  {
   "cell_type": "code",
   "execution_count": 9,
   "id": "88416308",
   "metadata": {},
   "outputs": [
    {
     "data": {
      "text/plain": [
       "count    394.000000\n",
       "mean     155.548223\n",
       "std      118.775855\n",
       "min       14.000000\n",
       "25%       76.250000\n",
       "50%      125.000000\n",
       "75%      190.000000\n",
       "max      846.000000\n",
       "Name: Insulin, dtype: float64"
      ]
     },
     "execution_count": 9,
     "metadata": {},
     "output_type": "execute_result"
    }
   ],
   "source": [
    "desc = train[\"Insulin\"].describe()\n",
    "desc"
   ]
  },
  {
   "cell_type": "code",
   "execution_count": 10,
   "id": "2da6c67d",
   "metadata": {},
   "outputs": [],
   "source": [
    "# IQR = 3IQR - 1IQR\n",
    "# Out = 3QR + (IQR * 1.5)\n",
    "IQR = desc.loc[\"75%\"] - desc.loc[\"25%\"]\n",
    "OUT = desc.loc[\"75%\"] + (IQR * 1.5)"
   ]
  },
  {
   "cell_type": "code",
   "execution_count": 11,
   "id": "223b325e",
   "metadata": {},
   "outputs": [
    {
     "data": {
      "text/plain": [
       "(24, 9)"
      ]
     },
     "execution_count": 11,
     "metadata": {},
     "output_type": "execute_result"
    }
   ],
   "source": [
    "# Out보다 큰 값의 개수\n",
    "train[train[\"Insulin\"] > OUT].shape\n",
    "# 24개"
   ]
  },
  {
   "cell_type": "code",
   "execution_count": 12,
   "id": "358b1d2e",
   "metadata": {},
   "outputs": [],
   "source": [
    "# print(train.shape)\n",
    "# # 600보다 작은 값만 train 데이터에 저장 => 390개\n",
    "# train = train[train[\"Insulin\"]<600]\n",
    "# train.shape"
   ]
  },
  {
   "cell_type": "code",
   "execution_count": 13,
   "id": "3db83d03",
   "metadata": {},
   "outputs": [
    {
     "data": {
      "text/plain": [
       "(370, 9)"
      ]
     },
     "execution_count": 13,
     "metadata": {},
     "output_type": "execute_result"
    }
   ],
   "source": [
    "# OUT보다 작은 값만 train 데이터에 저장 => 370개\n",
    "train = train[train[\"Insulin\"]<OUT]\n",
    "train.shape"
   ]
  },
  {
   "cell_type": "code",
   "execution_count": null,
   "id": "bd5e8f54",
   "metadata": {},
   "outputs": [],
   "source": []
  },
  {
   "cell_type": "markdown",
   "id": "f815ba86",
   "metadata": {},
   "source": [
    "# 학습, 예측에 사용할 컬럼"
   ]
  },
  {
   "cell_type": "code",
   "execution_count": 14,
   "id": "bf8895f9",
   "metadata": {},
   "outputs": [
    {
     "data": {
      "text/plain": [
       "['Pregnancies',\n",
       " 'Glucose',\n",
       " 'BloodPressure',\n",
       " 'SkinThickness',\n",
       " 'BMI',\n",
       " 'DiabetesPedigreeFunction',\n",
       " 'Age',\n",
       " 'Outcome']"
      ]
     },
     "execution_count": 14,
     "metadata": {},
     "output_type": "execute_result"
    }
   ],
   "source": [
    "# feature_names 라는 변수에 학습과 예측에 사용할 컬럼명을 가져온다.\n",
    "# Insulin 컬럼 제외\n",
    "\n",
    "feature_names = test.columns.tolist()\n",
    "feature_names.remove(\"Insulin\")\n",
    "feature_names"
   ]
  },
  {
   "cell_type": "markdown",
   "id": "25e83a51",
   "metadata": {},
   "source": [
    "# 정답이자 예측해야 될 값"
   ]
  },
  {
   "cell_type": "code",
   "execution_count": 15,
   "id": "50c81579",
   "metadata": {},
   "outputs": [
    {
     "data": {
      "text/plain": [
       "'Insulin'"
      ]
     },
     "execution_count": 15,
     "metadata": {},
     "output_type": "execute_result"
    }
   ],
   "source": [
    "# label_name 이라는 변수에 예측할 컬럼의 이름을 담는다.\n",
    "\n",
    "label_name = \"Insulin\"\n",
    "label_name"
   ]
  },
  {
   "cell_type": "markdown",
   "id": "52c21244",
   "metadata": {},
   "source": [
    "# 학습, 예측 데이터셋 만들기"
   ]
  },
  {
   "cell_type": "code",
   "execution_count": 16,
   "id": "aff22fdc",
   "metadata": {},
   "outputs": [
    {
     "data": {
      "text/plain": [
       "(370, 8)"
      ]
     },
     "execution_count": 16,
     "metadata": {},
     "output_type": "execute_result"
    }
   ],
   "source": [
    "# 학습 세트 만들기\n",
    "\n",
    "X_train = train[feature_names]\n",
    "X_train.shape"
   ]
  },
  {
   "cell_type": "code",
   "execution_count": 17,
   "id": "3b71b050",
   "metadata": {},
   "outputs": [
    {
     "data": {
      "text/plain": [
       "(370,)"
      ]
     },
     "execution_count": 17,
     "metadata": {},
     "output_type": "execute_result"
    }
   ],
   "source": [
    "# 정답 값 만들기\n",
    "\n",
    "y_train = train[label_name]\n",
    "y_train.shape"
   ]
  },
  {
   "cell_type": "code",
   "execution_count": 18,
   "id": "3dda4bfd",
   "metadata": {},
   "outputs": [
    {
     "data": {
      "text/plain": [
       "(374, 8)"
      ]
     },
     "execution_count": 18,
     "metadata": {},
     "output_type": "execute_result"
    }
   ],
   "source": [
    "# 예측에 사용할 test 데이터세트 만들기\n",
    "\n",
    "X_test = test[feature_names]\n",
    "X_test.shape"
   ]
  },
  {
   "cell_type": "code",
   "execution_count": 19,
   "id": "65a7c82f",
   "metadata": {},
   "outputs": [
    {
     "data": {
      "text/plain": [
       "(374,)"
      ]
     },
     "execution_count": 19,
     "metadata": {},
     "output_type": "execute_result"
    }
   ],
   "source": [
    "# 예측의 정답 값\n",
    "\n",
    "y_test = test[label_name]\n",
    "y_test.shape"
   ]
  },
  {
   "cell_type": "markdown",
   "id": "005f2924",
   "metadata": {},
   "source": [
    "# 머신러닝 알고리즘 가져오기"
   ]
  },
  {
   "cell_type": "code",
   "execution_count": 32,
   "id": "6977fa1c",
   "metadata": {},
   "outputs": [],
   "source": [
    "from sklearn.tree import DecisionTreeRegressor\n",
    "from sklearn.ensemble import RandomForestRegressor, GradientBoostingRegressor\n",
    "\n",
    "estimators = [DecisionTreeRegressor(random_state=42),\n",
    "         RandomForestRegressor(random_state=42),\n",
    "         GradientBoostingRegressor(random_state=42)]"
   ]
  },
  {
   "cell_type": "code",
   "execution_count": 61,
   "id": "0064c745",
   "metadata": {},
   "outputs": [
    {
     "name": "stdout",
     "output_type": "stream",
     "text": [
      "Fitting 5 folds for each of 100 candidates, totalling 500 fits\n",
      "[CV] END .......max_depth=5, max_features=0.9958272928490215; total time=   0.0s\n",
      "[CV] END .......max_depth=5, max_features=0.9958272928490215; total time=   0.0s\n",
      "[CV] END .......max_depth=5, max_features=0.9958272928490215; total time=   0.0s\n",
      "[CV] END .......max_depth=5, max_features=0.9958272928490215; total time=   0.0s\n",
      "[CV] END .......max_depth=5, max_features=0.9958272928490215; total time=   0.0s\n",
      "[CV] END ......max_depth=20, max_features=0.9719415307903372; total time=   0.0s\n",
      "[CV] END ......max_depth=20, max_features=0.9719415307903372; total time=   0.0s\n",
      "[CV] END ......max_depth=20, max_features=0.9719415307903372; total time=   0.0s\n",
      "[CV] END ......max_depth=20, max_features=0.9719415307903372; total time=   0.0s\n",
      "[CV] END ......max_depth=20, max_features=0.9719415307903372; total time=   0.0s\n",
      "[CV] END ......max_depth=26, max_features=0.9644620090445823; total time=   0.0s\n",
      "[CV] END ......max_depth=26, max_features=0.9644620090445823; total time=   0.0s\n",
      "[CV] END ......max_depth=26, max_features=0.9644620090445823; total time=   0.0s\n",
      "[CV] END ......max_depth=26, max_features=0.9644620090445823; total time=   0.0s\n",
      "[CV] END ......max_depth=26, max_features=0.9644620090445823; total time=   0.0s\n",
      "[CV] END ......max_depth=27, max_features=0.9986997508914017; total time=   0.0s\n",
      "[CV] END ......max_depth=27, max_features=0.9986997508914017; total time=   0.0s\n",
      "[CV] END ......max_depth=27, max_features=0.9986997508914017; total time=   0.0s\n",
      "[CV] END ......max_depth=27, max_features=0.9986997508914017; total time=   0.0s\n",
      "[CV] END ......max_depth=27, max_features=0.9986997508914017; total time=   0.0s\n",
      "[CV] END .......max_depth=8, max_features=0.3169191461553911; total time=   0.0s\n",
      "[CV] END .......max_depth=8, max_features=0.3169191461553911; total time=   0.0s\n",
      "[CV] END .......max_depth=8, max_features=0.3169191461553911; total time=   0.0s\n",
      "[CV] END .......max_depth=8, max_features=0.3169191461553911; total time=   0.0s\n",
      "[CV] END .......max_depth=8, max_features=0.3169191461553911; total time=   0.0s\n",
      "[CV] END ......max_depth=6, max_features=0.44319106645670636; total time=   0.0s\n",
      "[CV] END ......max_depth=6, max_features=0.44319106645670636; total time=   0.0s\n",
      "[CV] END ......max_depth=6, max_features=0.44319106645670636; total time=   0.0s\n",
      "[CV] END ......max_depth=6, max_features=0.44319106645670636; total time=   0.0s\n",
      "[CV] END ......max_depth=6, max_features=0.44319106645670636; total time=   0.0s\n",
      "[CV] END ......max_depth=20, max_features=0.6255653656942199; total time=   0.0s\n",
      "[CV] END ......max_depth=20, max_features=0.6255653656942199; total time=   0.0s\n",
      "[CV] END ......max_depth=20, max_features=0.6255653656942199; total time=   0.0s\n",
      "[CV] END ......max_depth=20, max_features=0.6255653656942199; total time=   0.0s\n",
      "[CV] END ......max_depth=20, max_features=0.6255653656942199; total time=   0.0s\n",
      "[CV] END .....max_depth=28, max_features=0.39098108818965377; total time=   0.0s\n",
      "[CV] END .....max_depth=28, max_features=0.39098108818965377; total time=   0.0s\n",
      "[CV] END .....max_depth=28, max_features=0.39098108818965377; total time=   0.0s\n",
      "[CV] END .....max_depth=28, max_features=0.39098108818965377; total time=   0.0s\n",
      "[CV] END .....max_depth=28, max_features=0.39098108818965377; total time=   0.0s\n",
      "[CV] END .......max_depth=7, max_features=0.6774742200694874; total time=   0.0s\n",
      "[CV] END .......max_depth=7, max_features=0.6774742200694874; total time=   0.0s\n",
      "[CV] END .......max_depth=7, max_features=0.6774742200694874; total time=   0.0s\n",
      "[CV] END .......max_depth=7, max_features=0.6774742200694874; total time=   0.0s\n",
      "[CV] END .......max_depth=7, max_features=0.6774742200694874; total time=   0.0s\n",
      "[CV] END ......max_depth=14, max_features=0.5726741931025754; total time=   0.0s\n",
      "[CV] END ......max_depth=14, max_features=0.5726741931025754; total time=   0.0s\n",
      "[CV] END ......max_depth=14, max_features=0.5726741931025754; total time=   0.0s\n",
      "[CV] END ......max_depth=14, max_features=0.5726741931025754; total time=   0.0s\n",
      "[CV] END ......max_depth=14, max_features=0.5726741931025754; total time=   0.0s\n",
      "[CV] END .....max_depth=19, max_features=0.30416412586009034; total time=   0.0s\n",
      "[CV] END .....max_depth=19, max_features=0.30416412586009034; total time=   0.0s\n",
      "[CV] END .....max_depth=19, max_features=0.30416412586009034; total time=   0.0s\n",
      "[CV] END .....max_depth=19, max_features=0.30416412586009034; total time=   0.0s\n",
      "[CV] END .....max_depth=19, max_features=0.30416412586009034; total time=   0.0s\n",
      "[CV] END .......max_depth=7, max_features=0.9214938208408685; total time=   0.0s\n",
      "[CV] END .......max_depth=7, max_features=0.9214938208408685; total time=   0.0s\n",
      "[CV] END .......max_depth=7, max_features=0.9214938208408685; total time=   0.0s\n",
      "[CV] END .......max_depth=7, max_features=0.9214938208408685; total time=   0.0s\n",
      "[CV] END .......max_depth=7, max_features=0.9214938208408685; total time=   0.0s\n",
      "[CV] END ......max_depth=23, max_features=0.8079092636305685; total time=   0.0s\n",
      "[CV] END ......max_depth=23, max_features=0.8079092636305685; total time=   0.0s\n",
      "[CV] END ......max_depth=23, max_features=0.8079092636305685; total time=   0.0s\n",
      "[CV] END ......max_depth=23, max_features=0.8079092636305685; total time=   0.0s\n",
      "[CV] END ......max_depth=23, max_features=0.8079092636305685; total time=   0.0s\n",
      "[CV] END ......max_depth=19, max_features=0.7683434737414124; total time=   0.0s\n",
      "[CV] END ......max_depth=19, max_features=0.7683434737414124; total time=   0.0s\n",
      "[CV] END ......max_depth=19, max_features=0.7683434737414124; total time=   0.0s\n",
      "[CV] END ......max_depth=19, max_features=0.7683434737414124; total time=   0.0s\n",
      "[CV] END ......max_depth=19, max_features=0.7683434737414124; total time=   0.0s\n",
      "[CV] END ......max_depth=26, max_features=0.5134140336029602; total time=   0.0s\n",
      "[CV] END ......max_depth=26, max_features=0.5134140336029602; total time=   0.0s\n",
      "[CV] END ......max_depth=26, max_features=0.5134140336029602; total time=   0.0s\n",
      "[CV] END ......max_depth=26, max_features=0.5134140336029602; total time=   0.0s\n",
      "[CV] END ......max_depth=26, max_features=0.5134140336029602; total time=   0.0s\n",
      "[CV] END ......max_depth=24, max_features=0.7364394780969667; total time=   0.0s\n",
      "[CV] END ......max_depth=24, max_features=0.7364394780969667; total time=   0.0s\n",
      "[CV] END ......max_depth=24, max_features=0.7364394780969667; total time=   0.0s\n",
      "[CV] END ......max_depth=24, max_features=0.7364394780969667; total time=   0.0s\n",
      "[CV] END ......max_depth=24, max_features=0.7364394780969667; total time=   0.0s\n",
      "[CV] END .....max_depth=22, max_features=0.35287483843396505; total time=   0.0s\n",
      "[CV] END .....max_depth=22, max_features=0.35287483843396505; total time=   0.0s\n",
      "[CV] END .....max_depth=22, max_features=0.35287483843396505; total time=   0.0s\n",
      "[CV] END .....max_depth=22, max_features=0.35287483843396505; total time=   0.0s\n",
      "[CV] END .....max_depth=22, max_features=0.35287483843396505; total time=   0.0s\n",
      "[CV] END ......max_depth=11, max_features=0.6785955272068621; total time=   0.0s\n",
      "[CV] END ......max_depth=11, max_features=0.6785955272068621; total time=   0.0s\n",
      "[CV] END ......max_depth=11, max_features=0.6785955272068621; total time=   0.0s\n",
      "[CV] END ......max_depth=11, max_features=0.6785955272068621; total time=   0.0s\n",
      "[CV] END ......max_depth=11, max_features=0.6785955272068621; total time=   0.0s\n",
      "[CV] END ......max_depth=26, max_features=0.4103504140252668; total time=   0.0s\n",
      "[CV] END ......max_depth=26, max_features=0.4103504140252668; total time=   0.0s\n",
      "[CV] END ......max_depth=26, max_features=0.4103504140252668; total time=   0.0s\n",
      "[CV] END ......max_depth=26, max_features=0.4103504140252668; total time=   0.0s\n",
      "[CV] END ......max_depth=26, max_features=0.4103504140252668; total time=   0.0s\n",
      "[CV] END .....max_depth=21, max_features=0.30416412586009034; total time=   0.0s\n",
      "[CV] END .....max_depth=21, max_features=0.30416412586009034; total time=   0.0s\n",
      "[CV] END .....max_depth=21, max_features=0.30416412586009034; total time=   0.0s\n",
      "[CV] END .....max_depth=21, max_features=0.30416412586009034; total time=   0.0s\n",
      "[CV] END .....max_depth=21, max_features=0.30416412586009034; total time=   0.0s\n",
      "[CV] END .......max_depth=14, max_features=0.422936978789601; total time=   0.0s\n",
      "[CV] END .......max_depth=14, max_features=0.422936978789601; total time=   0.0s\n",
      "[CV] END .......max_depth=14, max_features=0.422936978789601; total time=   0.0s\n",
      "[CV] END .......max_depth=14, max_features=0.422936978789601; total time=   0.0s\n",
      "[CV] END .......max_depth=14, max_features=0.422936978789601; total time=   0.0s\n",
      "[CV] END ......max_depth=12, max_features=0.6255653656942199; total time=   0.0s\n",
      "[CV] END ......max_depth=12, max_features=0.6255653656942199; total time=   0.0s\n",
      "[CV] END ......max_depth=12, max_features=0.6255653656942199; total time=   0.0s\n",
      "[CV] END ......max_depth=12, max_features=0.6255653656942199; total time=   0.0s\n",
      "[CV] END ......max_depth=12, max_features=0.6255653656942199; total time=   0.0s\n",
      "[CV] END ......max_depth=18, max_features=0.9990550310398925; total time=   0.0s\n",
      "[CV] END ......max_depth=18, max_features=0.9990550310398925; total time=   0.0s\n",
      "[CV] END ......max_depth=18, max_features=0.9990550310398925; total time=   0.0s\n",
      "[CV] END ......max_depth=18, max_features=0.9990550310398925; total time=   0.0s\n",
      "[CV] END ......max_depth=18, max_features=0.9990550310398925; total time=   0.0s\n",
      "[CV] END ......max_depth=24, max_features=0.9907249904836113; total time=   0.0s\n",
      "[CV] END ......max_depth=24, max_features=0.9907249904836113; total time=   0.0s\n",
      "[CV] END ......max_depth=24, max_features=0.9907249904836113; total time=   0.0s\n"
     ]
    },
    {
     "name": "stdout",
     "output_type": "stream",
     "text": [
      "[CV] END ......max_depth=24, max_features=0.9907249904836113; total time=   0.0s\n",
      "[CV] END ......max_depth=24, max_features=0.9907249904836113; total time=   0.0s\n",
      "[CV] END ......max_depth=17, max_features=0.8079092636305685; total time=   0.0s\n",
      "[CV] END ......max_depth=17, max_features=0.8079092636305685; total time=   0.0s\n",
      "[CV] END ......max_depth=17, max_features=0.8079092636305685; total time=   0.0s\n",
      "[CV] END ......max_depth=17, max_features=0.8079092636305685; total time=   0.0s\n",
      "[CV] END ......max_depth=17, max_features=0.8079092636305685; total time=   0.0s\n",
      "[CV] END .......max_depth=26, max_features=0.802440000475535; total time=   0.0s\n",
      "[CV] END .......max_depth=26, max_features=0.802440000475535; total time=   0.0s\n",
      "[CV] END .......max_depth=26, max_features=0.802440000475535; total time=   0.0s\n",
      "[CV] END .......max_depth=26, max_features=0.802440000475535; total time=   0.0s\n",
      "[CV] END .......max_depth=26, max_features=0.802440000475535; total time=   0.0s\n",
      "[CV] END ........max_depth=5, max_features=0.802440000475535; total time=   0.0s\n",
      "[CV] END ........max_depth=5, max_features=0.802440000475535; total time=   0.0s\n",
      "[CV] END ........max_depth=5, max_features=0.802440000475535; total time=   0.0s\n",
      "[CV] END ........max_depth=5, max_features=0.802440000475535; total time=   0.0s\n",
      "[CV] END ........max_depth=5, max_features=0.802440000475535; total time=   0.0s\n",
      "[CV] END .......max_depth=5, max_features=0.7276195209843119; total time=   0.0s\n",
      "[CV] END .......max_depth=5, max_features=0.7276195209843119; total time=   0.0s\n",
      "[CV] END .......max_depth=5, max_features=0.7276195209843119; total time=   0.0s\n",
      "[CV] END .......max_depth=5, max_features=0.7276195209843119; total time=   0.0s\n",
      "[CV] END .......max_depth=5, max_features=0.7276195209843119; total time=   0.0s\n",
      "[CV] END .....max_depth=23, max_features=0.44980632854646385; total time=   0.0s\n",
      "[CV] END .....max_depth=23, max_features=0.44980632854646385; total time=   0.0s\n",
      "[CV] END .....max_depth=23, max_features=0.44980632854646385; total time=   0.0s\n",
      "[CV] END .....max_depth=23, max_features=0.44980632854646385; total time=   0.0s\n",
      "[CV] END .....max_depth=23, max_features=0.44980632854646385; total time=   0.0s\n",
      "[CV] END ......max_depth=13, max_features=0.3774601086831861; total time=   0.0s\n",
      "[CV] END ......max_depth=13, max_features=0.3774601086831861; total time=   0.0s\n",
      "[CV] END ......max_depth=13, max_features=0.3774601086831861; total time=   0.0s\n",
      "[CV] END ......max_depth=13, max_features=0.3774601086831861; total time=   0.0s\n",
      "[CV] END ......max_depth=13, max_features=0.3774601086831861; total time=   0.0s\n",
      "[CV] END .......max_depth=5, max_features=0.3169191461553911; total time=   0.0s\n",
      "[CV] END .......max_depth=5, max_features=0.3169191461553911; total time=   0.0s\n",
      "[CV] END .......max_depth=5, max_features=0.3169191461553911; total time=   0.0s\n",
      "[CV] END .......max_depth=5, max_features=0.3169191461553911; total time=   0.0s\n",
      "[CV] END .......max_depth=5, max_features=0.3169191461553911; total time=   0.0s\n",
      "[CV] END .....max_depth=29, max_features=0.39680719210106236; total time=   0.0s\n",
      "[CV] END .....max_depth=29, max_features=0.39680719210106236; total time=   0.0s\n",
      "[CV] END .....max_depth=29, max_features=0.39680719210106236; total time=   0.0s\n",
      "[CV] END .....max_depth=29, max_features=0.39680719210106236; total time=   0.0s\n",
      "[CV] END .....max_depth=29, max_features=0.39680719210106236; total time=   0.0s\n",
      "[CV] END ......max_depth=28, max_features=0.9907249904836113; total time=   0.0s\n",
      "[CV] END ......max_depth=28, max_features=0.9907249904836113; total time=   0.0s\n",
      "[CV] END ......max_depth=28, max_features=0.9907249904836113; total time=   0.0s\n",
      "[CV] END ......max_depth=28, max_features=0.9907249904836113; total time=   0.0s\n",
      "[CV] END ......max_depth=28, max_features=0.9907249904836113; total time=   0.0s\n",
      "[CV] END .....max_depth=21, max_features=0.30152247555682504; total time=   0.0s\n",
      "[CV] END .....max_depth=21, max_features=0.30152247555682504; total time=   0.0s\n",
      "[CV] END .....max_depth=21, max_features=0.30152247555682504; total time=   0.0s\n",
      "[CV] END .....max_depth=21, max_features=0.30152247555682504; total time=   0.0s\n",
      "[CV] END .....max_depth=21, max_features=0.30152247555682504; total time=   0.0s\n",
      "[CV] END ......max_depth=29, max_features=0.3169191461553911; total time=   0.0s\n",
      "[CV] END ......max_depth=29, max_features=0.3169191461553911; total time=   0.0s\n",
      "[CV] END ......max_depth=29, max_features=0.3169191461553911; total time=   0.0s\n",
      "[CV] END ......max_depth=29, max_features=0.3169191461553911; total time=   0.0s\n",
      "[CV] END ......max_depth=29, max_features=0.3169191461553911; total time=   0.0s\n",
      "[CV] END ......max_depth=18, max_features=0.7276195209843119; total time=   0.0s\n",
      "[CV] END ......max_depth=18, max_features=0.7276195209843119; total time=   0.0s\n",
      "[CV] END ......max_depth=18, max_features=0.7276195209843119; total time=   0.0s\n",
      "[CV] END ......max_depth=18, max_features=0.7276195209843119; total time=   0.0s\n",
      "[CV] END ......max_depth=18, max_features=0.7276195209843119; total time=   0.0s\n",
      "[CV] END ......max_depth=12, max_features=0.6343075248371061; total time=   0.0s\n",
      "[CV] END ......max_depth=12, max_features=0.6343075248371061; total time=   0.0s\n",
      "[CV] END ......max_depth=12, max_features=0.6343075248371061; total time=   0.0s\n",
      "[CV] END ......max_depth=12, max_features=0.6343075248371061; total time=   0.0s\n",
      "[CV] END ......max_depth=12, max_features=0.6343075248371061; total time=   0.0s\n",
      "[CV] END ........max_depth=5, max_features=0.733142906067306; total time=   0.0s\n",
      "[CV] END ........max_depth=5, max_features=0.733142906067306; total time=   0.0s\n",
      "[CV] END ........max_depth=5, max_features=0.733142906067306; total time=   0.0s\n",
      "[CV] END ........max_depth=5, max_features=0.733142906067306; total time=   0.0s\n",
      "[CV] END ........max_depth=5, max_features=0.733142906067306; total time=   0.0s\n",
      "[CV] END .......max_depth=5, max_features=0.9644620090445823; total time=   0.0s\n",
      "[CV] END .......max_depth=5, max_features=0.9644620090445823; total time=   0.0s\n",
      "[CV] END .......max_depth=5, max_features=0.9644620090445823; total time=   0.0s\n",
      "[CV] END .......max_depth=5, max_features=0.9644620090445823; total time=   0.0s\n",
      "[CV] END .......max_depth=5, max_features=0.9644620090445823; total time=   0.0s\n",
      "[CV] END ......max_depth=16, max_features=0.8089098701095137; total time=   0.0s\n",
      "[CV] END ......max_depth=16, max_features=0.8089098701095137; total time=   0.0s\n",
      "[CV] END ......max_depth=16, max_features=0.8089098701095137; total time=   0.0s\n",
      "[CV] END ......max_depth=16, max_features=0.8089098701095137; total time=   0.0s\n",
      "[CV] END ......max_depth=16, max_features=0.8089098701095137; total time=   0.0s\n",
      "[CV] END ......max_depth=26, max_features=0.7227876874816042; total time=   0.0s\n",
      "[CV] END ......max_depth=26, max_features=0.7227876874816042; total time=   0.0s\n",
      "[CV] END ......max_depth=26, max_features=0.7227876874816042; total time=   0.0s\n",
      "[CV] END ......max_depth=26, max_features=0.7227876874816042; total time=   0.0s\n",
      "[CV] END ......max_depth=26, max_features=0.7227876874816042; total time=   0.0s\n",
      "[CV] END .......max_depth=5, max_features=0.9793198755240371; total time=   0.0s\n",
      "[CV] END .......max_depth=5, max_features=0.9793198755240371; total time=   0.0s\n",
      "[CV] END .......max_depth=5, max_features=0.9793198755240371; total time=   0.0s\n",
      "[CV] END .......max_depth=5, max_features=0.9793198755240371; total time=   0.0s\n",
      "[CV] END .......max_depth=5, max_features=0.9793198755240371; total time=   0.0s\n",
      "[CV] END ......max_depth=16, max_features=0.7683434737414124; total time=   0.0s\n",
      "[CV] END ......max_depth=16, max_features=0.7683434737414124; total time=   0.0s\n",
      "[CV] END ......max_depth=16, max_features=0.7683434737414124; total time=   0.0s\n",
      "[CV] END ......max_depth=16, max_features=0.7683434737414124; total time=   0.0s\n",
      "[CV] END ......max_depth=16, max_features=0.7683434737414124; total time=   0.0s\n",
      "[CV] END ......max_depth=10, max_features=0.4546007747178325; total time=   0.0s\n",
      "[CV] END ......max_depth=10, max_features=0.4546007747178325; total time=   0.0s\n",
      "[CV] END ......max_depth=10, max_features=0.4546007747178325; total time=   0.0s\n",
      "[CV] END ......max_depth=10, max_features=0.4546007747178325; total time=   0.0s\n",
      "[CV] END ......max_depth=10, max_features=0.4546007747178325; total time=   0.0s\n",
      "[CV] END ........max_depth=29, max_features=0.44833734305829; total time=   0.0s\n",
      "[CV] END ........max_depth=29, max_features=0.44833734305829; total time=   0.0s\n",
      "[CV] END ........max_depth=29, max_features=0.44833734305829; total time=   0.0s\n",
      "[CV] END ........max_depth=29, max_features=0.44833734305829; total time=   0.0s\n",
      "[CV] END ........max_depth=29, max_features=0.44833734305829; total time=   0.0s\n",
      "[CV] END ......max_depth=26, max_features=0.8771607027898134; total time=   0.0s\n",
      "[CV] END ......max_depth=26, max_features=0.8771607027898134; total time=   0.0s\n",
      "[CV] END ......max_depth=26, max_features=0.8771607027898134; total time=   0.0s\n",
      "[CV] END ......max_depth=26, max_features=0.8771607027898134; total time=   0.0s\n",
      "[CV] END ......max_depth=26, max_features=0.8771607027898134; total time=   0.0s\n",
      "[CV] END .......max_depth=7, max_features=0.4103504140252668; total time=   0.0s\n",
      "[CV] END .......max_depth=7, max_features=0.4103504140252668; total time=   0.0s\n",
      "[CV] END .......max_depth=7, max_features=0.4103504140252668; total time=   0.0s\n",
      "[CV] END .......max_depth=7, max_features=0.4103504140252668; total time=   0.0s\n",
      "[CV] END .......max_depth=7, max_features=0.4103504140252668; total time=   0.0s\n",
      "[CV] END .......max_depth=6, max_features=0.8391453847162613; total time=   0.0s\n",
      "[CV] END .......max_depth=6, max_features=0.8391453847162613; total time=   0.0s\n",
      "[CV] END .......max_depth=6, max_features=0.8391453847162613; total time=   0.0s\n",
      "[CV] END .......max_depth=6, max_features=0.8391453847162613; total time=   0.0s\n",
      "[CV] END .......max_depth=6, max_features=0.8391453847162613; total time=   0.0s\n",
      "[CV] END ......max_depth=26, max_features=0.3105892093166693; total time=   0.0s\n",
      "[CV] END ......max_depth=26, max_features=0.3105892093166693; total time=   0.0s\n",
      "[CV] END ......max_depth=26, max_features=0.3105892093166693; total time=   0.0s\n",
      "[CV] END ......max_depth=26, max_features=0.3105892093166693; total time=   0.0s\n",
      "[CV] END ......max_depth=26, max_features=0.3105892093166693; total time=   0.0s\n",
      "[CV] END .....max_depth=26, max_features=0.30152247555682504; total time=   0.0s\n",
      "[CV] END .....max_depth=26, max_features=0.30152247555682504; total time=   0.0s\n",
      "[CV] END .....max_depth=26, max_features=0.30152247555682504; total time=   0.0s\n",
      "[CV] END .....max_depth=26, max_features=0.30152247555682504; total time=   0.0s\n",
      "[CV] END .....max_depth=26, max_features=0.30152247555682504; total time=   0.0s\n",
      "[CV] END ......max_depth=24, max_features=0.9958272928490215; total time=   0.0s\n",
      "[CV] END ......max_depth=24, max_features=0.9958272928490215; total time=   0.0s\n",
      "[CV] END ......max_depth=24, max_features=0.9958272928490215; total time=   0.0s\n",
      "[CV] END ......max_depth=24, max_features=0.9958272928490215; total time=   0.0s\n",
      "[CV] END ......max_depth=24, max_features=0.9958272928490215; total time=   0.0s\n",
      "[CV] END .......max_depth=7, max_features=0.5937320095164326; total time=   0.0s\n",
      "[CV] END .......max_depth=7, max_features=0.5937320095164326; total time=   0.0s\n",
      "[CV] END .......max_depth=7, max_features=0.5937320095164326; total time=   0.0s\n",
      "[CV] END .......max_depth=7, max_features=0.5937320095164326; total time=   0.0s\n",
      "[CV] END .......max_depth=7, max_features=0.5937320095164326; total time=   0.0s\n",
      "[CV] END .....max_depth=26, max_features=0.39098108818965377; total time=   0.0s\n",
      "[CV] END .....max_depth=26, max_features=0.39098108818965377; total time=   0.0s\n",
      "[CV] END .....max_depth=26, max_features=0.39098108818965377; total time=   0.0s\n",
      "[CV] END .....max_depth=26, max_features=0.39098108818965377; total time=   0.0s\n",
      "[CV] END .....max_depth=26, max_features=0.39098108818965377; total time=   0.0s\n",
      "[CV] END ......max_depth=23, max_features=0.5436216331877162; total time=   0.0s\n",
      "[CV] END ......max_depth=23, max_features=0.5436216331877162; total time=   0.0s\n",
      "[CV] END ......max_depth=23, max_features=0.5436216331877162; total time=   0.0s\n",
      "[CV] END ......max_depth=23, max_features=0.5436216331877162; total time=   0.0s\n",
      "[CV] END ......max_depth=23, max_features=0.5436216331877162; total time=   0.0s\n",
      "[CV] END .....max_depth=12, max_features=0.30416412586009034; total time=   0.0s\n",
      "[CV] END .....max_depth=12, max_features=0.30416412586009034; total time=   0.0s\n",
      "[CV] END .....max_depth=12, max_features=0.30416412586009034; total time=   0.0s\n",
      "[CV] END .....max_depth=12, max_features=0.30416412586009034; total time=   0.0s\n",
      "[CV] END .....max_depth=12, max_features=0.30416412586009034; total time=   0.0s\n",
      "[CV] END ......max_depth=28, max_features=0.4598170316529646; total time=   0.0s\n",
      "[CV] END ......max_depth=28, max_features=0.4598170316529646; total time=   0.0s\n",
      "[CV] END ......max_depth=28, max_features=0.4598170316529646; total time=   0.0s\n",
      "[CV] END ......max_depth=28, max_features=0.4598170316529646; total time=   0.0s\n",
      "[CV] END ......max_depth=28, max_features=0.4598170316529646; total time=   0.0s\n",
      "[CV] END ......max_depth=10, max_features=0.4103504140252668; total time=   0.0s\n",
      "[CV] END ......max_depth=10, max_features=0.4103504140252668; total time=   0.0s\n",
      "[CV] END ......max_depth=10, max_features=0.4103504140252668; total time=   0.0s\n",
      "[CV] END ......max_depth=10, max_features=0.4103504140252668; total time=   0.0s\n",
      "[CV] END ......max_depth=10, max_features=0.4103504140252668; total time=   0.0s\n",
      "[CV] END ......max_depth=29, max_features=0.9210625117775197; total time=   0.0s\n",
      "[CV] END ......max_depth=29, max_features=0.9210625117775197; total time=   0.0s\n",
      "[CV] END ......max_depth=29, max_features=0.9210625117775197; total time=   0.0s\n",
      "[CV] END ......max_depth=29, max_features=0.9210625117775197; total time=   0.0s\n",
      "[CV] END ......max_depth=29, max_features=0.9210625117775197; total time=   0.0s\n",
      "[CV] END ......max_depth=19, max_features=0.4402101465686104; total time=   0.0s\n",
      "[CV] END ......max_depth=19, max_features=0.4402101465686104; total time=   0.0s\n",
      "[CV] END ......max_depth=19, max_features=0.4402101465686104; total time=   0.0s\n",
      "[CV] END ......max_depth=19, max_features=0.4402101465686104; total time=   0.0s\n",
      "[CV] END ......max_depth=19, max_features=0.4402101465686104; total time=   0.0s\n",
      "[CV] END .......max_depth=5, max_features=0.4598170316529646; total time=   0.0s\n"
     ]
    },
    {
     "name": "stdout",
     "output_type": "stream",
     "text": [
      "[CV] END .......max_depth=5, max_features=0.4598170316529646; total time=   0.0s\n",
      "[CV] END .......max_depth=5, max_features=0.4598170316529646; total time=   0.0s\n",
      "[CV] END .......max_depth=5, max_features=0.4598170316529646; total time=   0.0s\n",
      "[CV] END .......max_depth=5, max_features=0.4598170316529646; total time=   0.0s\n",
      "[CV] END ......max_depth=20, max_features=0.3774601086831861; total time=   0.0s\n",
      "[CV] END ......max_depth=20, max_features=0.3774601086831861; total time=   0.0s\n",
      "[CV] END ......max_depth=20, max_features=0.3774601086831861; total time=   0.0s\n",
      "[CV] END ......max_depth=20, max_features=0.3774601086831861; total time=   0.0s\n",
      "[CV] END ......max_depth=20, max_features=0.3774601086831861; total time=   0.0s\n",
      "[CV] END ......max_depth=24, max_features=0.9793198755240371; total time=   0.0s\n",
      "[CV] END ......max_depth=24, max_features=0.9793198755240371; total time=   0.0s\n",
      "[CV] END ......max_depth=24, max_features=0.9793198755240371; total time=   0.0s\n",
      "[CV] END ......max_depth=24, max_features=0.9793198755240371; total time=   0.0s\n",
      "[CV] END ......max_depth=24, max_features=0.9793198755240371; total time=   0.0s\n",
      "[CV] END .......max_depth=7, max_features=0.9210625117775197; total time=   0.0s\n",
      "[CV] END .......max_depth=7, max_features=0.9210625117775197; total time=   0.0s\n",
      "[CV] END .......max_depth=7, max_features=0.9210625117775197; total time=   0.0s\n",
      "[CV] END .......max_depth=7, max_features=0.9210625117775197; total time=   0.0s\n",
      "[CV] END .......max_depth=7, max_features=0.9210625117775197; total time=   0.0s\n",
      "[CV] END ......max_depth=18, max_features=0.5937320095164326; total time=   0.0s\n",
      "[CV] END ......max_depth=18, max_features=0.5937320095164326; total time=   0.0s\n",
      "[CV] END ......max_depth=18, max_features=0.5937320095164326; total time=   0.0s\n",
      "[CV] END ......max_depth=18, max_features=0.5937320095164326; total time=   0.0s\n",
      "[CV] END ......max_depth=18, max_features=0.5937320095164326; total time=   0.0s\n",
      "[CV] END ......max_depth=13, max_features=0.6747786478756828; total time=   0.0s\n",
      "[CV] END ......max_depth=13, max_features=0.6747786478756828; total time=   0.0s\n",
      "[CV] END ......max_depth=13, max_features=0.6747786478756828; total time=   0.0s\n",
      "[CV] END ......max_depth=13, max_features=0.6747786478756828; total time=   0.0s\n",
      "[CV] END ......max_depth=13, max_features=0.6747786478756828; total time=   0.0s\n",
      "[CV] END .....max_depth=20, max_features=0.46937295324623973; total time=   0.0s\n",
      "[CV] END .....max_depth=20, max_features=0.46937295324623973; total time=   0.0s\n",
      "[CV] END .....max_depth=20, max_features=0.46937295324623973; total time=   0.0s\n",
      "[CV] END .....max_depth=20, max_features=0.46937295324623973; total time=   0.0s\n",
      "[CV] END .....max_depth=20, max_features=0.46937295324623973; total time=   0.0s\n",
      "[CV] END .......max_depth=9, max_features=0.4345141078592528; total time=   0.0s\n",
      "[CV] END .......max_depth=9, max_features=0.4345141078592528; total time=   0.0s\n",
      "[CV] END .......max_depth=9, max_features=0.4345141078592528; total time=   0.0s\n",
      "[CV] END .......max_depth=9, max_features=0.4345141078592528; total time=   0.0s\n",
      "[CV] END .......max_depth=9, max_features=0.4345141078592528; total time=   0.0s\n",
      "[CV] END .......max_depth=8, max_features=0.9336593806726485; total time=   0.0s\n",
      "[CV] END .......max_depth=8, max_features=0.9336593806726485; total time=   0.0s\n",
      "[CV] END .......max_depth=8, max_features=0.9336593806726485; total time=   0.0s\n",
      "[CV] END .......max_depth=8, max_features=0.9336593806726485; total time=   0.0s\n",
      "[CV] END .......max_depth=8, max_features=0.9336593806726485; total time=   0.0s\n",
      "[CV] END ......max_depth=23, max_features=0.7276195209843119; total time=   0.0s\n",
      "[CV] END ......max_depth=23, max_features=0.7276195209843119; total time=   0.0s\n",
      "[CV] END ......max_depth=23, max_features=0.7276195209843119; total time=   0.0s\n",
      "[CV] END ......max_depth=23, max_features=0.7276195209843119; total time=   0.0s\n",
      "[CV] END ......max_depth=23, max_features=0.7276195209843119; total time=   0.0s\n",
      "[CV] END ......max_depth=19, max_features=0.5993696748164625; total time=   0.0s\n",
      "[CV] END ......max_depth=19, max_features=0.5993696748164625; total time=   0.0s\n",
      "[CV] END ......max_depth=19, max_features=0.5993696748164625; total time=   0.0s\n",
      "[CV] END ......max_depth=19, max_features=0.5993696748164625; total time=   0.0s\n",
      "[CV] END ......max_depth=19, max_features=0.5993696748164625; total time=   0.0s\n",
      "[CV] END ......max_depth=17, max_features=0.9214938208408685; total time=   0.0s\n",
      "[CV] END ......max_depth=17, max_features=0.9214938208408685; total time=   0.0s\n",
      "[CV] END ......max_depth=17, max_features=0.9214938208408685; total time=   0.0s\n",
      "[CV] END ......max_depth=17, max_features=0.9214938208408685; total time=   0.0s\n",
      "[CV] END ......max_depth=17, max_features=0.9214938208408685; total time=   0.0s\n",
      "[CV] END ......max_depth=22, max_features=0.5967910424454772; total time=   0.0s\n",
      "[CV] END ......max_depth=22, max_features=0.5967910424454772; total time=   0.0s\n",
      "[CV] END ......max_depth=22, max_features=0.5967910424454772; total time=   0.0s\n",
      "[CV] END ......max_depth=22, max_features=0.5967910424454772; total time=   0.0s\n",
      "[CV] END ......max_depth=22, max_features=0.5967910424454772; total time=   0.0s\n",
      "[CV] END ......max_depth=17, max_features=0.9793198755240371; total time=   0.0s\n",
      "[CV] END ......max_depth=17, max_features=0.9793198755240371; total time=   0.0s\n",
      "[CV] END ......max_depth=17, max_features=0.9793198755240371; total time=   0.0s\n",
      "[CV] END ......max_depth=17, max_features=0.9793198755240371; total time=   0.0s\n",
      "[CV] END ......max_depth=17, max_features=0.9793198755240371; total time=   0.0s\n",
      "[CV] END .......max_depth=7, max_features=0.6439634135094148; total time=   0.0s\n",
      "[CV] END .......max_depth=7, max_features=0.6439634135094148; total time=   0.0s\n",
      "[CV] END .......max_depth=7, max_features=0.6439634135094148; total time=   0.0s\n",
      "[CV] END .......max_depth=7, max_features=0.6439634135094148; total time=   0.0s\n",
      "[CV] END .......max_depth=7, max_features=0.6439634135094148; total time=   0.0s\n",
      "[CV] END ......max_depth=20, max_features=0.5993696748164625; total time=   0.0s\n",
      "[CV] END ......max_depth=20, max_features=0.5993696748164625; total time=   0.0s\n",
      "[CV] END ......max_depth=20, max_features=0.5993696748164625; total time=   0.0s\n",
      "[CV] END ......max_depth=20, max_features=0.5993696748164625; total time=   0.0s\n",
      "[CV] END ......max_depth=20, max_features=0.5993696748164625; total time=   0.0s\n",
      "[CV] END ......max_depth=10, max_features=0.9336593806726485; total time=   0.0s\n",
      "[CV] END ......max_depth=10, max_features=0.9336593806726485; total time=   0.0s\n",
      "[CV] END ......max_depth=10, max_features=0.9336593806726485; total time=   0.0s\n",
      "[CV] END ......max_depth=10, max_features=0.9336593806726485; total time=   0.0s\n",
      "[CV] END ......max_depth=10, max_features=0.9336593806726485; total time=   0.0s\n",
      "[CV] END ......max_depth=20, max_features=0.6774742200694874; total time=   0.0s\n",
      "[CV] END ......max_depth=20, max_features=0.6774742200694874; total time=   0.0s\n",
      "[CV] END ......max_depth=20, max_features=0.6774742200694874; total time=   0.0s\n",
      "[CV] END ......max_depth=20, max_features=0.6774742200694874; total time=   0.0s\n",
      "[CV] END ......max_depth=20, max_features=0.6774742200694874; total time=   0.0s\n",
      "[CV] END ......max_depth=18, max_features=0.5417141087374384; total time=   0.0s\n",
      "[CV] END ......max_depth=18, max_features=0.5417141087374384; total time=   0.0s\n",
      "[CV] END ......max_depth=18, max_features=0.5417141087374384; total time=   0.0s\n",
      "[CV] END ......max_depth=18, max_features=0.5417141087374384; total time=   0.0s\n",
      "[CV] END ......max_depth=18, max_features=0.5417141087374384; total time=   0.0s\n",
      "[CV] END ......max_depth=13, max_features=0.3045645848464129; total time=   0.0s\n",
      "[CV] END ......max_depth=13, max_features=0.3045645848464129; total time=   0.0s\n",
      "[CV] END ......max_depth=13, max_features=0.3045645848464129; total time=   0.0s\n",
      "[CV] END ......max_depth=13, max_features=0.3045645848464129; total time=   0.0s\n",
      "[CV] END ......max_depth=13, max_features=0.3045645848464129; total time=   0.0s\n",
      "[CV] END ......max_depth=13, max_features=0.5081159936121068; total time=   0.0s\n",
      "[CV] END ......max_depth=13, max_features=0.5081159936121068; total time=   0.0s\n",
      "[CV] END ......max_depth=13, max_features=0.5081159936121068; total time=   0.0s\n",
      "[CV] END ......max_depth=13, max_features=0.5081159936121068; total time=   0.0s\n",
      "[CV] END ......max_depth=13, max_features=0.5081159936121068; total time=   0.0s\n",
      "[CV] END ......max_depth=14, max_features=0.8842295131379345; total time=   0.0s\n",
      "[CV] END ......max_depth=14, max_features=0.8842295131379345; total time=   0.0s\n",
      "[CV] END ......max_depth=14, max_features=0.8842295131379345; total time=   0.0s\n",
      "[CV] END ......max_depth=14, max_features=0.8842295131379345; total time=   0.0s\n",
      "[CV] END ......max_depth=14, max_features=0.8842295131379345; total time=   0.0s\n",
      "[CV] END ......max_depth=10, max_features=0.5064949046839641; total time=   0.0s\n",
      "[CV] END ......max_depth=10, max_features=0.5064949046839641; total time=   0.0s\n",
      "[CV] END ......max_depth=10, max_features=0.5064949046839641; total time=   0.0s\n",
      "[CV] END ......max_depth=10, max_features=0.5064949046839641; total time=   0.0s\n",
      "[CV] END ......max_depth=10, max_features=0.5064949046839641; total time=   0.0s\n",
      "[CV] END ......max_depth=12, max_features=0.6785955272068621; total time=   0.0s\n",
      "[CV] END ......max_depth=12, max_features=0.6785955272068621; total time=   0.0s\n",
      "[CV] END ......max_depth=12, max_features=0.6785955272068621; total time=   0.0s\n",
      "[CV] END ......max_depth=12, max_features=0.6785955272068621; total time=   0.0s\n",
      "[CV] END ......max_depth=12, max_features=0.6785955272068621; total time=   0.0s\n",
      "[CV] END ......max_depth=5, max_features=0.49152826963898855; total time=   0.0s\n",
      "[CV] END ......max_depth=5, max_features=0.49152826963898855; total time=   0.0s\n",
      "[CV] END ......max_depth=5, max_features=0.49152826963898855; total time=   0.0s\n",
      "[CV] END ......max_depth=5, max_features=0.49152826963898855; total time=   0.0s\n",
      "[CV] END ......max_depth=5, max_features=0.49152826963898855; total time=   0.0s\n",
      "[CV] END ......max_depth=15, max_features=0.5594090115963597; total time=   0.0s\n",
      "[CV] END ......max_depth=15, max_features=0.5594090115963597; total time=   0.0s\n",
      "[CV] END ......max_depth=15, max_features=0.5594090115963597; total time=   0.0s\n",
      "[CV] END ......max_depth=15, max_features=0.5594090115963597; total time=   0.0s\n",
      "[CV] END ......max_depth=15, max_features=0.5594090115963597; total time=   0.0s\n",
      "[CV] END ......max_depth=26, max_features=0.7341462501882392; total time=   0.0s\n",
      "[CV] END ......max_depth=26, max_features=0.7341462501882392; total time=   0.0s\n",
      "[CV] END ......max_depth=26, max_features=0.7341462501882392; total time=   0.0s\n",
      "[CV] END ......max_depth=26, max_features=0.7341462501882392; total time=   0.0s\n",
      "[CV] END ......max_depth=26, max_features=0.7341462501882392; total time=   0.0s\n",
      "[CV] END .....max_depth=22, max_features=0.35022156287899486; total time=   0.0s\n",
      "[CV] END .....max_depth=22, max_features=0.35022156287899486; total time=   0.0s\n",
      "[CV] END .....max_depth=22, max_features=0.35022156287899486; total time=   0.0s\n",
      "[CV] END .....max_depth=22, max_features=0.35022156287899486; total time=   0.0s\n",
      "[CV] END .....max_depth=22, max_features=0.35022156287899486; total time=   0.0s\n",
      "[CV] END ......max_depth=22, max_features=0.5492329631909016; total time=   0.0s\n",
      "[CV] END ......max_depth=22, max_features=0.5492329631909016; total time=   0.0s\n",
      "[CV] END ......max_depth=22, max_features=0.5492329631909016; total time=   0.0s\n",
      "[CV] END ......max_depth=22, max_features=0.5492329631909016; total time=   0.0s\n"
     ]
    },
    {
     "name": "stdout",
     "output_type": "stream",
     "text": [
      "[CV] END ......max_depth=22, max_features=0.5492329631909016; total time=   0.0s\n",
      "[CV] END ......max_depth=24, max_features=0.5417141087374384; total time=   0.0s\n",
      "[CV] END ......max_depth=24, max_features=0.5417141087374384; total time=   0.0s\n",
      "[CV] END ......max_depth=24, max_features=0.5417141087374384; total time=   0.0s\n",
      "[CV] END ......max_depth=24, max_features=0.5417141087374384; total time=   0.0s\n",
      "[CV] END ......max_depth=24, max_features=0.5417141087374384; total time=   0.0s\n",
      "[CV] END ......max_depth=26, max_features=0.6439634135094148; total time=   0.0s\n",
      "[CV] END ......max_depth=26, max_features=0.6439634135094148; total time=   0.0s\n",
      "[CV] END ......max_depth=26, max_features=0.6439634135094148; total time=   0.0s\n",
      "[CV] END ......max_depth=26, max_features=0.6439634135094148; total time=   0.0s\n",
      "[CV] END ......max_depth=26, max_features=0.6439634135094148; total time=   0.0s\n",
      "[CV] END ......max_depth=26, max_features=0.6686827450404402; total time=   0.0s\n",
      "[CV] END ......max_depth=26, max_features=0.6686827450404402; total time=   0.0s\n",
      "[CV] END ......max_depth=26, max_features=0.6686827450404402; total time=   0.0s\n",
      "[CV] END ......max_depth=26, max_features=0.6686827450404402; total time=   0.0s\n",
      "[CV] END ......max_depth=26, max_features=0.6686827450404402; total time=   0.0s\n",
      "[CV] END ......max_depth=29, max_features=0.4345141078592528; total time=   0.0s\n",
      "[CV] END ......max_depth=29, max_features=0.4345141078592528; total time=   0.0s\n",
      "[CV] END ......max_depth=29, max_features=0.4345141078592528; total time=   0.0s\n",
      "[CV] END ......max_depth=29, max_features=0.4345141078592528; total time=   0.0s\n",
      "[CV] END ......max_depth=29, max_features=0.4345141078592528; total time=   0.0s\n",
      "[CV] END ......max_depth=24, max_features=0.3045645848464129; total time=   0.0s\n",
      "[CV] END ......max_depth=24, max_features=0.3045645848464129; total time=   0.0s\n",
      "[CV] END ......max_depth=24, max_features=0.3045645848464129; total time=   0.0s\n",
      "[CV] END ......max_depth=24, max_features=0.3045645848464129; total time=   0.0s\n",
      "[CV] END ......max_depth=24, max_features=0.3045645848464129; total time=   0.0s\n",
      "[CV] END ......max_depth=15, max_features=0.9907249904836113; total time=   0.0s\n",
      "[CV] END ......max_depth=15, max_features=0.9907249904836113; total time=   0.0s\n",
      "[CV] END ......max_depth=15, max_features=0.9907249904836113; total time=   0.0s\n",
      "[CV] END ......max_depth=15, max_features=0.9907249904836113; total time=   0.0s\n",
      "[CV] END ......max_depth=15, max_features=0.9907249904836113; total time=   0.0s\n",
      "[CV] END .....max_depth=18, max_features=0.36402597140791293; total time=   0.0s\n",
      "[CV] END .....max_depth=18, max_features=0.36402597140791293; total time=   0.0s\n",
      "[CV] END .....max_depth=18, max_features=0.36402597140791293; total time=   0.0s\n",
      "[CV] END .....max_depth=18, max_features=0.36402597140791293; total time=   0.0s\n",
      "[CV] END .....max_depth=18, max_features=0.36402597140791293; total time=   0.0s\n",
      "[CV] END ......max_depth=17, max_features=0.8471133734867233; total time=   0.0s\n",
      "[CV] END ......max_depth=17, max_features=0.8471133734867233; total time=   0.0s\n",
      "[CV] END ......max_depth=17, max_features=0.8471133734867233; total time=   0.0s\n",
      "[CV] END ......max_depth=17, max_features=0.8471133734867233; total time=   0.0s\n",
      "[CV] END ......max_depth=17, max_features=0.8471133734867233; total time=   0.0s\n",
      "[CV] END .......max_depth=7, max_features=0.9986997508914017; total time=   0.0s\n",
      "[CV] END .......max_depth=7, max_features=0.9986997508914017; total time=   0.0s\n",
      "[CV] END .......max_depth=7, max_features=0.9986997508914017; total time=   0.0s\n",
      "[CV] END .......max_depth=7, max_features=0.9986997508914017; total time=   0.0s\n",
      "[CV] END .......max_depth=7, max_features=0.9986997508914017; total time=   0.0s\n",
      "[CV] END ......max_depth=23, max_features=0.9793198755240371; total time=   0.0s\n",
      "[CV] END ......max_depth=23, max_features=0.9793198755240371; total time=   0.0s\n",
      "[CV] END ......max_depth=23, max_features=0.9793198755240371; total time=   0.0s\n",
      "[CV] END ......max_depth=23, max_features=0.9793198755240371; total time=   0.0s\n",
      "[CV] END ......max_depth=23, max_features=0.9793198755240371; total time=   0.0s\n",
      "[CV] END .......max_depth=5, max_features=0.6747786478756828; total time=   0.0s\n",
      "[CV] END .......max_depth=5, max_features=0.6747786478756828; total time=   0.0s\n",
      "[CV] END .......max_depth=5, max_features=0.6747786478756828; total time=   0.0s\n",
      "[CV] END .......max_depth=5, max_features=0.6747786478756828; total time=   0.0s\n",
      "[CV] END .......max_depth=5, max_features=0.6747786478756828; total time=   0.0s\n",
      "[CV] END ......max_depth=10, max_features=0.6785955272068621; total time=   0.0s\n",
      "[CV] END ......max_depth=10, max_features=0.6785955272068621; total time=   0.0s\n",
      "[CV] END ......max_depth=10, max_features=0.6785955272068621; total time=   0.0s\n",
      "[CV] END ......max_depth=10, max_features=0.6785955272068621; total time=   0.0s\n",
      "[CV] END ......max_depth=10, max_features=0.6785955272068621; total time=   0.0s\n",
      "Fitting 5 folds for each of 100 candidates, totalling 500 fits\n",
      "[CV] END ......max_depth=27, max_features=0.4365974530402613; total time=   0.0s\n",
      "[CV] END ......max_depth=27, max_features=0.4365974530402613; total time=   0.0s\n",
      "[CV] END ......max_depth=27, max_features=0.4365974530402613; total time=   0.0s\n",
      "[CV] END ......max_depth=27, max_features=0.4365974530402613; total time=   0.0s\n",
      "[CV] END ......max_depth=27, max_features=0.4365974530402613; total time=   0.0s\n",
      "[CV] END ......max_depth=16, max_features=0.9817240222087027; total time=   0.1s\n",
      "[CV] END ......max_depth=16, max_features=0.9817240222087027; total time=   0.0s\n",
      "[CV] END ......max_depth=16, max_features=0.9817240222087027; total time=   0.0s\n",
      "[CV] END ......max_depth=16, max_features=0.9817240222087027; total time=   0.0s\n",
      "[CV] END ......max_depth=16, max_features=0.9817240222087027; total time=   0.0s\n",
      "[CV] END .......max_depth=9, max_features=0.8728320747032252; total time=   0.0s\n",
      "[CV] END .......max_depth=9, max_features=0.8728320747032252; total time=   0.0s\n",
      "[CV] END .......max_depth=9, max_features=0.8728320747032252; total time=   0.0s\n",
      "[CV] END .......max_depth=9, max_features=0.8728320747032252; total time=   0.0s\n",
      "[CV] END .......max_depth=9, max_features=0.8728320747032252; total time=   0.0s\n",
      "[CV] END .....max_depth=18, max_features=0.41645370724560965; total time=   0.0s\n",
      "[CV] END .....max_depth=18, max_features=0.41645370724560965; total time=   0.0s\n",
      "[CV] END .....max_depth=18, max_features=0.41645370724560965; total time=   0.0s\n",
      "[CV] END .....max_depth=18, max_features=0.41645370724560965; total time=   0.0s\n",
      "[CV] END .....max_depth=18, max_features=0.41645370724560965; total time=   0.0s\n",
      "[CV] END ......max_depth=28, max_features=0.7076272008274944; total time=   0.1s\n",
      "[CV] END ......max_depth=28, max_features=0.7076272008274944; total time=   0.0s\n",
      "[CV] END ......max_depth=28, max_features=0.7076272008274944; total time=   0.1s\n",
      "[CV] END ......max_depth=28, max_features=0.7076272008274944; total time=   0.0s\n",
      "[CV] END ......max_depth=28, max_features=0.7076272008274944; total time=   0.0s\n",
      "[CV] END ........max_depth=22, max_features=0.50020543162277; total time=   0.0s\n",
      "[CV] END ........max_depth=22, max_features=0.50020543162277; total time=   0.0s\n",
      "[CV] END ........max_depth=22, max_features=0.50020543162277; total time=   0.0s\n",
      "[CV] END ........max_depth=22, max_features=0.50020543162277; total time=   0.0s\n",
      "[CV] END ........max_depth=22, max_features=0.50020543162277; total time=   0.1s\n",
      "[CV] END ......max_depth=29, max_features=0.3197339613178493; total time=   0.0s\n",
      "[CV] END ......max_depth=29, max_features=0.3197339613178493; total time=   0.0s\n",
      "[CV] END ......max_depth=29, max_features=0.3197339613178493; total time=   0.0s\n",
      "[CV] END ......max_depth=29, max_features=0.3197339613178493; total time=   0.0s\n",
      "[CV] END ......max_depth=29, max_features=0.3197339613178493; total time=   0.0s\n",
      "[CV] END ......max_depth=13, max_features=0.9951589775595922; total time=   0.1s\n",
      "[CV] END ......max_depth=13, max_features=0.9951589775595922; total time=   0.0s\n",
      "[CV] END ......max_depth=13, max_features=0.9951589775595922; total time=   0.1s\n",
      "[CV] END ......max_depth=13, max_features=0.9951589775595922; total time=   0.1s\n",
      "[CV] END ......max_depth=13, max_features=0.9951589775595922; total time=   0.1s\n"
     ]
    },
    {
     "name": "stdout",
     "output_type": "stream",
     "text": [
      "[CV] END ......max_depth=11, max_features=0.7573142247454802; total time=   0.1s\n",
      "[CV] END ......max_depth=11, max_features=0.7573142247454802; total time=   0.1s\n",
      "[CV] END ......max_depth=11, max_features=0.7573142247454802; total time=   0.1s\n",
      "[CV] END ......max_depth=11, max_features=0.7573142247454802; total time=   0.1s\n",
      "[CV] END ......max_depth=11, max_features=0.7573142247454802; total time=   0.1s\n",
      "[CV] END ......max_depth=18, max_features=0.8048723037010415; total time=   0.0s\n",
      "[CV] END ......max_depth=18, max_features=0.8048723037010415; total time=   0.0s\n",
      "[CV] END ......max_depth=18, max_features=0.8048723037010415; total time=   0.0s\n",
      "[CV] END ......max_depth=18, max_features=0.8048723037010415; total time=   0.0s\n",
      "[CV] END ......max_depth=18, max_features=0.8048723037010415; total time=   0.1s\n",
      "[CV] END ......max_depth=29, max_features=0.4013526997795136; total time=   0.0s\n",
      "[CV] END ......max_depth=29, max_features=0.4013526997795136; total time=   0.0s\n",
      "[CV] END ......max_depth=29, max_features=0.4013526997795136; total time=   0.0s\n",
      "[CV] END ......max_depth=29, max_features=0.4013526997795136; total time=   0.0s\n",
      "[CV] END ......max_depth=29, max_features=0.4013526997795136; total time=   0.0s\n",
      "[CV] END .....max_depth=21, max_features=0.37027503410634865; total time=   0.0s\n",
      "[CV] END .....max_depth=21, max_features=0.37027503410634865; total time=   0.0s\n",
      "[CV] END .....max_depth=21, max_features=0.37027503410634865; total time=   0.1s\n",
      "[CV] END .....max_depth=21, max_features=0.37027503410634865; total time=   0.0s\n",
      "[CV] END .....max_depth=21, max_features=0.37027503410634865; total time=   0.0s\n",
      "[CV] END ......max_depth=22, max_features=0.6549882649375499; total time=   0.0s\n",
      "[CV] END ......max_depth=22, max_features=0.6549882649375499; total time=   0.1s\n",
      "[CV] END ......max_depth=22, max_features=0.6549882649375499; total time=   0.0s\n",
      "[CV] END ......max_depth=22, max_features=0.6549882649375499; total time=   0.0s\n",
      "[CV] END ......max_depth=22, max_features=0.6549882649375499; total time=   0.0s\n",
      "[CV] END ......max_depth=11, max_features=0.9369442181061232; total time=   0.0s\n",
      "[CV] END ......max_depth=11, max_features=0.9369442181061232; total time=   0.0s\n",
      "[CV] END ......max_depth=11, max_features=0.9369442181061232; total time=   0.1s\n",
      "[CV] END ......max_depth=11, max_features=0.9369442181061232; total time=   0.0s\n",
      "[CV] END ......max_depth=11, max_features=0.9369442181061232; total time=   0.0s\n",
      "[CV] END .......max_depth=9, max_features=0.9256431047588449; total time=   0.0s\n",
      "[CV] END .......max_depth=9, max_features=0.9256431047588449; total time=   0.1s\n",
      "[CV] END .......max_depth=9, max_features=0.9256431047588449; total time=   0.1s\n",
      "[CV] END .......max_depth=9, max_features=0.9256431047588449; total time=   0.1s\n",
      "[CV] END .......max_depth=9, max_features=0.9256431047588449; total time=   0.0s\n",
      "[CV] END ......max_depth=26, max_features=0.8062879346700782; total time=   0.1s\n",
      "[CV] END ......max_depth=26, max_features=0.8062879346700782; total time=   0.1s\n",
      "[CV] END ......max_depth=26, max_features=0.8062879346700782; total time=   0.0s\n",
      "[CV] END ......max_depth=26, max_features=0.8062879346700782; total time=   0.0s\n",
      "[CV] END ......max_depth=26, max_features=0.8062879346700782; total time=   0.0s\n",
      "[CV] END ......max_depth=29, max_features=0.5443057717563492; total time=   0.0s\n",
      "[CV] END ......max_depth=29, max_features=0.5443057717563492; total time=   0.0s\n",
      "[CV] END ......max_depth=29, max_features=0.5443057717563492; total time=   0.0s\n",
      "[CV] END ......max_depth=29, max_features=0.5443057717563492; total time=   0.0s\n",
      "[CV] END ......max_depth=29, max_features=0.5443057717563492; total time=   0.0s\n",
      "[CV] END ......max_depth=20, max_features=0.8978405362334272; total time=   0.0s\n",
      "[CV] END ......max_depth=20, max_features=0.8978405362334272; total time=   0.0s\n",
      "[CV] END ......max_depth=20, max_features=0.8978405362334272; total time=   0.1s\n",
      "[CV] END ......max_depth=20, max_features=0.8978405362334272; total time=   0.1s\n",
      "[CV] END ......max_depth=20, max_features=0.8978405362334272; total time=   0.1s\n",
      "[CV] END .......max_depth=5, max_features=0.6399213020115082; total time=   0.0s\n",
      "[CV] END .......max_depth=5, max_features=0.6399213020115082; total time=   0.0s\n",
      "[CV] END .......max_depth=5, max_features=0.6399213020115082; total time=   0.0s\n",
      "[CV] END .......max_depth=5, max_features=0.6399213020115082; total time=   0.0s\n",
      "[CV] END .......max_depth=5, max_features=0.6399213020115082; total time=   0.0s\n",
      "[CV] END .......max_depth=9, max_features=0.4013526997795136; total time=   0.0s\n",
      "[CV] END .......max_depth=9, max_features=0.4013526997795136; total time=   0.0s\n",
      "[CV] END .......max_depth=9, max_features=0.4013526997795136; total time=   0.0s\n",
      "[CV] END .......max_depth=9, max_features=0.4013526997795136; total time=   0.0s\n",
      "[CV] END .......max_depth=9, max_features=0.4013526997795136; total time=   0.0s\n",
      "[CV] END ......max_depth=29, max_features=0.3385704392517458; total time=   0.0s\n",
      "[CV] END ......max_depth=29, max_features=0.3385704392517458; total time=   0.0s\n",
      "[CV] END ......max_depth=29, max_features=0.3385704392517458; total time=   0.0s\n",
      "[CV] END ......max_depth=29, max_features=0.3385704392517458; total time=   0.0s\n",
      "[CV] END ......max_depth=29, max_features=0.3385704392517458; total time=   0.0s\n",
      "[CV] END .......max_depth=7, max_features=0.3197339613178493; total time=   0.0s\n",
      "[CV] END .......max_depth=7, max_features=0.3197339613178493; total time=   0.0s\n",
      "[CV] END .......max_depth=7, max_features=0.3197339613178493; total time=   0.0s\n",
      "[CV] END .......max_depth=7, max_features=0.3197339613178493; total time=   0.0s\n",
      "[CV] END .......max_depth=7, max_features=0.3197339613178493; total time=   0.0s\n",
      "[CV] END .....max_depth=24, max_features=0.34304606557926487; total time=   0.0s\n",
      "[CV] END .....max_depth=24, max_features=0.34304606557926487; total time=   0.0s\n",
      "[CV] END .....max_depth=24, max_features=0.34304606557926487; total time=   0.0s\n",
      "[CV] END .....max_depth=24, max_features=0.34304606557926487; total time=   0.0s\n",
      "[CV] END .....max_depth=24, max_features=0.34304606557926487; total time=   0.0s\n",
      "[CV] END ......max_depth=18, max_features=0.8086342658965981; total time=   0.1s\n",
      "[CV] END ......max_depth=18, max_features=0.8086342658965981; total time=   0.0s\n",
      "[CV] END ......max_depth=18, max_features=0.8086342658965981; total time=   0.0s\n",
      "[CV] END ......max_depth=18, max_features=0.8086342658965981; total time=   0.0s\n",
      "[CV] END ......max_depth=18, max_features=0.8086342658965981; total time=   0.1s\n",
      "[CV] END ......max_depth=19, max_features=0.6549882649375499; total time=   0.0s\n",
      "[CV] END ......max_depth=19, max_features=0.6549882649375499; total time=   0.1s\n",
      "[CV] END ......max_depth=19, max_features=0.6549882649375499; total time=   0.1s\n",
      "[CV] END ......max_depth=19, max_features=0.6549882649375499; total time=   0.1s\n",
      "[CV] END ......max_depth=19, max_features=0.6549882649375499; total time=   0.0s\n",
      "[CV] END ......max_depth=21, max_features=0.8452383495461657; total time=   0.1s\n",
      "[CV] END ......max_depth=21, max_features=0.8452383495461657; total time=   0.1s\n",
      "[CV] END ......max_depth=21, max_features=0.8452383495461657; total time=   0.0s\n",
      "[CV] END ......max_depth=21, max_features=0.8452383495461657; total time=   0.0s\n",
      "[CV] END ......max_depth=21, max_features=0.8452383495461657; total time=   0.0s\n",
      "[CV] END .......max_depth=8, max_features=0.8452383495461657; total time=   0.0s\n",
      "[CV] END .......max_depth=8, max_features=0.8452383495461657; total time=   0.0s\n",
      "[CV] END .......max_depth=8, max_features=0.8452383495461657; total time=   0.0s\n",
      "[CV] END .......max_depth=8, max_features=0.8452383495461657; total time=   0.0s\n",
      "[CV] END .......max_depth=8, max_features=0.8452383495461657; total time=   0.1s\n",
      "[CV] END ......max_depth=21, max_features=0.7000293198397313; total time=   0.0s\n",
      "[CV] END ......max_depth=21, max_features=0.7000293198397313; total time=   0.0s\n",
      "[CV] END ......max_depth=21, max_features=0.7000293198397313; total time=   0.0s\n",
      "[CV] END ......max_depth=21, max_features=0.7000293198397313; total time=   0.0s\n",
      "[CV] END ......max_depth=21, max_features=0.7000293198397313; total time=   0.0s\n",
      "[CV] END ......max_depth=17, max_features=0.7941513871165262; total time=   0.0s\n",
      "[CV] END ......max_depth=17, max_features=0.7941513871165262; total time=   0.1s\n",
      "[CV] END ......max_depth=17, max_features=0.7941513871165262; total time=   0.1s\n"
     ]
    },
    {
     "name": "stdout",
     "output_type": "stream",
     "text": [
      "[CV] END ......max_depth=17, max_features=0.7941513871165262; total time=   0.0s\n",
      "[CV] END ......max_depth=17, max_features=0.7941513871165262; total time=   0.0s\n",
      "[CV] END ......max_depth=10, max_features=0.7012227492783167; total time=   0.1s\n",
      "[CV] END ......max_depth=10, max_features=0.7012227492783167; total time=   0.0s\n",
      "[CV] END ......max_depth=10, max_features=0.7012227492783167; total time=   0.0s\n",
      "[CV] END ......max_depth=10, max_features=0.7012227492783167; total time=   0.0s\n",
      "[CV] END ......max_depth=10, max_features=0.7012227492783167; total time=   0.0s\n",
      "[CV] END .......max_depth=8, max_features=0.7076272008274944; total time=   0.0s\n",
      "[CV] END .......max_depth=8, max_features=0.7076272008274944; total time=   0.0s\n",
      "[CV] END .......max_depth=8, max_features=0.7076272008274944; total time=   0.1s\n",
      "[CV] END .......max_depth=8, max_features=0.7076272008274944; total time=   0.0s\n",
      "[CV] END .......max_depth=8, max_features=0.7076272008274944; total time=   0.0s\n",
      "[CV] END ......max_depth=14, max_features=0.7955834139312621; total time=   0.0s\n",
      "[CV] END ......max_depth=14, max_features=0.7955834139312621; total time=   0.0s\n",
      "[CV] END ......max_depth=14, max_features=0.7955834139312621; total time=   0.1s\n",
      "[CV] END ......max_depth=14, max_features=0.7955834139312621; total time=   0.1s\n",
      "[CV] END ......max_depth=14, max_features=0.7955834139312621; total time=   0.1s\n",
      "[CV] END ......max_depth=14, max_features=0.8086342658965981; total time=   0.1s\n",
      "[CV] END ......max_depth=14, max_features=0.8086342658965981; total time=   0.0s\n",
      "[CV] END ......max_depth=14, max_features=0.8086342658965981; total time=   0.0s\n",
      "[CV] END ......max_depth=14, max_features=0.8086342658965981; total time=   0.0s\n",
      "[CV] END ......max_depth=14, max_features=0.8086342658965981; total time=   0.1s\n",
      "[CV] END ......max_depth=19, max_features=0.7894093238214186; total time=   0.1s\n",
      "[CV] END ......max_depth=19, max_features=0.7894093238214186; total time=   0.0s\n",
      "[CV] END ......max_depth=19, max_features=0.7894093238214186; total time=   0.0s\n",
      "[CV] END ......max_depth=19, max_features=0.7894093238214186; total time=   0.0s\n",
      "[CV] END ......max_depth=19, max_features=0.7894093238214186; total time=   0.1s\n",
      "[CV] END .......max_depth=7, max_features=0.7076272008274944; total time=   0.0s\n",
      "[CV] END .......max_depth=7, max_features=0.7076272008274944; total time=   0.0s\n",
      "[CV] END .......max_depth=7, max_features=0.7076272008274944; total time=   0.1s\n",
      "[CV] END .......max_depth=7, max_features=0.7076272008274944; total time=   0.0s\n",
      "[CV] END .......max_depth=7, max_features=0.7076272008274944; total time=   0.0s\n",
      "[CV] END ......max_depth=29, max_features=0.7000293198397313; total time=   0.0s\n",
      "[CV] END ......max_depth=29, max_features=0.7000293198397313; total time=   0.1s\n",
      "[CV] END ......max_depth=29, max_features=0.7000293198397313; total time=   0.0s\n",
      "[CV] END ......max_depth=29, max_features=0.7000293198397313; total time=   0.0s\n",
      "[CV] END ......max_depth=29, max_features=0.7000293198397313; total time=   0.1s\n",
      "[CV] END .......max_depth=6, max_features=0.6860478274375188; total time=   0.0s\n",
      "[CV] END .......max_depth=6, max_features=0.6860478274375188; total time=   0.0s\n",
      "[CV] END .......max_depth=6, max_features=0.6860478274375188; total time=   0.0s\n",
      "[CV] END .......max_depth=6, max_features=0.6860478274375188; total time=   0.0s\n",
      "[CV] END .......max_depth=6, max_features=0.6860478274375188; total time=   0.0s\n",
      "[CV] END .......max_depth=17, max_features=0.349864323433519; total time=   0.0s\n",
      "[CV] END .......max_depth=17, max_features=0.349864323433519; total time=   0.0s\n",
      "[CV] END .......max_depth=17, max_features=0.349864323433519; total time=   0.0s\n",
      "[CV] END .......max_depth=17, max_features=0.349864323433519; total time=   0.0s\n",
      "[CV] END .......max_depth=17, max_features=0.349864323433519; total time=   0.0s\n",
      "[CV] END ......max_depth=21, max_features=0.8728320747032252; total time=   0.0s\n",
      "[CV] END ......max_depth=21, max_features=0.8728320747032252; total time=   0.0s\n",
      "[CV] END ......max_depth=21, max_features=0.8728320747032252; total time=   0.0s\n",
      "[CV] END ......max_depth=21, max_features=0.8728320747032252; total time=   0.0s\n",
      "[CV] END ......max_depth=21, max_features=0.8728320747032252; total time=   0.0s\n",
      "[CV] END ......max_depth=20, max_features=0.9197130408525505; total time=   0.0s\n",
      "[CV] END ......max_depth=20, max_features=0.9197130408525505; total time=   0.1s\n",
      "[CV] END ......max_depth=20, max_features=0.9197130408525505; total time=   0.0s\n",
      "[CV] END ......max_depth=20, max_features=0.9197130408525505; total time=   0.1s\n",
      "[CV] END ......max_depth=20, max_features=0.9197130408525505; total time=   0.1s\n",
      "[CV] END ........max_depth=9, max_features=0.747265415671337; total time=   0.0s\n",
      "[CV] END ........max_depth=9, max_features=0.747265415671337; total time=   0.0s\n",
      "[CV] END ........max_depth=9, max_features=0.747265415671337; total time=   0.1s\n",
      "[CV] END ........max_depth=9, max_features=0.747265415671337; total time=   0.0s\n",
      "[CV] END ........max_depth=9, max_features=0.747265415671337; total time=   0.0s\n",
      "[CV] END ......max_depth=15, max_features=0.8370850820516431; total time=   0.0s\n",
      "[CV] END ......max_depth=15, max_features=0.8370850820516431; total time=   0.1s\n",
      "[CV] END ......max_depth=15, max_features=0.8370850820516431; total time=   0.1s\n",
      "[CV] END ......max_depth=15, max_features=0.8370850820516431; total time=   0.1s\n",
      "[CV] END ......max_depth=15, max_features=0.8370850820516431; total time=   0.1s\n",
      "[CV] END ......max_depth=17, max_features=0.9369442181061232; total time=   0.1s\n",
      "[CV] END ......max_depth=17, max_features=0.9369442181061232; total time=   0.0s\n",
      "[CV] END ......max_depth=17, max_features=0.9369442181061232; total time=   0.0s\n",
      "[CV] END ......max_depth=17, max_features=0.9369442181061232; total time=   0.0s\n",
      "[CV] END ......max_depth=17, max_features=0.9369442181061232; total time=   0.0s\n",
      "[CV] END ......max_depth=13, max_features=0.5175041812850935; total time=   0.0s\n",
      "[CV] END ......max_depth=13, max_features=0.5175041812850935; total time=   0.1s\n",
      "[CV] END ......max_depth=13, max_features=0.5175041812850935; total time=   0.0s\n",
      "[CV] END ......max_depth=13, max_features=0.5175041812850935; total time=   0.0s\n",
      "[CV] END ......max_depth=13, max_features=0.5175041812850935; total time=   0.0s\n",
      "[CV] END ......max_depth=18, max_features=0.6706783763814455; total time=   0.1s\n",
      "[CV] END ......max_depth=18, max_features=0.6706783763814455; total time=   0.0s\n",
      "[CV] END ......max_depth=18, max_features=0.6706783763814455; total time=   0.0s\n",
      "[CV] END ......max_depth=18, max_features=0.6706783763814455; total time=   0.1s\n",
      "[CV] END ......max_depth=18, max_features=0.6706783763814455; total time=   0.1s\n",
      "[CV] END ......max_depth=26, max_features=0.5346333842149732; total time=   0.0s\n",
      "[CV] END ......max_depth=26, max_features=0.5346333842149732; total time=   0.0s\n",
      "[CV] END ......max_depth=26, max_features=0.5346333842149732; total time=   0.1s\n",
      "[CV] END ......max_depth=26, max_features=0.5346333842149732; total time=   0.0s\n",
      "[CV] END ......max_depth=26, max_features=0.5346333842149732; total time=   0.1s\n",
      "[CV] END ......max_depth=10, max_features=0.6399213020115082; total time=   0.0s\n",
      "[CV] END ......max_depth=10, max_features=0.6399213020115082; total time=   0.1s\n",
      "[CV] END ......max_depth=10, max_features=0.6399213020115082; total time=   0.0s\n",
      "[CV] END ......max_depth=10, max_features=0.6399213020115082; total time=   0.1s\n",
      "[CV] END ......max_depth=10, max_features=0.6399213020115082; total time=   0.1s\n",
      "[CV] END ......max_depth=22, max_features=0.9678245613413181; total time=   0.1s\n",
      "[CV] END ......max_depth=22, max_features=0.9678245613413181; total time=   0.0s\n",
      "[CV] END ......max_depth=22, max_features=0.9678245613413181; total time=   0.0s\n",
      "[CV] END ......max_depth=22, max_features=0.9678245613413181; total time=   0.0s\n",
      "[CV] END ......max_depth=22, max_features=0.9678245613413181; total time=   0.1s\n",
      "[CV] END ......max_depth=17, max_features=0.7217725587593253; total time=   0.1s\n",
      "[CV] END ......max_depth=17, max_features=0.7217725587593253; total time=   0.0s\n",
      "[CV] END ......max_depth=17, max_features=0.7217725587593253; total time=   0.0s\n",
      "[CV] END ......max_depth=17, max_features=0.7217725587593253; total time=   0.0s\n",
      "[CV] END ......max_depth=17, max_features=0.7217725587593253; total time=   0.0s\n"
     ]
    },
    {
     "name": "stdout",
     "output_type": "stream",
     "text": [
      "[CV] END ......max_depth=26, max_features=0.7894093238214186; total time=   0.1s\n",
      "[CV] END ......max_depth=26, max_features=0.7894093238214186; total time=   0.0s\n",
      "[CV] END ......max_depth=26, max_features=0.7894093238214186; total time=   0.0s\n",
      "[CV] END ......max_depth=26, max_features=0.7894093238214186; total time=   0.0s\n",
      "[CV] END ......max_depth=26, max_features=0.7894093238214186; total time=   0.1s\n",
      "[CV] END ......max_depth=19, max_features=0.4365974530402613; total time=   0.0s\n",
      "[CV] END ......max_depth=19, max_features=0.4365974530402613; total time=   0.1s\n",
      "[CV] END ......max_depth=19, max_features=0.4365974530402613; total time=   0.0s\n",
      "[CV] END ......max_depth=19, max_features=0.4365974530402613; total time=   0.0s\n",
      "[CV] END ......max_depth=19, max_features=0.4365974530402613; total time=   0.0s\n",
      "[CV] END ......max_depth=21, max_features=0.4960074011137193; total time=   0.0s\n",
      "[CV] END ......max_depth=21, max_features=0.4960074011137193; total time=   0.0s\n",
      "[CV] END ......max_depth=21, max_features=0.4960074011137193; total time=   0.0s\n",
      "[CV] END ......max_depth=21, max_features=0.4960074011137193; total time=   0.0s\n",
      "[CV] END ......max_depth=21, max_features=0.4960074011137193; total time=   0.0s\n",
      "[CV] END ......max_depth=18, max_features=0.9951589775595922; total time=   0.1s\n",
      "[CV] END ......max_depth=18, max_features=0.9951589775595922; total time=   0.1s\n",
      "[CV] END ......max_depth=18, max_features=0.9951589775595922; total time=   0.1s\n",
      "[CV] END ......max_depth=18, max_features=0.9951589775595922; total time=   0.0s\n",
      "[CV] END ......max_depth=18, max_features=0.9951589775595922; total time=   0.1s\n",
      "[CV] END ......max_depth=23, max_features=0.5421233879101784; total time=   0.0s\n",
      "[CV] END ......max_depth=23, max_features=0.5421233879101784; total time=   0.1s\n",
      "[CV] END ......max_depth=23, max_features=0.5421233879101784; total time=   0.1s\n",
      "[CV] END ......max_depth=23, max_features=0.5421233879101784; total time=   0.0s\n",
      "[CV] END ......max_depth=23, max_features=0.5421233879101784; total time=   0.1s\n",
      "[CV] END .......max_depth=6, max_features=0.4013526997795136; total time=   0.0s\n",
      "[CV] END .......max_depth=6, max_features=0.4013526997795136; total time=   0.0s\n",
      "[CV] END .......max_depth=6, max_features=0.4013526997795136; total time=   0.0s\n",
      "[CV] END .......max_depth=6, max_features=0.4013526997795136; total time=   0.0s\n",
      "[CV] END .......max_depth=6, max_features=0.4013526997795136; total time=   0.0s\n",
      "[CV] END .......max_depth=5, max_features=0.7445745504782548; total time=   0.0s\n",
      "[CV] END .......max_depth=5, max_features=0.7445745504782548; total time=   0.0s\n",
      "[CV] END .......max_depth=5, max_features=0.7445745504782548; total time=   0.0s\n",
      "[CV] END .......max_depth=5, max_features=0.7445745504782548; total time=   0.0s\n",
      "[CV] END .......max_depth=5, max_features=0.7445745504782548; total time=   0.0s\n",
      "[CV] END ......max_depth=13, max_features=0.6399213020115082; total time=   0.0s\n",
      "[CV] END ......max_depth=13, max_features=0.6399213020115082; total time=   0.0s\n",
      "[CV] END ......max_depth=13, max_features=0.6399213020115082; total time=   0.0s\n",
      "[CV] END ......max_depth=13, max_features=0.6399213020115082; total time=   0.1s\n",
      "[CV] END ......max_depth=13, max_features=0.6399213020115082; total time=   0.1s\n",
      "[CV] END ......max_depth=14, max_features=0.6627924220127628; total time=   0.0s\n",
      "[CV] END ......max_depth=14, max_features=0.6627924220127628; total time=   0.0s\n",
      "[CV] END ......max_depth=14, max_features=0.6627924220127628; total time=   0.0s\n",
      "[CV] END ......max_depth=14, max_features=0.6627924220127628; total time=   0.0s\n",
      "[CV] END ......max_depth=14, max_features=0.6627924220127628; total time=   0.0s\n",
      "[CV] END ........max_depth=8, max_features=0.993076448951091; total time=   0.0s\n",
      "[CV] END ........max_depth=8, max_features=0.993076448951091; total time=   0.0s\n",
      "[CV] END ........max_depth=8, max_features=0.993076448951091; total time=   0.1s\n",
      "[CV] END ........max_depth=8, max_features=0.993076448951091; total time=   0.0s\n",
      "[CV] END ........max_depth=8, max_features=0.993076448951091; total time=   0.0s\n",
      "[CV] END ......max_depth=21, max_features=0.7445745504782548; total time=   0.0s\n",
      "[CV] END ......max_depth=21, max_features=0.7445745504782548; total time=   0.0s\n",
      "[CV] END ......max_depth=21, max_features=0.7445745504782548; total time=   0.0s\n",
      "[CV] END ......max_depth=21, max_features=0.7445745504782548; total time=   0.0s\n",
      "[CV] END ......max_depth=21, max_features=0.7445745504782548; total time=   0.0s\n",
      "[CV] END ......max_depth=14, max_features=0.7012227492783167; total time=   0.0s\n",
      "[CV] END ......max_depth=14, max_features=0.7012227492783167; total time=   0.0s\n",
      "[CV] END ......max_depth=14, max_features=0.7012227492783167; total time=   0.0s\n",
      "[CV] END ......max_depth=14, max_features=0.7012227492783167; total time=   0.0s\n",
      "[CV] END ......max_depth=14, max_features=0.7012227492783167; total time=   0.0s\n",
      "[CV] END ......max_depth=19, max_features=0.8370850820516431; total time=   0.1s\n",
      "[CV] END ......max_depth=19, max_features=0.8370850820516431; total time=   0.0s\n",
      "[CV] END ......max_depth=19, max_features=0.8370850820516431; total time=   0.0s\n",
      "[CV] END ......max_depth=19, max_features=0.8370850820516431; total time=   0.0s\n",
      "[CV] END ......max_depth=19, max_features=0.8370850820516431; total time=   0.1s\n",
      "[CV] END ......max_depth=27, max_features=0.6627924220127628; total time=   0.0s\n",
      "[CV] END ......max_depth=27, max_features=0.6627924220127628; total time=   0.0s\n",
      "[CV] END ......max_depth=27, max_features=0.6627924220127628; total time=   0.0s\n",
      "[CV] END ......max_depth=27, max_features=0.6627924220127628; total time=   0.0s\n",
      "[CV] END ......max_depth=27, max_features=0.6627924220127628; total time=   0.0s\n",
      "[CV] END ......max_depth=29, max_features=0.4960074011137193; total time=   0.0s\n",
      "[CV] END ......max_depth=29, max_features=0.4960074011137193; total time=   0.0s\n",
      "[CV] END ......max_depth=29, max_features=0.4960074011137193; total time=   0.0s\n",
      "[CV] END ......max_depth=29, max_features=0.4960074011137193; total time=   0.1s\n",
      "[CV] END ......max_depth=29, max_features=0.4960074011137193; total time=   0.0s\n",
      "[CV] END ......max_depth=10, max_features=0.5773753263422517; total time=   0.0s\n",
      "[CV] END ......max_depth=10, max_features=0.5773753263422517; total time=   0.0s\n",
      "[CV] END ......max_depth=10, max_features=0.5773753263422517; total time=   0.0s\n",
      "[CV] END ......max_depth=10, max_features=0.5773753263422517; total time=   0.0s\n",
      "[CV] END ......max_depth=10, max_features=0.5773753263422517; total time=   0.0s\n",
      "[CV] END ......max_depth=23, max_features=0.4515256526750553; total time=   0.0s\n",
      "[CV] END ......max_depth=23, max_features=0.4515256526750553; total time=   0.0s\n",
      "[CV] END ......max_depth=23, max_features=0.4515256526750553; total time=   0.0s\n",
      "[CV] END ......max_depth=23, max_features=0.4515256526750553; total time=   0.0s\n",
      "[CV] END ......max_depth=23, max_features=0.4515256526750553; total time=   0.0s\n",
      "[CV] END .......max_depth=7, max_features=0.5667234737871658; total time=   0.0s\n",
      "[CV] END .......max_depth=7, max_features=0.5667234737871658; total time=   0.0s\n",
      "[CV] END .......max_depth=7, max_features=0.5667234737871658; total time=   0.0s\n",
      "[CV] END .......max_depth=7, max_features=0.5667234737871658; total time=   0.0s\n",
      "[CV] END .......max_depth=7, max_features=0.5667234737871658; total time=   0.0s\n",
      "[CV] END ........max_depth=5, max_features=0.923460846585612; total time=   0.0s\n",
      "[CV] END ........max_depth=5, max_features=0.923460846585612; total time=   0.0s\n",
      "[CV] END ........max_depth=5, max_features=0.923460846585612; total time=   0.0s\n",
      "[CV] END ........max_depth=5, max_features=0.923460846585612; total time=   0.0s\n",
      "[CV] END ........max_depth=5, max_features=0.923460846585612; total time=   0.0s\n",
      "[CV] END .......max_depth=6, max_features=0.7000293198397313; total time=   0.0s\n",
      "[CV] END .......max_depth=6, max_features=0.7000293198397313; total time=   0.0s\n",
      "[CV] END .......max_depth=6, max_features=0.7000293198397313; total time=   0.1s\n",
      "[CV] END .......max_depth=6, max_features=0.7000293198397313; total time=   0.0s\n",
      "[CV] END .......max_depth=6, max_features=0.7000293198397313; total time=   0.0s\n",
      "[CV] END .........max_depth=8, max_features=0.41272769249147; total time=   0.0s\n",
      "[CV] END .........max_depth=8, max_features=0.41272769249147; total time=   0.0s\n"
     ]
    },
    {
     "name": "stdout",
     "output_type": "stream",
     "text": [
      "[CV] END .........max_depth=8, max_features=0.41272769249147; total time=   0.0s\n",
      "[CV] END .........max_depth=8, max_features=0.41272769249147; total time=   0.0s\n",
      "[CV] END .........max_depth=8, max_features=0.41272769249147; total time=   0.0s\n",
      "[CV] END .....max_depth=19, max_features=0.37027503410634865; total time=   0.0s\n",
      "[CV] END .....max_depth=19, max_features=0.37027503410634865; total time=   0.0s\n",
      "[CV] END .....max_depth=19, max_features=0.37027503410634865; total time=   0.0s\n",
      "[CV] END .....max_depth=19, max_features=0.37027503410634865; total time=   0.0s\n",
      "[CV] END .....max_depth=19, max_features=0.37027503410634865; total time=   0.0s\n",
      "[CV] END ......max_depth=29, max_features=0.8052588022153802; total time=   0.0s\n",
      "[CV] END ......max_depth=29, max_features=0.8052588022153802; total time=   0.1s\n",
      "[CV] END ......max_depth=29, max_features=0.8052588022153802; total time=   0.1s\n",
      "[CV] END ......max_depth=29, max_features=0.8052588022153802; total time=   0.0s\n",
      "[CV] END ......max_depth=29, max_features=0.8052588022153802; total time=   0.0s\n",
      "[CV] END ......max_depth=19, max_features=0.8370850820516431; total time=   0.1s\n",
      "[CV] END ......max_depth=19, max_features=0.8370850820516431; total time=   0.1s\n",
      "[CV] END ......max_depth=19, max_features=0.8370850820516431; total time=   0.0s\n",
      "[CV] END ......max_depth=19, max_features=0.8370850820516431; total time=   0.1s\n",
      "[CV] END ......max_depth=19, max_features=0.8370850820516431; total time=   0.0s\n",
      "[CV] END ......max_depth=27, max_features=0.5772679642764831; total time=   0.0s\n",
      "[CV] END ......max_depth=27, max_features=0.5772679642764831; total time=   0.0s\n",
      "[CV] END ......max_depth=27, max_features=0.5772679642764831; total time=   0.1s\n",
      "[CV] END ......max_depth=27, max_features=0.5772679642764831; total time=   0.1s\n",
      "[CV] END ......max_depth=27, max_features=0.5772679642764831; total time=   0.1s\n",
      "[CV] END ........max_depth=14, max_features=0.41272769249147; total time=   0.0s\n",
      "[CV] END ........max_depth=14, max_features=0.41272769249147; total time=   0.0s\n",
      "[CV] END ........max_depth=14, max_features=0.41272769249147; total time=   0.0s\n",
      "[CV] END ........max_depth=14, max_features=0.41272769249147; total time=   0.0s\n",
      "[CV] END ........max_depth=14, max_features=0.41272769249147; total time=   0.0s\n",
      "[CV] END .......max_depth=16, max_features=0.923460846585612; total time=   0.0s\n",
      "[CV] END .......max_depth=16, max_features=0.923460846585612; total time=   0.1s\n",
      "[CV] END .......max_depth=16, max_features=0.923460846585612; total time=   0.1s\n",
      "[CV] END .......max_depth=16, max_features=0.923460846585612; total time=   0.1s\n",
      "[CV] END .......max_depth=16, max_features=0.923460846585612; total time=   0.0s\n",
      "[CV] END ......max_depth=16, max_features=0.7573142247454802; total time=   0.0s\n",
      "[CV] END ......max_depth=16, max_features=0.7573142247454802; total time=   0.0s\n",
      "[CV] END ......max_depth=16, max_features=0.7573142247454802; total time=   0.1s\n",
      "[CV] END ......max_depth=16, max_features=0.7573142247454802; total time=   0.0s\n",
      "[CV] END ......max_depth=16, max_features=0.7573142247454802; total time=   0.0s\n",
      "[CV] END ......max_depth=24, max_features=0.3544339176856602; total time=   0.0s\n",
      "[CV] END ......max_depth=24, max_features=0.3544339176856602; total time=   0.0s\n",
      "[CV] END ......max_depth=24, max_features=0.3544339176856602; total time=   0.0s\n",
      "[CV] END ......max_depth=24, max_features=0.3544339176856602; total time=   0.0s\n",
      "[CV] END ......max_depth=24, max_features=0.3544339176856602; total time=   0.0s\n",
      "[CV] END .......max_depth=6, max_features=0.4991289649447897; total time=   0.0s\n",
      "[CV] END .......max_depth=6, max_features=0.4991289649447897; total time=   0.0s\n",
      "[CV] END .......max_depth=6, max_features=0.4991289649447897; total time=   0.0s\n",
      "[CV] END .......max_depth=6, max_features=0.4991289649447897; total time=   0.0s\n",
      "[CV] END .......max_depth=6, max_features=0.4991289649447897; total time=   0.0s\n",
      "[CV] END .......max_depth=6, max_features=0.8886472420124134; total time=   0.1s\n",
      "[CV] END .......max_depth=6, max_features=0.8886472420124134; total time=   0.0s\n",
      "[CV] END .......max_depth=6, max_features=0.8886472420124134; total time=   0.0s\n",
      "[CV] END .......max_depth=6, max_features=0.8886472420124134; total time=   0.0s\n",
      "[CV] END .......max_depth=6, max_features=0.8886472420124134; total time=   0.0s\n",
      "[CV] END ......max_depth=29, max_features=0.5259030886988936; total time=   0.0s\n",
      "[CV] END ......max_depth=29, max_features=0.5259030886988936; total time=   0.0s\n",
      "[CV] END ......max_depth=29, max_features=0.5259030886988936; total time=   0.0s\n",
      "[CV] END ......max_depth=29, max_features=0.5259030886988936; total time=   0.0s\n",
      "[CV] END ......max_depth=29, max_features=0.5259030886988936; total time=   0.0s\n",
      "[CV] END ......max_depth=16, max_features=0.4209884702218502; total time=   0.0s\n",
      "[CV] END ......max_depth=16, max_features=0.4209884702218502; total time=   0.0s\n",
      "[CV] END ......max_depth=16, max_features=0.4209884702218502; total time=   0.0s\n",
      "[CV] END ......max_depth=16, max_features=0.4209884702218502; total time=   0.0s\n",
      "[CV] END ......max_depth=16, max_features=0.4209884702218502; total time=   0.0s\n",
      "[CV] END .......max_depth=7, max_features=0.8978405362334272; total time=   0.0s\n",
      "[CV] END .......max_depth=7, max_features=0.8978405362334272; total time=   0.0s\n",
      "[CV] END .......max_depth=7, max_features=0.8978405362334272; total time=   0.0s\n",
      "[CV] END .......max_depth=7, max_features=0.8978405362334272; total time=   0.0s\n",
      "[CV] END .......max_depth=7, max_features=0.8978405362334272; total time=   0.0s\n",
      "[CV] END ......max_depth=27, max_features=0.5902286735322668; total time=   0.0s\n",
      "[CV] END ......max_depth=27, max_features=0.5902286735322668; total time=   0.0s\n",
      "[CV] END ......max_depth=27, max_features=0.5902286735322668; total time=   0.1s\n",
      "[CV] END ......max_depth=27, max_features=0.5902286735322668; total time=   0.0s\n",
      "[CV] END ......max_depth=27, max_features=0.5902286735322668; total time=   0.1s\n",
      "[CV] END .......max_depth=9, max_features=0.4146601142182771; total time=   0.0s\n",
      "[CV] END .......max_depth=9, max_features=0.4146601142182771; total time=   0.0s\n",
      "[CV] END .......max_depth=9, max_features=0.4146601142182771; total time=   0.0s\n",
      "[CV] END .......max_depth=9, max_features=0.4146601142182771; total time=   0.0s\n",
      "[CV] END .......max_depth=9, max_features=0.4146601142182771; total time=   0.0s\n",
      "[CV] END .....max_depth=21, max_features=0.38256105703172943; total time=   0.0s\n",
      "[CV] END .....max_depth=21, max_features=0.38256105703172943; total time=   0.0s\n",
      "[CV] END .....max_depth=21, max_features=0.38256105703172943; total time=   0.0s\n",
      "[CV] END .....max_depth=21, max_features=0.38256105703172943; total time=   0.0s\n",
      "[CV] END .....max_depth=21, max_features=0.38256105703172943; total time=   0.0s\n",
      "[CV] END ......max_depth=16, max_features=0.7063442435940456; total time=   0.0s\n",
      "[CV] END ......max_depth=16, max_features=0.7063442435940456; total time=   0.1s\n",
      "[CV] END ......max_depth=16, max_features=0.7063442435940456; total time=   0.1s\n",
      "[CV] END ......max_depth=16, max_features=0.7063442435940456; total time=   0.0s\n",
      "[CV] END ......max_depth=16, max_features=0.7063442435940456; total time=   0.0s\n",
      "[CV] END ......max_depth=22, max_features=0.7778082674126147; total time=   0.0s\n",
      "[CV] END ......max_depth=22, max_features=0.7778082674126147; total time=   0.0s\n",
      "[CV] END ......max_depth=22, max_features=0.7778082674126147; total time=   0.0s\n",
      "[CV] END ......max_depth=22, max_features=0.7778082674126147; total time=   0.0s\n",
      "[CV] END ......max_depth=22, max_features=0.7778082674126147; total time=   0.0s\n",
      "[CV] END ......max_depth=18, max_features=0.3544339176856602; total time=   0.0s\n",
      "[CV] END ......max_depth=18, max_features=0.3544339176856602; total time=   0.0s\n",
      "[CV] END ......max_depth=18, max_features=0.3544339176856602; total time=   0.0s\n",
      "[CV] END ......max_depth=18, max_features=0.3544339176856602; total time=   0.0s\n",
      "[CV] END ......max_depth=18, max_features=0.3544339176856602; total time=   0.0s\n",
      "[CV] END ......max_depth=17, max_features=0.5772679642764831; total time=   0.0s\n",
      "[CV] END ......max_depth=17, max_features=0.5772679642764831; total time=   0.0s\n",
      "[CV] END ......max_depth=17, max_features=0.5772679642764831; total time=   0.0s\n",
      "[CV] END ......max_depth=17, max_features=0.5772679642764831; total time=   0.0s\n",
      "[CV] END ......max_depth=17, max_features=0.5772679642764831; total time=   0.0s\n"
     ]
    },
    {
     "name": "stdout",
     "output_type": "stream",
     "text": [
      "[CV] END ......max_depth=21, max_features=0.8911785049921519; total time=   0.0s\n",
      "[CV] END ......max_depth=21, max_features=0.8911785049921519; total time=   0.1s\n",
      "[CV] END ......max_depth=21, max_features=0.8911785049921519; total time=   0.1s\n",
      "[CV] END ......max_depth=21, max_features=0.8911785049921519; total time=   0.0s\n",
      "[CV] END ......max_depth=21, max_features=0.8911785049921519; total time=   0.0s\n",
      "[CV] END ......max_depth=18, max_features=0.5667234737871658; total time=   0.0s\n",
      "[CV] END ......max_depth=18, max_features=0.5667234737871658; total time=   0.0s\n",
      "[CV] END ......max_depth=18, max_features=0.5667234737871658; total time=   0.0s\n",
      "[CV] END ......max_depth=18, max_features=0.5667234737871658; total time=   0.0s\n",
      "[CV] END ......max_depth=18, max_features=0.5667234737871658; total time=   0.0s\n",
      "[CV] END ......max_depth=19, max_features=0.4991289649447897; total time=   0.0s\n",
      "[CV] END ......max_depth=19, max_features=0.4991289649447897; total time=   0.0s\n",
      "[CV] END ......max_depth=19, max_features=0.4991289649447897; total time=   0.0s\n",
      "[CV] END ......max_depth=19, max_features=0.4991289649447897; total time=   0.0s\n",
      "[CV] END ......max_depth=19, max_features=0.4991289649447897; total time=   0.0s\n",
      "[CV] END .......max_depth=9, max_features=0.8086342658965981; total time=   0.0s\n",
      "[CV] END .......max_depth=9, max_features=0.8086342658965981; total time=   0.0s\n",
      "[CV] END .......max_depth=9, max_features=0.8086342658965981; total time=   0.1s\n",
      "[CV] END .......max_depth=9, max_features=0.8086342658965981; total time=   0.0s\n",
      "[CV] END .......max_depth=9, max_features=0.8086342658965981; total time=   0.1s\n",
      "[CV] END ......max_depth=29, max_features=0.8387152254647199; total time=   0.1s\n",
      "[CV] END ......max_depth=29, max_features=0.8387152254647199; total time=   0.0s\n",
      "[CV] END ......max_depth=29, max_features=0.8387152254647199; total time=   0.0s\n",
      "[CV] END ......max_depth=29, max_features=0.8387152254647199; total time=   0.1s\n",
      "[CV] END ......max_depth=29, max_features=0.8387152254647199; total time=   0.0s\n",
      "[CV] END .......max_depth=7, max_features=0.8722843553556805; total time=   0.0s\n",
      "[CV] END .......max_depth=7, max_features=0.8722843553556805; total time=   0.0s\n",
      "[CV] END .......max_depth=7, max_features=0.8722843553556805; total time=   0.0s\n",
      "[CV] END .......max_depth=7, max_features=0.8722843553556805; total time=   0.0s\n",
      "[CV] END .......max_depth=7, max_features=0.8722843553556805; total time=   0.0s\n",
      "[CV] END .....max_depth=28, max_features=0.41645370724560965; total time=   0.0s\n",
      "[CV] END .....max_depth=28, max_features=0.41645370724560965; total time=   0.0s\n",
      "[CV] END .....max_depth=28, max_features=0.41645370724560965; total time=   0.0s\n",
      "[CV] END .....max_depth=28, max_features=0.41645370724560965; total time=   0.0s\n",
      "[CV] END .....max_depth=28, max_features=0.41645370724560965; total time=   0.0s\n",
      "[CV] END ......max_depth=13, max_features=0.8370850820516431; total time=   0.0s\n",
      "[CV] END ......max_depth=13, max_features=0.8370850820516431; total time=   0.0s\n",
      "[CV] END ......max_depth=13, max_features=0.8370850820516431; total time=   0.0s\n",
      "[CV] END ......max_depth=13, max_features=0.8370850820516431; total time=   0.0s\n",
      "[CV] END ......max_depth=13, max_features=0.8370850820516431; total time=   0.0s\n",
      "[CV] END ......max_depth=17, max_features=0.5773753263422517; total time=   0.0s\n",
      "[CV] END ......max_depth=17, max_features=0.5773753263422517; total time=   0.0s\n",
      "[CV] END ......max_depth=17, max_features=0.5773753263422517; total time=   0.0s\n",
      "[CV] END ......max_depth=17, max_features=0.5773753263422517; total time=   0.0s\n",
      "[CV] END ......max_depth=17, max_features=0.5773753263422517; total time=   0.0s\n",
      "[CV] END ......max_depth=23, max_features=0.8978405362334272; total time=   0.0s\n",
      "[CV] END ......max_depth=23, max_features=0.8978405362334272; total time=   0.0s\n",
      "[CV] END ......max_depth=23, max_features=0.8978405362334272; total time=   0.0s\n",
      "[CV] END ......max_depth=23, max_features=0.8978405362334272; total time=   0.0s\n",
      "[CV] END ......max_depth=23, max_features=0.8978405362334272; total time=   0.0s\n",
      "Fitting 5 folds for each of 100 candidates, totalling 500 fits\n",
      "[CV] END ......max_depth=25, max_features=0.9701317480558329; total time=   0.0s\n",
      "[CV] END ......max_depth=25, max_features=0.9701317480558329; total time=   0.0s\n",
      "[CV] END ......max_depth=25, max_features=0.9701317480558329; total time=   0.0s\n",
      "[CV] END ......max_depth=25, max_features=0.9701317480558329; total time=   0.0s\n",
      "[CV] END ......max_depth=25, max_features=0.9701317480558329; total time=   0.0s\n",
      "[CV] END ......max_depth=15, max_features=0.8022038428727556; total time=   0.0s\n",
      "[CV] END ......max_depth=15, max_features=0.8022038428727556; total time=   0.0s\n",
      "[CV] END ......max_depth=15, max_features=0.8022038428727556; total time=   0.0s\n",
      "[CV] END ......max_depth=15, max_features=0.8022038428727556; total time=   0.0s\n",
      "[CV] END ......max_depth=15, max_features=0.8022038428727556; total time=   0.0s\n",
      "[CV] END .......max_depth=7, max_features=0.3079733083892768; total time=   0.0s\n",
      "[CV] END .......max_depth=7, max_features=0.3079733083892768; total time=   0.0s\n",
      "[CV] END .......max_depth=7, max_features=0.3079733083892768; total time=   0.0s\n",
      "[CV] END .......max_depth=7, max_features=0.3079733083892768; total time=   0.0s\n",
      "[CV] END .......max_depth=7, max_features=0.3079733083892768; total time=   0.0s\n",
      "[CV] END ......max_depth=23, max_features=0.9371269433300375; total time=   0.0s\n",
      "[CV] END ......max_depth=23, max_features=0.9371269433300375; total time=   0.0s\n",
      "[CV] END ......max_depth=23, max_features=0.9371269433300375; total time=   0.0s\n",
      "[CV] END ......max_depth=23, max_features=0.9371269433300375; total time=   0.0s\n",
      "[CV] END ......max_depth=23, max_features=0.9371269433300375; total time=   0.0s\n",
      "[CV] END .....max_depth=27, max_features=0.36389036903215954; total time=   0.0s\n",
      "[CV] END .....max_depth=27, max_features=0.36389036903215954; total time=   0.0s\n",
      "[CV] END .....max_depth=27, max_features=0.36389036903215954; total time=   0.0s\n",
      "[CV] END .....max_depth=27, max_features=0.36389036903215954; total time=   0.0s\n",
      "[CV] END .....max_depth=27, max_features=0.36389036903215954; total time=   0.0s\n",
      "[CV] END ......max_depth=26, max_features=0.6021201352613864; total time=   0.0s\n",
      "[CV] END ......max_depth=26, max_features=0.6021201352613864; total time=   0.0s\n",
      "[CV] END ......max_depth=26, max_features=0.6021201352613864; total time=   0.0s\n",
      "[CV] END ......max_depth=26, max_features=0.6021201352613864; total time=   0.0s\n",
      "[CV] END ......max_depth=26, max_features=0.6021201352613864; total time=   0.0s\n",
      "[CV] END ......max_depth=14, max_features=0.5646385429690017; total time=   0.0s\n",
      "[CV] END ......max_depth=14, max_features=0.5646385429690017; total time=   0.0s\n",
      "[CV] END ......max_depth=14, max_features=0.5646385429690017; total time=   0.0s\n",
      "[CV] END ......max_depth=14, max_features=0.5646385429690017; total time=   0.0s\n",
      "[CV] END ......max_depth=14, max_features=0.5646385429690017; total time=   0.0s\n",
      "[CV] END .......max_depth=8, max_features=0.7355747172185106; total time=   0.0s\n",
      "[CV] END .......max_depth=8, max_features=0.7355747172185106; total time=   0.0s\n",
      "[CV] END .......max_depth=8, max_features=0.7355747172185106; total time=   0.0s\n",
      "[CV] END .......max_depth=8, max_features=0.7355747172185106; total time=   0.0s\n",
      "[CV] END .......max_depth=8, max_features=0.7355747172185106; total time=   0.0s\n",
      "[CV] END ......max_depth=12, max_features=0.7085309632876522; total time=   0.0s\n",
      "[CV] END ......max_depth=12, max_features=0.7085309632876522; total time=   0.0s\n",
      "[CV] END ......max_depth=12, max_features=0.7085309632876522; total time=   0.0s\n",
      "[CV] END ......max_depth=12, max_features=0.7085309632876522; total time=   0.0s\n",
      "[CV] END ......max_depth=12, max_features=0.7085309632876522; total time=   0.0s\n",
      "[CV] END ......max_depth=29, max_features=0.4495064000792346; total time=   0.0s\n",
      "[CV] END ......max_depth=29, max_features=0.4495064000792346; total time=   0.0s\n",
      "[CV] END ......max_depth=29, max_features=0.4495064000792346; total time=   0.0s\n",
      "[CV] END ......max_depth=29, max_features=0.4495064000792346; total time=   0.0s\n",
      "[CV] END ......max_depth=29, max_features=0.4495064000792346; total time=   0.0s\n",
      "[CV] END ......max_depth=14, max_features=0.9777889867089544; total time=   0.0s\n",
      "[CV] END ......max_depth=14, max_features=0.9777889867089544; total time=   0.0s\n"
     ]
    },
    {
     "name": "stdout",
     "output_type": "stream",
     "text": [
      "[CV] END ......max_depth=14, max_features=0.9777889867089544; total time=   0.0s\n",
      "[CV] END ......max_depth=14, max_features=0.9777889867089544; total time=   0.0s\n",
      "[CV] END ......max_depth=14, max_features=0.9777889867089544; total time=   0.0s\n",
      "[CV] END .......max_depth=19, max_features=0.641796339529358; total time=   0.0s\n",
      "[CV] END .......max_depth=19, max_features=0.641796339529358; total time=   0.0s\n",
      "[CV] END .......max_depth=19, max_features=0.641796339529358; total time=   0.0s\n",
      "[CV] END .......max_depth=19, max_features=0.641796339529358; total time=   0.0s\n",
      "[CV] END .......max_depth=19, max_features=0.641796339529358; total time=   0.0s\n",
      "[CV] END ........max_depth=8, max_features=0.778323124427931; total time=   0.0s\n",
      "[CV] END ........max_depth=8, max_features=0.778323124427931; total time=   0.0s\n",
      "[CV] END ........max_depth=8, max_features=0.778323124427931; total time=   0.0s\n",
      "[CV] END ........max_depth=8, max_features=0.778323124427931; total time=   0.0s\n",
      "[CV] END ........max_depth=8, max_features=0.778323124427931; total time=   0.0s\n",
      "[CV] END ......max_depth=18, max_features=0.9013531053422441; total time=   0.0s\n",
      "[CV] END ......max_depth=18, max_features=0.9013531053422441; total time=   0.0s\n",
      "[CV] END ......max_depth=18, max_features=0.9013531053422441; total time=   0.0s\n",
      "[CV] END ......max_depth=18, max_features=0.9013531053422441; total time=   0.0s\n",
      "[CV] END ......max_depth=18, max_features=0.9013531053422441; total time=   0.0s\n",
      "[CV] END .......max_depth=7, max_features=0.4816143475058171; total time=   0.0s\n",
      "[CV] END .......max_depth=7, max_features=0.4816143475058171; total time=   0.0s\n",
      "[CV] END .......max_depth=7, max_features=0.4816143475058171; total time=   0.0s\n",
      "[CV] END .......max_depth=7, max_features=0.4816143475058171; total time=   0.0s\n",
      "[CV] END .......max_depth=7, max_features=0.4816143475058171; total time=   0.0s\n",
      "[CV] END .....max_depth=21, max_features=0.36316714190670074; total time=   0.0s\n",
      "[CV] END .....max_depth=21, max_features=0.36316714190670074; total time=   0.0s\n",
      "[CV] END .....max_depth=21, max_features=0.36316714190670074; total time=   0.0s\n",
      "[CV] END .....max_depth=21, max_features=0.36316714190670074; total time=   0.0s\n",
      "[CV] END .....max_depth=21, max_features=0.36316714190670074; total time=   0.0s\n",
      "[CV] END ......max_depth=21, max_features=0.6217064965679969; total time=   0.0s\n",
      "[CV] END ......max_depth=21, max_features=0.6217064965679969; total time=   0.0s\n",
      "[CV] END ......max_depth=21, max_features=0.6217064965679969; total time=   0.0s\n",
      "[CV] END ......max_depth=21, max_features=0.6217064965679969; total time=   0.0s\n",
      "[CV] END ......max_depth=21, max_features=0.6217064965679969; total time=   0.0s\n",
      "[CV] END ........max_depth=7, max_features=0.897091212037344; total time=   0.0s\n",
      "[CV] END ........max_depth=7, max_features=0.897091212037344; total time=   0.0s\n",
      "[CV] END ........max_depth=7, max_features=0.897091212037344; total time=   0.0s\n",
      "[CV] END ........max_depth=7, max_features=0.897091212037344; total time=   0.0s\n",
      "[CV] END ........max_depth=7, max_features=0.897091212037344; total time=   0.0s\n",
      "[CV] END ......max_depth=11, max_features=0.6711050437863366; total time=   0.0s\n",
      "[CV] END ......max_depth=11, max_features=0.6711050437863366; total time=   0.0s\n",
      "[CV] END ......max_depth=11, max_features=0.6711050437863366; total time=   0.0s\n",
      "[CV] END ......max_depth=11, max_features=0.6711050437863366; total time=   0.0s\n",
      "[CV] END ......max_depth=11, max_features=0.6711050437863366; total time=   0.0s\n",
      "[CV] END ......max_depth=13, max_features=0.9777889867089544; total time=   0.0s\n",
      "[CV] END ......max_depth=13, max_features=0.9777889867089544; total time=   0.0s\n",
      "[CV] END ......max_depth=13, max_features=0.9777889867089544; total time=   0.0s\n",
      "[CV] END ......max_depth=13, max_features=0.9777889867089544; total time=   0.0s\n",
      "[CV] END ......max_depth=13, max_features=0.9777889867089544; total time=   0.1s\n",
      "[CV] END .....max_depth=22, max_features=0.41628080029557074; total time=   0.0s\n",
      "[CV] END .....max_depth=22, max_features=0.41628080029557074; total time=   0.0s\n",
      "[CV] END .....max_depth=22, max_features=0.41628080029557074; total time=   0.0s\n",
      "[CV] END .....max_depth=22, max_features=0.41628080029557074; total time=   0.0s\n",
      "[CV] END .....max_depth=22, max_features=0.41628080029557074; total time=   0.0s\n",
      "[CV] END ......max_depth=12, max_features=0.5646385429690017; total time=   0.0s\n",
      "[CV] END ......max_depth=12, max_features=0.5646385429690017; total time=   0.0s\n",
      "[CV] END ......max_depth=12, max_features=0.5646385429690017; total time=   0.0s\n",
      "[CV] END ......max_depth=12, max_features=0.5646385429690017; total time=   0.0s\n",
      "[CV] END ......max_depth=12, max_features=0.5646385429690017; total time=   0.0s\n",
      "[CV] END ......max_depth=21, max_features=0.8671259797314057; total time=   0.0s\n",
      "[CV] END ......max_depth=21, max_features=0.8671259797314057; total time=   0.0s\n",
      "[CV] END ......max_depth=21, max_features=0.8671259797314057; total time=   0.0s\n",
      "[CV] END ......max_depth=21, max_features=0.8671259797314057; total time=   0.0s\n",
      "[CV] END ......max_depth=21, max_features=0.8671259797314057; total time=   0.0s\n",
      "[CV] END .....max_depth=28, max_features=0.42189297917115365; total time=   0.0s\n",
      "[CV] END .....max_depth=28, max_features=0.42189297917115365; total time=   0.0s\n",
      "[CV] END .....max_depth=28, max_features=0.42189297917115365; total time=   0.0s\n",
      "[CV] END .....max_depth=28, max_features=0.42189297917115365; total time=   0.0s\n",
      "[CV] END .....max_depth=28, max_features=0.42189297917115365; total time=   0.0s\n",
      "[CV] END .......max_depth=24, max_features=0.778323124427931; total time=   0.0s\n",
      "[CV] END .......max_depth=24, max_features=0.778323124427931; total time=   0.0s\n",
      "[CV] END .......max_depth=24, max_features=0.778323124427931; total time=   0.0s\n",
      "[CV] END .......max_depth=24, max_features=0.778323124427931; total time=   0.0s\n",
      "[CV] END .......max_depth=24, max_features=0.778323124427931; total time=   0.0s\n",
      "[CV] END ......max_depth=9, max_features=0.30266398575316106; total time=   0.0s\n",
      "[CV] END ......max_depth=9, max_features=0.30266398575316106; total time=   0.0s\n",
      "[CV] END ......max_depth=9, max_features=0.30266398575316106; total time=   0.0s\n",
      "[CV] END ......max_depth=9, max_features=0.30266398575316106; total time=   0.0s\n",
      "[CV] END ......max_depth=9, max_features=0.30266398575316106; total time=   0.0s\n",
      "[CV] END .....max_depth=21, max_features=0.30266398575316106; total time=   0.0s\n",
      "[CV] END .....max_depth=21, max_features=0.30266398575316106; total time=   0.0s\n",
      "[CV] END .....max_depth=21, max_features=0.30266398575316106; total time=   0.0s\n",
      "[CV] END .....max_depth=21, max_features=0.30266398575316106; total time=   0.0s\n",
      "[CV] END .....max_depth=21, max_features=0.30266398575316106; total time=   0.0s\n",
      "[CV] END ......max_depth=21, max_features=0.5885806944509155; total time=   0.0s\n",
      "[CV] END ......max_depth=21, max_features=0.5885806944509155; total time=   0.0s\n",
      "[CV] END ......max_depth=21, max_features=0.5885806944509155; total time=   0.0s\n",
      "[CV] END ......max_depth=21, max_features=0.5885806944509155; total time=   0.0s\n",
      "[CV] END ......max_depth=21, max_features=0.5885806944509155; total time=   0.0s\n",
      "[CV] END .......max_depth=24, max_features=0.748280656968761; total time=   0.0s\n",
      "[CV] END .......max_depth=24, max_features=0.748280656968761; total time=   0.0s\n",
      "[CV] END .......max_depth=24, max_features=0.748280656968761; total time=   0.0s\n",
      "[CV] END .......max_depth=24, max_features=0.748280656968761; total time=   0.0s\n",
      "[CV] END .......max_depth=24, max_features=0.748280656968761; total time=   0.0s\n",
      "[CV] END .......max_depth=8, max_features=0.9443131773315832; total time=   0.0s\n",
      "[CV] END .......max_depth=8, max_features=0.9443131773315832; total time=   0.0s\n",
      "[CV] END .......max_depth=8, max_features=0.9443131773315832; total time=   0.0s\n",
      "[CV] END .......max_depth=8, max_features=0.9443131773315832; total time=   0.0s\n",
      "[CV] END .......max_depth=8, max_features=0.9443131773315832; total time=   0.0s\n",
      "[CV] END .....max_depth=21, max_features=0.36389036903215954; total time=   0.0s\n",
      "[CV] END .....max_depth=21, max_features=0.36389036903215954; total time=   0.0s\n",
      "[CV] END .....max_depth=21, max_features=0.36389036903215954; total time=   0.0s\n",
      "[CV] END .....max_depth=21, max_features=0.36389036903215954; total time=   0.0s\n",
      "[CV] END .....max_depth=21, max_features=0.36389036903215954; total time=   0.0s\n"
     ]
    },
    {
     "name": "stdout",
     "output_type": "stream",
     "text": [
      "[CV] END ......max_depth=25, max_features=0.7964838438979194; total time=   0.0s\n",
      "[CV] END ......max_depth=25, max_features=0.7964838438979194; total time=   0.0s\n",
      "[CV] END ......max_depth=25, max_features=0.7964838438979194; total time=   0.0s\n",
      "[CV] END ......max_depth=25, max_features=0.7964838438979194; total time=   0.0s\n",
      "[CV] END ......max_depth=25, max_features=0.7964838438979194; total time=   0.0s\n",
      "[CV] END .....max_depth=17, max_features=0.42189297917115365; total time=   0.0s\n",
      "[CV] END .....max_depth=17, max_features=0.42189297917115365; total time=   0.0s\n",
      "[CV] END .....max_depth=17, max_features=0.42189297917115365; total time=   0.0s\n",
      "[CV] END .....max_depth=17, max_features=0.42189297917115365; total time=   0.0s\n",
      "[CV] END .....max_depth=17, max_features=0.42189297917115365; total time=   0.0s\n",
      "[CV] END ......max_depth=17, max_features=0.8815149002807934; total time=   0.0s\n",
      "[CV] END ......max_depth=17, max_features=0.8815149002807934; total time=   0.1s\n",
      "[CV] END ......max_depth=17, max_features=0.8815149002807934; total time=   0.0s\n",
      "[CV] END ......max_depth=17, max_features=0.8815149002807934; total time=   0.0s\n",
      "[CV] END ......max_depth=17, max_features=0.8815149002807934; total time=   0.0s\n",
      "[CV] END .....max_depth=29, max_features=0.36389036903215954; total time=   0.0s\n",
      "[CV] END .....max_depth=29, max_features=0.36389036903215954; total time=   0.0s\n",
      "[CV] END .....max_depth=29, max_features=0.36389036903215954; total time=   0.0s\n",
      "[CV] END .....max_depth=29, max_features=0.36389036903215954; total time=   0.0s\n",
      "[CV] END .....max_depth=29, max_features=0.36389036903215954; total time=   0.0s\n",
      "[CV] END ......max_depth=11, max_features=0.5885806944509155; total time=   0.0s\n",
      "[CV] END ......max_depth=11, max_features=0.5885806944509155; total time=   0.0s\n",
      "[CV] END ......max_depth=11, max_features=0.5885806944509155; total time=   0.0s\n",
      "[CV] END ......max_depth=11, max_features=0.5885806944509155; total time=   0.0s\n",
      "[CV] END ......max_depth=11, max_features=0.5885806944509155; total time=   0.0s\n",
      "[CV] END ......max_depth=12, max_features=0.6811664574189036; total time=   0.0s\n",
      "[CV] END ......max_depth=12, max_features=0.6811664574189036; total time=   0.0s\n",
      "[CV] END ......max_depth=12, max_features=0.6811664574189036; total time=   0.0s\n",
      "[CV] END ......max_depth=12, max_features=0.6811664574189036; total time=   0.0s\n",
      "[CV] END ......max_depth=12, max_features=0.6811664574189036; total time=   0.0s\n",
      "[CV] END ......max_depth=8, max_features=0.42407033401694455; total time=   0.0s\n",
      "[CV] END ......max_depth=8, max_features=0.42407033401694455; total time=   0.0s\n",
      "[CV] END ......max_depth=8, max_features=0.42407033401694455; total time=   0.0s\n",
      "[CV] END ......max_depth=8, max_features=0.42407033401694455; total time=   0.0s\n",
      "[CV] END ......max_depth=8, max_features=0.42407033401694455; total time=   0.0s\n",
      "[CV] END .......max_depth=9, max_features=0.3079733083892768; total time=   0.0s\n",
      "[CV] END .......max_depth=9, max_features=0.3079733083892768; total time=   0.0s\n",
      "[CV] END .......max_depth=9, max_features=0.3079733083892768; total time=   0.0s\n",
      "[CV] END .......max_depth=9, max_features=0.3079733083892768; total time=   0.0s\n",
      "[CV] END .......max_depth=9, max_features=0.3079733083892768; total time=   0.0s\n",
      "[CV] END ........max_depth=9, max_features=0.395103425716794; total time=   0.0s\n",
      "[CV] END ........max_depth=9, max_features=0.395103425716794; total time=   0.0s\n",
      "[CV] END ........max_depth=9, max_features=0.395103425716794; total time=   0.0s\n",
      "[CV] END ........max_depth=9, max_features=0.395103425716794; total time=   0.0s\n",
      "[CV] END ........max_depth=9, max_features=0.395103425716794; total time=   0.0s\n",
      "[CV] END ......max_depth=7, max_features=0.44992432129412274; total time=   0.0s\n",
      "[CV] END ......max_depth=7, max_features=0.44992432129412274; total time=   0.0s\n",
      "[CV] END ......max_depth=7, max_features=0.44992432129412274; total time=   0.0s\n",
      "[CV] END ......max_depth=7, max_features=0.44992432129412274; total time=   0.0s\n",
      "[CV] END ......max_depth=7, max_features=0.44992432129412274; total time=   0.0s\n",
      "[CV] END ......max_depth=11, max_features=0.9002218077597592; total time=   0.0s\n",
      "[CV] END ......max_depth=11, max_features=0.9002218077597592; total time=   0.0s\n",
      "[CV] END ......max_depth=11, max_features=0.9002218077597592; total time=   0.0s\n",
      "[CV] END ......max_depth=11, max_features=0.9002218077597592; total time=   0.0s\n",
      "[CV] END ......max_depth=11, max_features=0.9002218077597592; total time=   0.0s\n",
      "[CV] END ......max_depth=25, max_features=0.9013531053422441; total time=   0.0s\n",
      "[CV] END ......max_depth=25, max_features=0.9013531053422441; total time=   0.0s\n",
      "[CV] END ......max_depth=25, max_features=0.9013531053422441; total time=   0.0s\n",
      "[CV] END ......max_depth=25, max_features=0.9013531053422441; total time=   0.1s\n",
      "[CV] END ......max_depth=25, max_features=0.9013531053422441; total time=   0.0s\n",
      "[CV] END ......max_depth=21, max_features=0.6329615010228566; total time=   0.0s\n",
      "[CV] END ......max_depth=21, max_features=0.6329615010228566; total time=   0.0s\n",
      "[CV] END ......max_depth=21, max_features=0.6329615010228566; total time=   0.0s\n",
      "[CV] END ......max_depth=21, max_features=0.6329615010228566; total time=   0.0s\n",
      "[CV] END ......max_depth=21, max_features=0.6329615010228566; total time=   0.0s\n",
      "[CV] END .......max_depth=6, max_features=0.5866230747241606; total time=   0.0s\n",
      "[CV] END .......max_depth=6, max_features=0.5866230747241606; total time=   0.0s\n",
      "[CV] END .......max_depth=6, max_features=0.5866230747241606; total time=   0.0s\n",
      "[CV] END .......max_depth=6, max_features=0.5866230747241606; total time=   0.0s\n",
      "[CV] END .......max_depth=6, max_features=0.5866230747241606; total time=   0.0s\n",
      "[CV] END ......max_depth=29, max_features=0.6289724273778252; total time=   0.0s\n",
      "[CV] END ......max_depth=29, max_features=0.6289724273778252; total time=   0.0s\n",
      "[CV] END ......max_depth=29, max_features=0.6289724273778252; total time=   0.0s\n",
      "[CV] END ......max_depth=29, max_features=0.6289724273778252; total time=   0.0s\n",
      "[CV] END ......max_depth=29, max_features=0.6289724273778252; total time=   0.0s\n",
      "[CV] END ......max_depth=28, max_features=0.6711050437863366; total time=   0.0s\n",
      "[CV] END ......max_depth=28, max_features=0.6711050437863366; total time=   0.0s\n",
      "[CV] END ......max_depth=28, max_features=0.6711050437863366; total time=   0.0s\n",
      "[CV] END ......max_depth=28, max_features=0.6711050437863366; total time=   0.0s\n",
      "[CV] END ......max_depth=28, max_features=0.6711050437863366; total time=   0.0s\n",
      "[CV] END ......max_depth=26, max_features=0.6743570639270646; total time=   0.0s\n",
      "[CV] END ......max_depth=26, max_features=0.6743570639270646; total time=   0.0s\n",
      "[CV] END ......max_depth=26, max_features=0.6743570639270646; total time=   0.0s\n",
      "[CV] END ......max_depth=26, max_features=0.6743570639270646; total time=   0.0s\n",
      "[CV] END ......max_depth=26, max_features=0.6743570639270646; total time=   0.0s\n",
      "[CV] END .........max_depth=9, max_features=0.70359062413067; total time=   0.0s\n",
      "[CV] END .........max_depth=9, max_features=0.70359062413067; total time=   0.0s\n",
      "[CV] END .........max_depth=9, max_features=0.70359062413067; total time=   0.0s\n",
      "[CV] END .........max_depth=9, max_features=0.70359062413067; total time=   0.0s\n",
      "[CV] END .........max_depth=9, max_features=0.70359062413067; total time=   0.0s\n",
      "[CV] END ......max_depth=29, max_features=0.8815149002807934; total time=   0.0s\n",
      "[CV] END ......max_depth=29, max_features=0.8815149002807934; total time=   0.0s\n",
      "[CV] END ......max_depth=29, max_features=0.8815149002807934; total time=   0.0s\n",
      "[CV] END ......max_depth=29, max_features=0.8815149002807934; total time=   0.0s\n",
      "[CV] END ......max_depth=29, max_features=0.8815149002807934; total time=   0.0s\n",
      "[CV] END ......max_depth=17, max_features=0.9701317480558329; total time=   0.0s\n",
      "[CV] END ......max_depth=17, max_features=0.9701317480558329; total time=   0.0s\n",
      "[CV] END ......max_depth=17, max_features=0.9701317480558329; total time=   0.0s\n",
      "[CV] END ......max_depth=17, max_features=0.9701317480558329; total time=   0.0s\n",
      "[CV] END ......max_depth=17, max_features=0.9701317480558329; total time=   0.0s\n",
      "[CV] END ......max_depth=19, max_features=0.8238387553392126; total time=   0.0s\n",
      "[CV] END ......max_depth=19, max_features=0.8238387553392126; total time=   0.0s\n",
      "[CV] END ......max_depth=19, max_features=0.8238387553392126; total time=   0.0s\n"
     ]
    },
    {
     "name": "stdout",
     "output_type": "stream",
     "text": [
      "[CV] END ......max_depth=19, max_features=0.8238387553392126; total time=   0.0s\n",
      "[CV] END ......max_depth=19, max_features=0.8238387553392126; total time=   0.0s\n",
      "[CV] END ......max_depth=17, max_features=0.7355747172185106; total time=   0.0s\n",
      "[CV] END ......max_depth=17, max_features=0.7355747172185106; total time=   0.0s\n",
      "[CV] END ......max_depth=17, max_features=0.7355747172185106; total time=   0.0s\n",
      "[CV] END ......max_depth=17, max_features=0.7355747172185106; total time=   0.0s\n",
      "[CV] END ......max_depth=17, max_features=0.7355747172185106; total time=   0.0s\n",
      "[CV] END .....max_depth=20, max_features=0.44412490849154945; total time=   0.0s\n",
      "[CV] END .....max_depth=20, max_features=0.44412490849154945; total time=   0.0s\n",
      "[CV] END .....max_depth=20, max_features=0.44412490849154945; total time=   0.0s\n",
      "[CV] END .....max_depth=20, max_features=0.44412490849154945; total time=   0.0s\n",
      "[CV] END .....max_depth=20, max_features=0.44412490849154945; total time=   0.0s\n",
      "[CV] END ......max_depth=12, max_features=0.9777889867089544; total time=   0.0s\n",
      "[CV] END ......max_depth=12, max_features=0.9777889867089544; total time=   0.0s\n",
      "[CV] END ......max_depth=12, max_features=0.9777889867089544; total time=   0.0s\n",
      "[CV] END ......max_depth=12, max_features=0.9777889867089544; total time=   0.0s\n",
      "[CV] END ......max_depth=12, max_features=0.9777889867089544; total time=   0.0s\n",
      "[CV] END .....max_depth=25, max_features=0.44677795410961574; total time=   0.0s\n",
      "[CV] END .....max_depth=25, max_features=0.44677795410961574; total time=   0.0s\n",
      "[CV] END .....max_depth=25, max_features=0.44677795410961574; total time=   0.0s\n",
      "[CV] END .....max_depth=25, max_features=0.44677795410961574; total time=   0.0s\n",
      "[CV] END .....max_depth=25, max_features=0.44677795410961574; total time=   0.0s\n",
      "[CV] END ......max_depth=21, max_features=0.6711050437863366; total time=   0.0s\n",
      "[CV] END ......max_depth=21, max_features=0.6711050437863366; total time=   0.0s\n",
      "[CV] END ......max_depth=21, max_features=0.6711050437863366; total time=   0.0s\n",
      "[CV] END ......max_depth=21, max_features=0.6711050437863366; total time=   0.0s\n",
      "[CV] END ......max_depth=21, max_features=0.6711050437863366; total time=   0.0s\n",
      "[CV] END ......max_depth=25, max_features=0.9452457852682921; total time=   0.0s\n",
      "[CV] END ......max_depth=25, max_features=0.9452457852682921; total time=   0.0s\n",
      "[CV] END ......max_depth=25, max_features=0.9452457852682921; total time=   0.1s\n",
      "[CV] END ......max_depth=25, max_features=0.9452457852682921; total time=   0.0s\n",
      "[CV] END ......max_depth=25, max_features=0.9452457852682921; total time=   0.0s\n",
      "[CV] END .......max_depth=8, max_features=0.6366673126340483; total time=   0.0s\n",
      "[CV] END .......max_depth=8, max_features=0.6366673126340483; total time=   0.0s\n",
      "[CV] END .......max_depth=8, max_features=0.6366673126340483; total time=   0.0s\n",
      "[CV] END .......max_depth=8, max_features=0.6366673126340483; total time=   0.0s\n",
      "[CV] END .......max_depth=8, max_features=0.6366673126340483; total time=   0.0s\n",
      "[CV] END ......max_depth=9, max_features=0.44677795410961574; total time=   0.0s\n",
      "[CV] END ......max_depth=9, max_features=0.44677795410961574; total time=   0.0s\n",
      "[CV] END ......max_depth=9, max_features=0.44677795410961574; total time=   0.0s\n",
      "[CV] END ......max_depth=9, max_features=0.44677795410961574; total time=   0.0s\n",
      "[CV] END ......max_depth=9, max_features=0.44677795410961574; total time=   0.0s\n",
      "[CV] END ......max_depth=21, max_features=0.9443131773315832; total time=   0.0s\n",
      "[CV] END ......max_depth=21, max_features=0.9443131773315832; total time=   0.0s\n",
      "[CV] END ......max_depth=21, max_features=0.9443131773315832; total time=   0.0s\n",
      "[CV] END ......max_depth=21, max_features=0.9443131773315832; total time=   0.0s\n",
      "[CV] END ......max_depth=21, max_features=0.9443131773315832; total time=   0.0s\n",
      "[CV] END ......max_depth=17, max_features=0.9002218077597592; total time=   0.0s\n",
      "[CV] END ......max_depth=17, max_features=0.9002218077597592; total time=   0.0s\n",
      "[CV] END ......max_depth=17, max_features=0.9002218077597592; total time=   0.0s\n",
      "[CV] END ......max_depth=17, max_features=0.9002218077597592; total time=   0.0s\n",
      "[CV] END ......max_depth=17, max_features=0.9002218077597592; total time=   0.0s\n",
      "[CV] END ......max_depth=16, max_features=0.9452457852682921; total time=   0.0s\n",
      "[CV] END ......max_depth=16, max_features=0.9452457852682921; total time=   0.0s\n",
      "[CV] END ......max_depth=16, max_features=0.9452457852682921; total time=   0.0s\n",
      "[CV] END ......max_depth=16, max_features=0.9452457852682921; total time=   0.0s\n",
      "[CV] END ......max_depth=16, max_features=0.9452457852682921; total time=   0.0s\n",
      "[CV] END ......max_depth=29, max_features=0.8238387553392126; total time=   0.0s\n",
      "[CV] END ......max_depth=29, max_features=0.8238387553392126; total time=   0.0s\n",
      "[CV] END ......max_depth=29, max_features=0.8238387553392126; total time=   0.0s\n",
      "[CV] END ......max_depth=29, max_features=0.8238387553392126; total time=   0.0s\n",
      "[CV] END ......max_depth=29, max_features=0.8238387553392126; total time=   0.0s\n",
      "[CV] END .......max_depth=8, max_features=0.9897465353964554; total time=   0.0s\n",
      "[CV] END .......max_depth=8, max_features=0.9897465353964554; total time=   0.0s\n",
      "[CV] END .......max_depth=8, max_features=0.9897465353964554; total time=   0.0s\n",
      "[CV] END .......max_depth=8, max_features=0.9897465353964554; total time=   0.0s\n",
      "[CV] END .......max_depth=8, max_features=0.9897465353964554; total time=   0.0s\n",
      "[CV] END ......max_depth=21, max_features=0.6588422739690236; total time=   0.0s\n",
      "[CV] END ......max_depth=21, max_features=0.6588422739690236; total time=   0.0s\n",
      "[CV] END ......max_depth=21, max_features=0.6588422739690236; total time=   0.0s\n",
      "[CV] END ......max_depth=21, max_features=0.6588422739690236; total time=   0.0s\n",
      "[CV] END ......max_depth=21, max_features=0.6588422739690236; total time=   0.0s\n",
      "[CV] END ......max_depth=14, max_features=0.8504482260932615; total time=   0.0s\n",
      "[CV] END ......max_depth=14, max_features=0.8504482260932615; total time=   0.0s\n",
      "[CV] END ......max_depth=14, max_features=0.8504482260932615; total time=   0.0s\n",
      "[CV] END ......max_depth=14, max_features=0.8504482260932615; total time=   0.0s\n",
      "[CV] END ......max_depth=14, max_features=0.8504482260932615; total time=   0.0s\n",
      "[CV] END ......max_depth=14, max_features=0.7270612834379309; total time=   0.0s\n",
      "[CV] END ......max_depth=14, max_features=0.7270612834379309; total time=   0.0s\n",
      "[CV] END ......max_depth=14, max_features=0.7270612834379309; total time=   0.0s\n",
      "[CV] END ......max_depth=14, max_features=0.7270612834379309; total time=   0.0s\n",
      "[CV] END ......max_depth=14, max_features=0.7270612834379309; total time=   0.0s\n",
      "[CV] END ......max_depth=11, max_features=0.5885806944509155; total time=   0.0s\n",
      "[CV] END ......max_depth=11, max_features=0.5885806944509155; total time=   0.0s\n",
      "[CV] END ......max_depth=11, max_features=0.5885806944509155; total time=   0.0s\n",
      "[CV] END ......max_depth=11, max_features=0.5885806944509155; total time=   0.0s\n",
      "[CV] END ......max_depth=11, max_features=0.5885806944509155; total time=   0.0s\n",
      "[CV] END .......max_depth=8, max_features=0.5540276454604941; total time=   0.0s\n",
      "[CV] END .......max_depth=8, max_features=0.5540276454604941; total time=   0.0s\n",
      "[CV] END .......max_depth=8, max_features=0.5540276454604941; total time=   0.0s\n",
      "[CV] END .......max_depth=8, max_features=0.5540276454604941; total time=   0.0s\n",
      "[CV] END .......max_depth=8, max_features=0.5540276454604941; total time=   0.0s\n",
      "[CV] END .......max_depth=24, max_features=0.641796339529358; total time=   0.0s\n",
      "[CV] END .......max_depth=24, max_features=0.641796339529358; total time=   0.0s\n",
      "[CV] END .......max_depth=24, max_features=0.641796339529358; total time=   0.0s\n",
      "[CV] END .......max_depth=24, max_features=0.641796339529358; total time=   0.0s\n",
      "[CV] END .......max_depth=24, max_features=0.641796339529358; total time=   0.0s\n",
      "[CV] END ......max_depth=21, max_features=0.4104195737292064; total time=   0.0s\n",
      "[CV] END ......max_depth=21, max_features=0.4104195737292064; total time=   0.0s\n",
      "[CV] END ......max_depth=21, max_features=0.4104195737292064; total time=   0.0s\n",
      "[CV] END ......max_depth=21, max_features=0.4104195737292064; total time=   0.0s\n",
      "[CV] END ......max_depth=21, max_features=0.4104195737292064; total time=   0.0s\n"
     ]
    },
    {
     "name": "stdout",
     "output_type": "stream",
     "text": [
      "[CV] END ......max_depth=24, max_features=0.9002218077597592; total time=   0.0s\n",
      "[CV] END ......max_depth=24, max_features=0.9002218077597592; total time=   0.0s\n",
      "[CV] END ......max_depth=24, max_features=0.9002218077597592; total time=   0.0s\n",
      "[CV] END ......max_depth=24, max_features=0.9002218077597592; total time=   0.0s\n",
      "[CV] END ......max_depth=24, max_features=0.9002218077597592; total time=   0.0s\n",
      "[CV] END ......max_depth=16, max_features=0.5133068872846374; total time=   0.0s\n",
      "[CV] END ......max_depth=16, max_features=0.5133068872846374; total time=   0.0s\n",
      "[CV] END ......max_depth=16, max_features=0.5133068872846374; total time=   0.0s\n",
      "[CV] END ......max_depth=16, max_features=0.5133068872846374; total time=   0.0s\n",
      "[CV] END ......max_depth=16, max_features=0.5133068872846374; total time=   0.0s\n",
      "[CV] END ......max_depth=21, max_features=0.5540276454604941; total time=   0.0s\n",
      "[CV] END ......max_depth=21, max_features=0.5540276454604941; total time=   0.0s\n",
      "[CV] END ......max_depth=21, max_features=0.5540276454604941; total time=   0.0s\n",
      "[CV] END ......max_depth=21, max_features=0.5540276454604941; total time=   0.0s\n",
      "[CV] END ......max_depth=21, max_features=0.5540276454604941; total time=   0.0s\n",
      "[CV] END ......max_depth=29, max_features=0.7270612834379309; total time=   0.0s\n",
      "[CV] END ......max_depth=29, max_features=0.7270612834379309; total time=   0.0s\n",
      "[CV] END ......max_depth=29, max_features=0.7270612834379309; total time=   0.0s\n",
      "[CV] END ......max_depth=29, max_features=0.7270612834379309; total time=   0.0s\n",
      "[CV] END ......max_depth=29, max_features=0.7270612834379309; total time=   0.0s\n",
      "[CV] END ......max_depth=15, max_features=0.7085309632876522; total time=   0.0s\n",
      "[CV] END ......max_depth=15, max_features=0.7085309632876522; total time=   0.0s\n",
      "[CV] END ......max_depth=15, max_features=0.7085309632876522; total time=   0.0s\n",
      "[CV] END ......max_depth=15, max_features=0.7085309632876522; total time=   0.0s\n",
      "[CV] END ......max_depth=15, max_features=0.7085309632876522; total time=   0.0s\n",
      "[CV] END .......max_depth=21, max_features=0.515893937843553; total time=   0.0s\n",
      "[CV] END .......max_depth=21, max_features=0.515893937843553; total time=   0.0s\n",
      "[CV] END .......max_depth=21, max_features=0.515893937843553; total time=   0.0s\n",
      "[CV] END .......max_depth=21, max_features=0.515893937843553; total time=   0.0s\n",
      "[CV] END .......max_depth=21, max_features=0.515893937843553; total time=   0.0s\n",
      "[CV] END ......max_depth=13, max_features=0.8425211724812078; total time=   0.0s\n",
      "[CV] END ......max_depth=13, max_features=0.8425211724812078; total time=   0.0s\n",
      "[CV] END ......max_depth=13, max_features=0.8425211724812078; total time=   0.0s\n",
      "[CV] END ......max_depth=13, max_features=0.8425211724812078; total time=   0.0s\n",
      "[CV] END ......max_depth=13, max_features=0.8425211724812078; total time=   0.0s\n",
      "[CV] END .......max_depth=13, max_features=0.711664408382483; total time=   0.0s\n",
      "[CV] END .......max_depth=13, max_features=0.711664408382483; total time=   0.0s\n",
      "[CV] END .......max_depth=13, max_features=0.711664408382483; total time=   0.0s\n",
      "[CV] END .......max_depth=13, max_features=0.711664408382483; total time=   0.0s\n",
      "[CV] END .......max_depth=13, max_features=0.711664408382483; total time=   0.0s\n",
      "[CV] END ......max_depth=22, max_features=0.4917941315690038; total time=   0.0s\n",
      "[CV] END ......max_depth=22, max_features=0.4917941315690038; total time=   0.0s\n",
      "[CV] END ......max_depth=22, max_features=0.4917941315690038; total time=   0.0s\n",
      "[CV] END ......max_depth=22, max_features=0.4917941315690038; total time=   0.0s\n",
      "[CV] END ......max_depth=22, max_features=0.4917941315690038; total time=   0.0s\n",
      "[CV] END ......max_depth=29, max_features=0.7944389037009352; total time=   0.0s\n",
      "[CV] END ......max_depth=29, max_features=0.7944389037009352; total time=   0.0s\n",
      "[CV] END ......max_depth=29, max_features=0.7944389037009352; total time=   0.0s\n",
      "[CV] END ......max_depth=29, max_features=0.7944389037009352; total time=   0.0s\n",
      "[CV] END ......max_depth=29, max_features=0.7944389037009352; total time=   0.0s\n",
      "[CV] END .......max_depth=12, max_features=0.897091212037344; total time=   0.0s\n",
      "[CV] END .......max_depth=12, max_features=0.897091212037344; total time=   0.0s\n",
      "[CV] END .......max_depth=12, max_features=0.897091212037344; total time=   0.0s\n",
      "[CV] END .......max_depth=12, max_features=0.897091212037344; total time=   0.1s\n",
      "[CV] END .......max_depth=12, max_features=0.897091212037344; total time=   0.0s\n",
      "[CV] END ......max_depth=25, max_features=0.7841154144746291; total time=   0.0s\n",
      "[CV] END ......max_depth=25, max_features=0.7841154144746291; total time=   0.0s\n",
      "[CV] END ......max_depth=25, max_features=0.7841154144746291; total time=   0.0s\n",
      "[CV] END ......max_depth=25, max_features=0.7841154144746291; total time=   0.0s\n",
      "[CV] END ......max_depth=25, max_features=0.7841154144746291; total time=   0.0s\n",
      "[CV] END .......max_depth=9, max_features=0.8189631201321852; total time=   0.0s\n",
      "[CV] END .......max_depth=9, max_features=0.8189631201321852; total time=   0.0s\n",
      "[CV] END .......max_depth=9, max_features=0.8189631201321852; total time=   0.0s\n",
      "[CV] END .......max_depth=9, max_features=0.8189631201321852; total time=   0.0s\n",
      "[CV] END .......max_depth=9, max_features=0.8189631201321852; total time=   0.0s\n",
      "[CV] END .......max_depth=9, max_features=0.3373166749316201; total time=   0.0s\n",
      "[CV] END .......max_depth=9, max_features=0.3373166749316201; total time=   0.0s\n",
      "[CV] END .......max_depth=9, max_features=0.3373166749316201; total time=   0.0s\n",
      "[CV] END .......max_depth=9, max_features=0.3373166749316201; total time=   0.0s\n",
      "[CV] END .......max_depth=9, max_features=0.3373166749316201; total time=   0.0s\n",
      "[CV] END ......max_depth=15, max_features=0.3633913681903126; total time=   0.0s\n",
      "[CV] END ......max_depth=15, max_features=0.3633913681903126; total time=   0.0s\n",
      "[CV] END ......max_depth=15, max_features=0.3633913681903126; total time=   0.0s\n",
      "[CV] END ......max_depth=15, max_features=0.3633913681903126; total time=   0.0s\n",
      "[CV] END ......max_depth=15, max_features=0.3633913681903126; total time=   0.0s\n",
      "[CV] END ......max_depth=22, max_features=0.3273868499243558; total time=   0.0s\n",
      "[CV] END ......max_depth=22, max_features=0.3273868499243558; total time=   0.0s\n",
      "[CV] END ......max_depth=22, max_features=0.3273868499243558; total time=   0.0s\n",
      "[CV] END ......max_depth=22, max_features=0.3273868499243558; total time=   0.0s\n",
      "[CV] END ......max_depth=22, max_features=0.3273868499243558; total time=   0.0s\n",
      "[CV] END .......max_depth=28, max_features=0.515893937843553; total time=   0.0s\n",
      "[CV] END .......max_depth=28, max_features=0.515893937843553; total time=   0.0s\n",
      "[CV] END .......max_depth=28, max_features=0.515893937843553; total time=   0.0s\n",
      "[CV] END .......max_depth=28, max_features=0.515893937843553; total time=   0.0s\n",
      "[CV] END .......max_depth=28, max_features=0.515893937843553; total time=   0.0s\n",
      "[CV] END .......max_depth=9, max_features=0.5133068872846374; total time=   0.0s\n",
      "[CV] END .......max_depth=9, max_features=0.5133068872846374; total time=   0.0s\n",
      "[CV] END .......max_depth=9, max_features=0.5133068872846374; total time=   0.0s\n",
      "[CV] END .......max_depth=9, max_features=0.5133068872846374; total time=   0.0s\n",
      "[CV] END .......max_depth=9, max_features=0.5133068872846374; total time=   0.0s\n",
      "[CV] END .......max_depth=9, max_features=0.4114374220756364; total time=   0.0s\n",
      "[CV] END .......max_depth=9, max_features=0.4114374220756364; total time=   0.0s\n",
      "[CV] END .......max_depth=9, max_features=0.4114374220756364; total time=   0.0s\n",
      "[CV] END .......max_depth=9, max_features=0.4114374220756364; total time=   0.0s\n",
      "[CV] END .......max_depth=9, max_features=0.4114374220756364; total time=   0.0s\n",
      "[CV] END .......max_depth=6, max_features=0.8504482260932615; total time=   0.0s\n",
      "[CV] END .......max_depth=6, max_features=0.8504482260932615; total time=   0.0s\n",
      "[CV] END .......max_depth=6, max_features=0.8504482260932615; total time=   0.0s\n",
      "[CV] END .......max_depth=6, max_features=0.8504482260932615; total time=   0.0s\n",
      "[CV] END .......max_depth=6, max_features=0.8504482260932615; total time=   0.0s\n",
      "[CV] END ......max_depth=17, max_features=0.8425211724812078; total time=   0.0s\n",
      "[CV] END ......max_depth=17, max_features=0.8425211724812078; total time=   0.0s\n",
      "[CV] END ......max_depth=17, max_features=0.8425211724812078; total time=   0.0s\n"
     ]
    },
    {
     "name": "stdout",
     "output_type": "stream",
     "text": [
      "[CV] END ......max_depth=17, max_features=0.8425211724812078; total time=   0.0s\n",
      "[CV] END ......max_depth=17, max_features=0.8425211724812078; total time=   0.0s\n",
      "[CV] END ......max_depth=9, max_features=0.42189297917115365; total time=   0.0s\n",
      "[CV] END ......max_depth=9, max_features=0.42189297917115365; total time=   0.0s\n",
      "[CV] END ......max_depth=9, max_features=0.42189297917115365; total time=   0.0s\n",
      "[CV] END ......max_depth=9, max_features=0.42189297917115365; total time=   0.0s\n",
      "[CV] END ......max_depth=9, max_features=0.42189297917115365; total time=   0.0s\n",
      "[CV] END ......max_depth=29, max_features=0.8673206501485797; total time=   0.0s\n",
      "[CV] END ......max_depth=29, max_features=0.8673206501485797; total time=   0.0s\n",
      "[CV] END ......max_depth=29, max_features=0.8673206501485797; total time=   0.0s\n",
      "[CV] END ......max_depth=29, max_features=0.8673206501485797; total time=   0.0s\n",
      "[CV] END ......max_depth=29, max_features=0.8673206501485797; total time=   0.0s\n",
      "[CV] END ......max_depth=18, max_features=0.3042849986472551; total time=   0.0s\n",
      "[CV] END ......max_depth=18, max_features=0.3042849986472551; total time=   0.0s\n",
      "[CV] END ......max_depth=18, max_features=0.3042849986472551; total time=   0.0s\n",
      "[CV] END ......max_depth=18, max_features=0.3042849986472551; total time=   0.0s\n",
      "[CV] END ......max_depth=18, max_features=0.3042849986472551; total time=   0.0s\n",
      "[CV] END .......max_depth=5, max_features=0.9371269433300375; total time=   0.0s\n",
      "[CV] END .......max_depth=5, max_features=0.9371269433300375; total time=   0.0s\n",
      "[CV] END .......max_depth=5, max_features=0.9371269433300375; total time=   0.0s\n",
      "[CV] END .......max_depth=5, max_features=0.9371269433300375; total time=   0.0s\n",
      "[CV] END .......max_depth=5, max_features=0.9371269433300375; total time=   0.0s\n",
      "[CV] END ......max_depth=16, max_features=0.9002218077597592; total time=   0.0s\n",
      "[CV] END ......max_depth=16, max_features=0.9002218077597592; total time=   0.0s\n",
      "[CV] END ......max_depth=16, max_features=0.9002218077597592; total time=   0.0s\n",
      "[CV] END ......max_depth=16, max_features=0.9002218077597592; total time=   0.0s\n",
      "[CV] END ......max_depth=16, max_features=0.9002218077597592; total time=   0.0s\n",
      "[CV] END .......max_depth=8, max_features=0.9897465353964554; total time=   0.0s\n",
      "[CV] END .......max_depth=8, max_features=0.9897465353964554; total time=   0.0s\n",
      "[CV] END .......max_depth=8, max_features=0.9897465353964554; total time=   0.0s\n",
      "[CV] END .......max_depth=8, max_features=0.9897465353964554; total time=   0.0s\n",
      "[CV] END .......max_depth=8, max_features=0.9897465353964554; total time=   0.0s\n",
      "[CV] END .......max_depth=16, max_features=0.897091212037344; total time=   0.0s\n",
      "[CV] END .......max_depth=16, max_features=0.897091212037344; total time=   0.1s\n",
      "[CV] END .......max_depth=16, max_features=0.897091212037344; total time=   0.1s\n",
      "[CV] END .......max_depth=16, max_features=0.897091212037344; total time=   0.1s\n",
      "[CV] END .......max_depth=16, max_features=0.897091212037344; total time=   0.0s\n"
     ]
    }
   ],
   "source": [
    "from sklearn.model_selection import RandomizedSearchCV\n",
    "\n",
    "results= []\n",
    "for estimator in estimators:\n",
    "    max_depth = np.random.randint(5,30,100)\n",
    "    max_features = np.random.uniform(0.3, 1.0, 100)\n",
    "\n",
    "    param_distributions = {\"max_depth\":max_depth, \"max_features\":max_features}\n",
    "    \n",
    "    regressor= RandomizedSearchCV(estimator,\n",
    "    param_distributions,\n",
    "    n_iter=100,\n",
    "    scoring=None,\n",
    "    n_jobs=None,\n",
    "    cv=5,\n",
    "    verbose=2,\n",
    "    random_state=42)\n",
    "    \n",
    "    regressor.fit(X_train, y_train)\n",
    "    \n",
    "    result= []\n",
    "    result.append(estimator.__class__.__name__)\n",
    "    result.append(regressor.best_params_)\n",
    "    result.append(regressor.best_estimator_)\n",
    "    result.append(regressor.best_score_)\n",
    "    result.append(regressor.cv_results_)\n",
    "    results.append(result)"
   ]
  },
  {
   "cell_type": "code",
   "execution_count": 62,
   "id": "c41bac7f",
   "metadata": {},
   "outputs": [
    {
     "data": {
      "text/html": [
       "<div>\n",
       "<style scoped>\n",
       "    .dataframe tbody tr th:only-of-type {\n",
       "        vertical-align: middle;\n",
       "    }\n",
       "\n",
       "    .dataframe tbody tr th {\n",
       "        vertical-align: top;\n",
       "    }\n",
       "\n",
       "    .dataframe thead th {\n",
       "        text-align: right;\n",
       "    }\n",
       "</style>\n",
       "<table border=\"1\" class=\"dataframe\">\n",
       "  <thead>\n",
       "    <tr style=\"text-align: right;\">\n",
       "      <th></th>\n",
       "      <th>model</th>\n",
       "      <th>params</th>\n",
       "      <th>estimator</th>\n",
       "      <th>r2_score</th>\n",
       "      <th>cv_result</th>\n",
       "    </tr>\n",
       "  </thead>\n",
       "  <tbody>\n",
       "    <tr>\n",
       "      <th>0</th>\n",
       "      <td>DecisionTreeRegressor</td>\n",
       "      <td>{'max_features': 0.9958272928490215, 'max_dept...</td>\n",
       "      <td>DecisionTreeRegressor(max_depth=5, max_feature...</td>\n",
       "      <td>0.222069</td>\n",
       "      <td>{'mean_fit_time': [0.004652929306030273, 0.004...</td>\n",
       "    </tr>\n",
       "    <tr>\n",
       "      <th>1</th>\n",
       "      <td>RandomForestRegressor</td>\n",
       "      <td>{'max_features': 0.6860478274375188, 'max_dept...</td>\n",
       "      <td>(DecisionTreeRegressor(max_depth=6, max_featur...</td>\n",
       "      <td>0.346802</td>\n",
       "      <td>{'mean_fit_time': [0.10911927223205567, 0.1255...</td>\n",
       "    </tr>\n",
       "    <tr>\n",
       "      <th>2</th>\n",
       "      <td>GradientBoostingRegressor</td>\n",
       "      <td>{'max_features': 0.42189297917115365, 'max_dep...</td>\n",
       "      <td>([DecisionTreeRegressor(criterion='friedman_ms...</td>\n",
       "      <td>0.299278</td>\n",
       "      <td>{'mean_fit_time': [0.10961360931396484, 0.0930...</td>\n",
       "    </tr>\n",
       "  </tbody>\n",
       "</table>\n",
       "</div>"
      ],
      "text/plain": [
       "                       model  \\\n",
       "0      DecisionTreeRegressor   \n",
       "1      RandomForestRegressor   \n",
       "2  GradientBoostingRegressor   \n",
       "\n",
       "                                              params  \\\n",
       "0  {'max_features': 0.9958272928490215, 'max_dept...   \n",
       "1  {'max_features': 0.6860478274375188, 'max_dept...   \n",
       "2  {'max_features': 0.42189297917115365, 'max_dep...   \n",
       "\n",
       "                                           estimator  r2_score  \\\n",
       "0  DecisionTreeRegressor(max_depth=5, max_feature...  0.222069   \n",
       "1  (DecisionTreeRegressor(max_depth=6, max_featur...  0.346802   \n",
       "2  ([DecisionTreeRegressor(criterion='friedman_ms...  0.299278   \n",
       "\n",
       "                                           cv_result  \n",
       "0  {'mean_fit_time': [0.004652929306030273, 0.004...  \n",
       "1  {'mean_fit_time': [0.10911927223205567, 0.1255...  \n",
       "2  {'mean_fit_time': [0.10961360931396484, 0.0930...  "
      ]
     },
     "execution_count": 62,
     "metadata": {},
     "output_type": "execute_result"
    }
   ],
   "source": [
    "df_cv = pd.DataFrame(results)\n",
    "df_cv.columns = [\"model\", \"params\", \"estimator\", \"r2_score\", \"cv_result\"]\n",
    "df_cv"
   ]
  },
  {
   "cell_type": "code",
   "execution_count": 65,
   "id": "362a8d76",
   "metadata": {},
   "outputs": [
    {
     "data": {
      "text/plain": [
       "RandomForestRegressor(max_depth=6, max_features=0.6860478274375188,\n",
       "                      random_state=42)"
      ]
     },
     "execution_count": 65,
     "metadata": {},
     "output_type": "execute_result"
    }
   ],
   "source": [
    "# 가장 성능이 좋은 알고리즘, 파라미터\n",
    "best_estimator = df_cv.loc[df_cv[\"r2_score\"].idxmax(),\"estimator\"]\n",
    "best_estimator"
   ]
  },
  {
   "cell_type": "markdown",
   "id": "9c6d6674",
   "metadata": {},
   "source": [
    "# 학습(훈련)"
   ]
  },
  {
   "cell_type": "markdown",
   "id": "a7e7989d",
   "metadata": {},
   "source": [
    "* 시험을 볼 때 기출문제(X_train)와 정답(y_train)을 보고 공부하는 과정과 유사"
   ]
  },
  {
   "cell_type": "code",
   "execution_count": 66,
   "id": "17cdf86c",
   "metadata": {},
   "outputs": [
    {
     "data": {
      "text/plain": [
       "RandomForestRegressor(max_depth=6, max_features=0.6860478274375188,\n",
       "                      random_state=42)"
      ]
     },
     "execution_count": 66,
     "metadata": {},
     "output_type": "execute_result"
    }
   ],
   "source": [
    "# 가장 성능이 좋았던 best_estimator로 적용\n",
    "best_estimator.fit(X_train, y_train)"
   ]
  },
  {
   "cell_type": "markdown",
   "id": "58f936e7",
   "metadata": {},
   "source": [
    "# cross validation으로 학습 세트의 오차 측정하기"
   ]
  },
  {
   "cell_type": "code",
   "execution_count": 67,
   "id": "18badfdf",
   "metadata": {},
   "outputs": [
    {
     "name": "stderr",
     "output_type": "stream",
     "text": [
      "[Parallel(n_jobs=-1)]: Using backend LokyBackend with 16 concurrent workers.\n",
      "[Parallel(n_jobs=-1)]: Done   5 out of   5 | elapsed:    4.9s finished\n"
     ]
    },
    {
     "data": {
      "text/plain": [
       "array([ 54.85330135, 170.94218384,  91.07336273, 144.73450377,\n",
       "       173.16037036])"
      ]
     },
     "execution_count": 67,
     "metadata": {},
     "output_type": "execute_result"
    }
   ],
   "source": [
    "from sklearn.model_selection import cross_val_predict\n",
    "\n",
    "y_predict = cross_val_predict(best_estimator, X_train, y_train, cv=5, n_jobs=-1, verbose=2)\n",
    "y_predict[:5]"
   ]
  },
  {
   "cell_type": "code",
   "execution_count": 68,
   "id": "c9e95e90",
   "metadata": {},
   "outputs": [
    {
     "name": "stderr",
     "output_type": "stream",
     "text": [
      "C:\\Users\\ksh\\anaconda3\\lib\\site-packages\\seaborn\\_decorators.py:36: FutureWarning: Pass the following variables as keyword args: x, y. From version 0.12, the only valid positional argument will be `data`, and passing other arguments without an explicit keyword will result in an error or misinterpretation.\n",
      "  warnings.warn(\n"
     ]
    },
    {
     "data": {
      "text/plain": [
       "<AxesSubplot:xlabel='Insulin'>"
      ]
     },
     "execution_count": 68,
     "metadata": {},
     "output_type": "execute_result"
    },
    {
     "data": {
      "image/png": "[encoded data removed]",
      "text/plain": [
       "<Figure size 640x480 with 1 Axes>"
      ]
     },
     "metadata": {},
     "output_type": "display_data"
    }
   ],
   "source": [
    "# rdgplot으로 결과 값 비교\n",
    "\n",
    "sns.regplot(y_train, y_predict)\n",
    "\n",
    "# x축이 정답값(y_train), y축이 예측값(y_predict)\n",
    "# 회귀선에 예측값과 정답값이 붙어 있을수록 정확하나, 200 이상이상치 많다."
   ]
  },
  {
   "cell_type": "code",
   "execution_count": 69,
   "id": "3de23aae",
   "metadata": {},
   "outputs": [
    {
     "data": {
      "text/plain": [
       "0.3590582382944605"
      ]
     },
     "execution_count": 69,
     "metadata": {},
     "output_type": "execute_result"
    }
   ],
   "source": [
    "# r2_score 구하기\n",
    "\n",
    "from sklearn.metrics import r2_score\n",
    "\n",
    "r2_score(y_train, y_predict)\n",
    "\n",
    "# r2_score가 1에 가까워야지 정확"
   ]
  },
  {
   "cell_type": "code",
   "execution_count": 70,
   "id": "0890e893",
   "metadata": {},
   "outputs": [
    {
     "name": "stderr",
     "output_type": "stream",
     "text": [
      "C:\\Users\\ksh\\anaconda3\\lib\\site-packages\\seaborn\\distributions.py:2619: FutureWarning: `distplot` is a deprecated function and will be removed in a future version. Please adapt your code to use either `displot` (a figure-level function with similar flexibility) or `kdeplot` (an axes-level function for kernel density plots).\n",
      "  warnings.warn(msg, FutureWarning)\n",
      "C:\\Users\\ksh\\anaconda3\\lib\\site-packages\\seaborn\\distributions.py:2619: FutureWarning: `distplot` is a deprecated function and will be removed in a future version. Please adapt your code to use either `displot` (a figure-level function with similar flexibility) or `kdeplot` (an axes-level function for kernel density plots).\n",
      "  warnings.warn(msg, FutureWarning)\n"
     ]
    },
    {
     "data": {
      "text/plain": [
       "<AxesSubplot:xlabel='Insulin', ylabel='Density'>"
      ]
     },
     "execution_count": 70,
     "metadata": {},
     "output_type": "execute_result"
    },
    {
     "data": {
      "image/png": "[encoded data removed]",
      "text/plain": [
       "<Figure size 640x480 with 1 Axes>"
      ]
     },
     "metadata": {},
     "output_type": "display_data"
    }
   ],
   "source": [
    "# distplot으로 정답값과 예측값의 분포 그리기\n",
    "\n",
    "sns.distplot(y_train, hist=False, label=\"train\")\n",
    "sns.distplot(y_predict, hist=False, label=\"predict\")\n",
    "\n",
    "# 대체로 비슷하게 그려졌으나 약 500에서 두 그래프가 다르게 그려짐"
   ]
  },
  {
   "cell_type": "markdown",
   "id": "c064b63f",
   "metadata": {},
   "source": [
    "# 오차 구하기"
   ]
  },
  {
   "cell_type": "code",
   "execution_count": 71,
   "id": "7f59135f",
   "metadata": {},
   "outputs": [
    {
     "data": {
      "text/plain": [
       "44.05585391243618"
      ]
     },
     "execution_count": 71,
     "metadata": {},
     "output_type": "execute_result"
    }
   ],
   "source": [
    "# MAE(error 절대값들의 평균)\n",
    "# 86 -> 77.55(600이하 값 제거) -> 62.05(OUT 이상 값 제거) -> 45.14(best_estimator)\n",
    "# 44.05(n_iter=100)\n",
    "error = abs(y_train - y_predict)\n",
    "error.mean()"
   ]
  },
  {
   "cell_type": "code",
   "execution_count": 72,
   "id": "9148667e",
   "metadata": {},
   "outputs": [
    {
     "name": "stderr",
     "output_type": "stream",
     "text": [
      "C:\\Users\\ksh\\anaconda3\\lib\\site-packages\\seaborn\\distributions.py:2619: FutureWarning: `distplot` is a deprecated function and will be removed in a future version. Please adapt your code to use either `displot` (a figure-level function with similar flexibility) or `histplot` (an axes-level function for histograms).\n",
      "  warnings.warn(msg, FutureWarning)\n"
     ]
    },
    {
     "data": {
      "text/plain": [
       "<AxesSubplot:xlabel='Insulin', ylabel='Density'>"
      ]
     },
     "execution_count": 72,
     "metadata": {},
     "output_type": "execute_result"
    },
    {
     "data": {
      "image/png": "[encoded data removed]",
      "text/plain": [
       "<Figure size 640x480 with 1 Axes>"
      ]
     },
     "metadata": {},
     "output_type": "display_data"
    }
   ],
   "source": [
    "# 오차(정답값-예측값)의 분포 그래프로\n",
    "sns.distplot(error)\n",
    "\n",
    "# 오차가 100이하인 값들이 많고 오차가 큰 값들은 존재하나 수가 적음"
   ]
  },
  {
   "cell_type": "code",
   "execution_count": 73,
   "id": "60d86db9",
   "metadata": {},
   "outputs": [
    {
     "data": {
      "text/plain": [
       "count    370.000000\n",
       "mean      44.055854\n",
       "std       39.884124\n",
       "min        0.018965\n",
       "25%       12.742425\n",
       "50%       36.427316\n",
       "75%       61.560264\n",
       "max      218.166399\n",
       "Name: Insulin, dtype: float64"
      ]
     },
     "execution_count": 73,
     "metadata": {},
     "output_type": "execute_result"
    }
   ],
   "source": [
    "error.describe()"
   ]
  },
  {
   "cell_type": "code",
   "execution_count": 74,
   "id": "66c59d01",
   "metadata": {},
   "outputs": [
    {
     "data": {
      "text/plain": [
       "59.39160109822888"
      ]
     },
     "execution_count": 74,
     "metadata": {},
     "output_type": "execute_result"
    }
   ],
   "source": [
    "# RMSE(error 제곱 -> 평균 -> 루트)\n",
    "# 126.89512636995443\n",
    "# 114.07729048819579(600 이상값 제거)\n",
    "# 84.11142866717003(OUT 이상값 제거)\n",
    "# 60.16468439299014(best_estimator)\n",
    "# 59.39160109822888(n_iter=100)\n",
    "np.sqrt(((y_train - y_predict) ** 2).mean())"
   ]
  },
  {
   "cell_type": "markdown",
   "id": "0721a5bc",
   "metadata": {},
   "source": [
    "# 트리 알고리즘 분석하기\n",
    "* 의사결정나무를 시각화\n",
    "* 피처의 중요도 구하기"
   ]
  },
  {
   "cell_type": "code",
   "execution_count": 75,
   "id": "453bb439",
   "metadata": {},
   "outputs": [
    {
     "data": {
      "text/plain": [
       "array([0.03259473, 0.4821477 , 0.05181559, 0.07811856, 0.1173996 ,\n",
       "       0.08845975, 0.09899999, 0.05046408])"
      ]
     },
     "execution_count": 75,
     "metadata": {},
     "output_type": "execute_result"
    }
   ],
   "source": [
    "# 피처의 중요도 추출\n",
    "\n",
    "best_estimator.feature_importances_"
   ]
  },
  {
   "cell_type": "code",
   "execution_count": 76,
   "id": "5930744a",
   "metadata": {},
   "outputs": [
    {
     "data": {
      "text/plain": [
       "<AxesSubplot:>"
      ]
     },
     "execution_count": 76,
     "metadata": {},
     "output_type": "execute_result"
    },
    {
     "data": {
      "image/png": "[encoded data removed]",
      "text/plain": [
       "<Figure size 640x480 with 1 Axes>"
      ]
     },
     "metadata": {},
     "output_type": "display_data"
    }
   ],
   "source": [
    "# 피처 중요도 시각화\n",
    "\n",
    "sns.barplot(x=best_estimator.feature_importances_, y=feature_names)"
   ]
  },
  {
   "cell_type": "markdown",
   "id": "bbb3ad11",
   "metadata": {},
   "source": [
    "# 예측\n",
    "* 실전 시험문제(X_test)라고 보면 됨. 우리가 정답을 직접 예측.\n",
    "* Insulin이 0인 값을 예측했기 때문엥 정답을 알 수 없음.\n",
    "* 따라서 점수는 train set으로 측정한 값을 참고."
   ]
  },
  {
   "cell_type": "code",
   "execution_count": 77,
   "id": "6950138a",
   "metadata": {},
   "outputs": [
    {
     "data": {
      "text/plain": [
       "array([186.46941716,  58.63397454, 189.12541811, 139.6808322 ,\n",
       "       161.54815704])"
      ]
     },
     "execution_count": 77,
     "metadata": {},
     "output_type": "execute_result"
    }
   ],
   "source": [
    "y_test = best_estimator.predict(X_test)\n",
    "y_test[:5]"
   ]
  },
  {
   "cell_type": "code",
   "execution_count": 78,
   "id": "e7502203",
   "metadata": {},
   "outputs": [
    {
     "data": {
      "text/html": [
       "<div>\n",
       "<style scoped>\n",
       "    .dataframe tbody tr th:only-of-type {\n",
       "        vertical-align: middle;\n",
       "    }\n",
       "\n",
       "    .dataframe tbody tr th {\n",
       "        vertical-align: top;\n",
       "    }\n",
       "\n",
       "    .dataframe thead th {\n",
       "        text-align: right;\n",
       "    }\n",
       "</style>\n",
       "<table border=\"1\" class=\"dataframe\">\n",
       "  <thead>\n",
       "    <tr style=\"text-align: right;\">\n",
       "      <th></th>\n",
       "      <th>count</th>\n",
       "      <th>mean</th>\n",
       "      <th>std</th>\n",
       "      <th>min</th>\n",
       "      <th>25%</th>\n",
       "      <th>50%</th>\n",
       "      <th>75%</th>\n",
       "      <th>max</th>\n",
       "    </tr>\n",
       "    <tr>\n",
       "      <th>Outcome</th>\n",
       "      <th></th>\n",
       "      <th></th>\n",
       "      <th></th>\n",
       "      <th></th>\n",
       "      <th></th>\n",
       "      <th></th>\n",
       "      <th></th>\n",
       "      <th></th>\n",
       "    </tr>\n",
       "  </thead>\n",
       "  <tbody>\n",
       "    <tr>\n",
       "      <th>0</th>\n",
       "      <td>254.0</td>\n",
       "      <td>115.917323</td>\n",
       "      <td>69.844697</td>\n",
       "      <td>15.0</td>\n",
       "      <td>64.25</td>\n",
       "      <td>100.0</td>\n",
       "      <td>151.00</td>\n",
       "      <td>342.0</td>\n",
       "    </tr>\n",
       "    <tr>\n",
       "      <th>1</th>\n",
       "      <td>116.0</td>\n",
       "      <td>169.163793</td>\n",
       "      <td>70.789454</td>\n",
       "      <td>14.0</td>\n",
       "      <td>124.25</td>\n",
       "      <td>160.0</td>\n",
       "      <td>207.75</td>\n",
       "      <td>360.0</td>\n",
       "    </tr>\n",
       "  </tbody>\n",
       "</table>\n",
       "</div>"
      ],
      "text/plain": [
       "         count        mean        std   min     25%    50%     75%    max\n",
       "Outcome                                                                  \n",
       "0        254.0  115.917323  69.844697  15.0   64.25  100.0  151.00  342.0\n",
       "1        116.0  169.163793  70.789454  14.0  124.25  160.0  207.75  360.0"
      ]
     },
     "execution_count": 78,
     "metadata": {},
     "output_type": "execute_result"
    }
   ],
   "source": [
    "train.groupby(\"Outcome\")[\"Insulin\"].describe()"
   ]
  },
  {
   "cell_type": "code",
   "execution_count": 79,
   "id": "4dc8f309",
   "metadata": {},
   "outputs": [],
   "source": [
    "test[\"Insulin\"] = y_test"
   ]
  },
  {
   "cell_type": "code",
   "execution_count": 80,
   "id": "f352c955",
   "metadata": {},
   "outputs": [
    {
     "data": {
      "text/html": [
       "<div>\n",
       "<style scoped>\n",
       "    .dataframe tbody tr th:only-of-type {\n",
       "        vertical-align: middle;\n",
       "    }\n",
       "\n",
       "    .dataframe tbody tr th {\n",
       "        vertical-align: top;\n",
       "    }\n",
       "\n",
       "    .dataframe thead th {\n",
       "        text-align: right;\n",
       "    }\n",
       "</style>\n",
       "<table border=\"1\" class=\"dataframe\">\n",
       "  <thead>\n",
       "    <tr style=\"text-align: right;\">\n",
       "      <th></th>\n",
       "      <th>count</th>\n",
       "      <th>mean</th>\n",
       "      <th>std</th>\n",
       "      <th>min</th>\n",
       "      <th>25%</th>\n",
       "      <th>50%</th>\n",
       "      <th>75%</th>\n",
       "      <th>max</th>\n",
       "    </tr>\n",
       "    <tr>\n",
       "      <th>Outcome</th>\n",
       "      <th></th>\n",
       "      <th></th>\n",
       "      <th></th>\n",
       "      <th></th>\n",
       "      <th></th>\n",
       "      <th></th>\n",
       "      <th></th>\n",
       "      <th></th>\n",
       "    </tr>\n",
       "  </thead>\n",
       "  <tbody>\n",
       "    <tr>\n",
       "      <th>0</th>\n",
       "      <td>236.0</td>\n",
       "      <td>131.214565</td>\n",
       "      <td>40.889579</td>\n",
       "      <td>55.142117</td>\n",
       "      <td>96.020746</td>\n",
       "      <td>136.691759</td>\n",
       "      <td>163.722273</td>\n",
       "      <td>225.607853</td>\n",
       "    </tr>\n",
       "    <tr>\n",
       "      <th>1</th>\n",
       "      <td>138.0</td>\n",
       "      <td>169.795006</td>\n",
       "      <td>28.789807</td>\n",
       "      <td>95.007078</td>\n",
       "      <td>150.782953</td>\n",
       "      <td>171.083539</td>\n",
       "      <td>190.809340</td>\n",
       "      <td>247.810503</td>\n",
       "    </tr>\n",
       "  </tbody>\n",
       "</table>\n",
       "</div>"
      ],
      "text/plain": [
       "         count        mean        std        min         25%         50%  \\\n",
       "Outcome                                                                    \n",
       "0        236.0  131.214565  40.889579  55.142117   96.020746  136.691759   \n",
       "1        138.0  169.795006  28.789807  95.007078  150.782953  171.083539   \n",
       "\n",
       "                75%         max  \n",
       "Outcome                          \n",
       "0        163.722273  225.607853  \n",
       "1        190.809340  247.810503  "
      ]
     },
     "execution_count": 80,
     "metadata": {},
     "output_type": "execute_result"
    }
   ],
   "source": [
    "test.groupby(\"Outcome\")[\"Insulin\"].describe()"
   ]
  },
  {
   "cell_type": "code",
   "execution_count": 81,
   "id": "31235b85",
   "metadata": {},
   "outputs": [
    {
     "data": {
      "text/plain": [
       "<AxesSubplot:xlabel='Outcome', ylabel='Insulin'>"
      ]
     },
     "execution_count": 81,
     "metadata": {},
     "output_type": "execute_result"
    },
    {
     "data": {
      "image/png": "[encoded data removed]",
      "text/plain": [
       "<Figure size 640x480 with 1 Axes>"
      ]
     },
     "metadata": {},
     "output_type": "display_data"
    }
   ],
   "source": [
    "# Insulin 평균값\n",
    "sns.barplot(data=train, x=\"Outcome\", y=\"Insulin\")"
   ]
  },
  {
   "cell_type": "code",
   "execution_count": 82,
   "id": "1292c3ed",
   "metadata": {},
   "outputs": [
    {
     "data": {
      "text/plain": [
       "<AxesSubplot:xlabel='Outcome', ylabel='Insulin'>"
      ]
     },
     "execution_count": 82,
     "metadata": {},
     "output_type": "execute_result"
    },
    {
     "data": {
      "image/png": "[encoded data removed]",
      "text/plain": [
       "<Figure size 640x480 with 1 Axes>"
      ]
     },
     "metadata": {},
     "output_type": "display_data"
    }
   ],
   "source": [
    "# 예측값\n",
    "sns.barplot(data=test, x=\"Outcome\", y=\"Insulin\")"
   ]
  },
  {
   "cell_type": "markdown",
   "id": "539db172",
   "metadata": {},
   "source": [
    "# 예측값을 CSV 파일로 저장하기"
   ]
  },
  {
   "cell_type": "code",
   "execution_count": 83,
   "id": "cab10f8c",
   "metadata": {},
   "outputs": [
    {
     "data": {
      "text/plain": [
       "0      0\n",
       "1      0\n",
       "2      0\n",
       "5      0\n",
       "7      0\n",
       "      ..\n",
       "761    0\n",
       "762    0\n",
       "764    0\n",
       "766    0\n",
       "767    0\n",
       "Name: Insulin, Length: 374, dtype: int64"
      ]
     },
     "execution_count": 83,
     "metadata": {},
     "output_type": "execute_result"
    }
   ],
   "source": [
    "df.loc[df[\"Insulin\"] == 0, \"Insulin\"]"
   ]
  },
  {
   "cell_type": "code",
   "execution_count": 85,
   "id": "0ff929c5",
   "metadata": {},
   "outputs": [],
   "source": [
    "df.loc[df[\"Insulin\"] == 0, \"Insulin\"] = test[\"Insulin\"]"
   ]
  },
  {
   "cell_type": "code",
   "execution_count": 89,
   "id": "2eb80815",
   "metadata": {},
   "outputs": [],
   "source": [
    "df.to_csv(\"diabetes_fill_insulin.csv\", index=False)"
   ]
  },
  {
   "cell_type": "code",
   "execution_count": 90,
   "id": "a49e1073",
   "metadata": {},
   "outputs": [
    {
     "data": {
      "text/html": [
       "<div>\n",
       "<style scoped>\n",
       "    .dataframe tbody tr th:only-of-type {\n",
       "        vertical-align: middle;\n",
       "    }\n",
       "\n",
       "    .dataframe tbody tr th {\n",
       "        vertical-align: top;\n",
       "    }\n",
       "\n",
       "    .dataframe thead th {\n",
       "        text-align: right;\n",
       "    }\n",
       "</style>\n",
       "<table border=\"1\" class=\"dataframe\">\n",
       "  <thead>\n",
       "    <tr style=\"text-align: right;\">\n",
       "      <th></th>\n",
       "      <th>Pregnancies</th>\n",
       "      <th>Glucose</th>\n",
       "      <th>BloodPressure</th>\n",
       "      <th>SkinThickness</th>\n",
       "      <th>Insulin</th>\n",
       "      <th>BMI</th>\n",
       "      <th>DiabetesPedigreeFunction</th>\n",
       "      <th>Age</th>\n",
       "      <th>Outcome</th>\n",
       "    </tr>\n",
       "  </thead>\n",
       "  <tbody>\n",
       "    <tr>\n",
       "      <th>0</th>\n",
       "      <td>6</td>\n",
       "      <td>148</td>\n",
       "      <td>72</td>\n",
       "      <td>35</td>\n",
       "      <td>186.469417</td>\n",
       "      <td>33.6</td>\n",
       "      <td>0.627</td>\n",
       "      <td>50</td>\n",
       "      <td>1</td>\n",
       "    </tr>\n",
       "    <tr>\n",
       "      <th>1</th>\n",
       "      <td>1</td>\n",
       "      <td>85</td>\n",
       "      <td>66</td>\n",
       "      <td>29</td>\n",
       "      <td>58.633975</td>\n",
       "      <td>26.6</td>\n",
       "      <td>0.351</td>\n",
       "      <td>31</td>\n",
       "      <td>0</td>\n",
       "    </tr>\n",
       "    <tr>\n",
       "      <th>2</th>\n",
       "      <td>8</td>\n",
       "      <td>183</td>\n",
       "      <td>64</td>\n",
       "      <td>0</td>\n",
       "      <td>189.125418</td>\n",
       "      <td>23.3</td>\n",
       "      <td>0.672</td>\n",
       "      <td>32</td>\n",
       "      <td>1</td>\n",
       "    </tr>\n",
       "    <tr>\n",
       "      <th>3</th>\n",
       "      <td>1</td>\n",
       "      <td>89</td>\n",
       "      <td>66</td>\n",
       "      <td>23</td>\n",
       "      <td>94.000000</td>\n",
       "      <td>28.1</td>\n",
       "      <td>0.167</td>\n",
       "      <td>21</td>\n",
       "      <td>0</td>\n",
       "    </tr>\n",
       "    <tr>\n",
       "      <th>4</th>\n",
       "      <td>0</td>\n",
       "      <td>137</td>\n",
       "      <td>40</td>\n",
       "      <td>35</td>\n",
       "      <td>168.000000</td>\n",
       "      <td>43.1</td>\n",
       "      <td>2.288</td>\n",
       "      <td>33</td>\n",
       "      <td>1</td>\n",
       "    </tr>\n",
       "    <tr>\n",
       "      <th>...</th>\n",
       "      <td>...</td>\n",
       "      <td>...</td>\n",
       "      <td>...</td>\n",
       "      <td>...</td>\n",
       "      <td>...</td>\n",
       "      <td>...</td>\n",
       "      <td>...</td>\n",
       "      <td>...</td>\n",
       "      <td>...</td>\n",
       "    </tr>\n",
       "    <tr>\n",
       "      <th>763</th>\n",
       "      <td>10</td>\n",
       "      <td>101</td>\n",
       "      <td>76</td>\n",
       "      <td>48</td>\n",
       "      <td>180.000000</td>\n",
       "      <td>32.9</td>\n",
       "      <td>0.171</td>\n",
       "      <td>63</td>\n",
       "      <td>0</td>\n",
       "    </tr>\n",
       "    <tr>\n",
       "      <th>764</th>\n",
       "      <td>2</td>\n",
       "      <td>122</td>\n",
       "      <td>70</td>\n",
       "      <td>27</td>\n",
       "      <td>155.038392</td>\n",
       "      <td>36.8</td>\n",
       "      <td>0.340</td>\n",
       "      <td>27</td>\n",
       "      <td>0</td>\n",
       "    </tr>\n",
       "    <tr>\n",
       "      <th>765</th>\n",
       "      <td>5</td>\n",
       "      <td>121</td>\n",
       "      <td>72</td>\n",
       "      <td>23</td>\n",
       "      <td>112.000000</td>\n",
       "      <td>26.2</td>\n",
       "      <td>0.245</td>\n",
       "      <td>30</td>\n",
       "      <td>0</td>\n",
       "    </tr>\n",
       "    <tr>\n",
       "      <th>766</th>\n",
       "      <td>1</td>\n",
       "      <td>126</td>\n",
       "      <td>60</td>\n",
       "      <td>0</td>\n",
       "      <td>155.710002</td>\n",
       "      <td>30.1</td>\n",
       "      <td>0.349</td>\n",
       "      <td>47</td>\n",
       "      <td>1</td>\n",
       "    </tr>\n",
       "    <tr>\n",
       "      <th>767</th>\n",
       "      <td>1</td>\n",
       "      <td>93</td>\n",
       "      <td>70</td>\n",
       "      <td>31</td>\n",
       "      <td>77.756895</td>\n",
       "      <td>30.4</td>\n",
       "      <td>0.315</td>\n",
       "      <td>23</td>\n",
       "      <td>0</td>\n",
       "    </tr>\n",
       "  </tbody>\n",
       "</table>\n",
       "<p>768 rows × 9 columns</p>\n",
       "</div>"
      ],
      "text/plain": [
       "     Pregnancies  Glucose  BloodPressure  SkinThickness     Insulin   BMI  \\\n",
       "0              6      148             72             35  186.469417  33.6   \n",
       "1              1       85             66             29   58.633975  26.6   \n",
       "2              8      183             64              0  189.125418  23.3   \n",
       "3              1       89             66             23   94.000000  28.1   \n",
       "4              0      137             40             35  168.000000  43.1   \n",
       "..           ...      ...            ...            ...         ...   ...   \n",
       "763           10      101             76             48  180.000000  32.9   \n",
       "764            2      122             70             27  155.038392  36.8   \n",
       "765            5      121             72             23  112.000000  26.2   \n",
       "766            1      126             60              0  155.710002  30.1   \n",
       "767            1       93             70             31   77.756895  30.4   \n",
       "\n",
       "     DiabetesPedigreeFunction  Age  Outcome  \n",
       "0                       0.627   50        1  \n",
       "1                       0.351   31        0  \n",
       "2                       0.672   32        1  \n",
       "3                       0.167   21        0  \n",
       "4                       2.288   33        1  \n",
       "..                        ...  ...      ...  \n",
       "763                     0.171   63        0  \n",
       "764                     0.340   27        0  \n",
       "765                     0.245   30        0  \n",
       "766                     0.349   47        1  \n",
       "767                     0.315   23        0  \n",
       "\n",
       "[768 rows x 9 columns]"
      ]
     },
     "execution_count": 90,
     "metadata": {},
     "output_type": "execute_result"
    }
   ],
   "source": [
    "pd.read_csv(\"diabetes_fill_insulin.csv\")"
   ]
  },
  {
   "cell_type": "code",
   "execution_count": null,
   "id": "770fca33",
   "metadata": {},
   "outputs": [],
   "source": []
  }
 ],
 "metadata": {
  "kernelspec": {
   "display_name": "Python 3 (ipykernel)",
   "language": "python",
   "name": "python3"
  },
  "language_info": {
   "codemirror_mode": {
    "name": "ipython",
    "version": 3
   },
   "file_extension": ".py",
   "mimetype": "text/x-python",
   "name": "python",
   "nbconvert_exporter": "python",
   "pygments_lexer": "ipython3",
   "version": "3.9.13"
  },
  "toc": {
   "base_numbering": 1,
   "nav_menu": {},
   "number_sections": true,
   "sideBar": true,
   "skip_h1_title": false,
   "title_cell": "Table of Contents",
   "title_sidebar": "Contents",
   "toc_cell": false,
   "toc_position": {
    "height": "calc(100% - 180px)",
    "left": "10px",
    "top": "150px",
    "width": "307.2px"
   },
   "toc_section_display": true,
   "toc_window_display": false
  }
 },
 "nbformat": 4,
 "nbformat_minor": 5
}
