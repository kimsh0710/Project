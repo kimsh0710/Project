{
 "cells": [
  {
   "cell_type": "markdown",
   "id": "87cc7dbe",
   "metadata": {},
   "source": [
    "# 데이터 출처\n",
    "* Pima Indians 당뇨병 데이터셋(Pima Indians Diabetes Database)\n",
    "* 캐글 URL : https://www.kaggle.com/datasets/uciml/pima-indians-diabetes-database"
   ]
  },
  {
   "cell_type": "markdown",
   "id": "30062b58",
   "metadata": {},
   "source": [
    "## 데이터 구성\n",
    "* Pregnancies : 임신 횟수\n",
    "* Glucose : 2시간 동안의 경구 포도당 내성 검사에서 혈장 포도당 농도\n",
    "* BloodPressure : 이완기 혈압 (mm Hg)\n",
    "* SkinThickness : 삼두근 피부 주름 두께 (mm), 체지방을 추정하는데 사용되는 값\n",
    "* Insulin : 2시간 혈청 인슐린 (mu U / ml)\n",
    "* BMI : 체질량 지수 (체중kg / 키(m)^2)\n",
    "* DiabetesPedigreeFunction : 당뇨병 혈통 기능\n",
    "* Age : 나이\n",
    "* Outcome : 768개 중에 268개의 결과 클래스 변수(0 또는 1)는 1이고 나머지는 0입니다."
   ]
  },
  {
   "cell_type": "markdown",
   "id": "8c207dd4",
   "metadata": {},
   "source": [
    "# 필요한 라이브러리 로드"
   ]
  },
  {
   "cell_type": "code",
   "execution_count": 1,
   "id": "39c4f2a0",
   "metadata": {},
   "outputs": [],
   "source": [
    "%config Completer.use_jedi = False\n",
    "import pandas as pd\n",
    "import numpy as np\n",
    "import seaborn as sns\n",
    "import matplotlib.pyplot as plt\n",
    "\n",
    "%matplotlib inline"
   ]
  },
  {
   "cell_type": "markdown",
   "id": "5681ed56",
   "metadata": {},
   "source": [
    "# 데이터셋 로드"
   ]
  },
  {
   "cell_type": "code",
   "execution_count": 2,
   "id": "69d50362",
   "metadata": {
    "scrolled": true
   },
   "outputs": [
    {
     "data": {
      "text/plain": [
       "(768, 16)"
      ]
     },
     "execution_count": 2,
     "metadata": {},
     "output_type": "execute_result"
    }
   ],
   "source": [
    "df = pd.read_csv(\"diabetes_feature.csv\")\n",
    "df.shape"
   ]
  },
  {
   "cell_type": "code",
   "execution_count": 3,
   "id": "964218db",
   "metadata": {},
   "outputs": [],
   "source": [
    "df_insulin = pd.read_csv(\"diabetes_fill_insulin.csv\")\n",
    "df[\"Insulin\"] = df_insulin[\"Insulin\"]"
   ]
  },
  {
   "cell_type": "code",
   "execution_count": 4,
   "id": "81e522a0",
   "metadata": {
    "scrolled": true
   },
   "outputs": [
    {
     "data": {
      "text/html": [
       "<div>\n",
       "<style scoped>\n",
       "    .dataframe tbody tr th:only-of-type {\n",
       "        vertical-align: middle;\n",
       "    }\n",
       "\n",
       "    .dataframe tbody tr th {\n",
       "        vertical-align: top;\n",
       "    }\n",
       "\n",
       "    .dataframe thead th {\n",
       "        text-align: right;\n",
       "    }\n",
       "</style>\n",
       "<table border=\"1\" class=\"dataframe\">\n",
       "  <thead>\n",
       "    <tr style=\"text-align: right;\">\n",
       "      <th></th>\n",
       "      <th>Pregnancies</th>\n",
       "      <th>Glucose</th>\n",
       "      <th>BloodPressure</th>\n",
       "      <th>SkinThickness</th>\n",
       "      <th>Insulin</th>\n",
       "      <th>BMI</th>\n",
       "      <th>DiabetesPedigreeFunction</th>\n",
       "      <th>Age</th>\n",
       "      <th>Outcome</th>\n",
       "      <th>Pregnancies_high</th>\n",
       "      <th>Age_low</th>\n",
       "      <th>Age_middle</th>\n",
       "      <th>Age_high</th>\n",
       "      <th>Insulin_nan</th>\n",
       "      <th>Insulin_log</th>\n",
       "      <th>low_glu_insulin</th>\n",
       "    </tr>\n",
       "  </thead>\n",
       "  <tbody>\n",
       "    <tr>\n",
       "      <th>0</th>\n",
       "      <td>6</td>\n",
       "      <td>148</td>\n",
       "      <td>72</td>\n",
       "      <td>35</td>\n",
       "      <td>186.469417</td>\n",
       "      <td>33.6</td>\n",
       "      <td>0.627</td>\n",
       "      <td>50</td>\n",
       "      <td>1</td>\n",
       "      <td>False</td>\n",
       "      <td>False</td>\n",
       "      <td>True</td>\n",
       "      <td>False</td>\n",
       "      <td>169.5</td>\n",
       "      <td>5.138735</td>\n",
       "      <td>False</td>\n",
       "    </tr>\n",
       "    <tr>\n",
       "      <th>1</th>\n",
       "      <td>1</td>\n",
       "      <td>85</td>\n",
       "      <td>66</td>\n",
       "      <td>29</td>\n",
       "      <td>58.633975</td>\n",
       "      <td>26.6</td>\n",
       "      <td>0.351</td>\n",
       "      <td>31</td>\n",
       "      <td>0</td>\n",
       "      <td>False</td>\n",
       "      <td>False</td>\n",
       "      <td>True</td>\n",
       "      <td>False</td>\n",
       "      <td>102.5</td>\n",
       "      <td>4.639572</td>\n",
       "      <td>True</td>\n",
       "    </tr>\n",
       "    <tr>\n",
       "      <th>2</th>\n",
       "      <td>8</td>\n",
       "      <td>183</td>\n",
       "      <td>64</td>\n",
       "      <td>0</td>\n",
       "      <td>189.125418</td>\n",
       "      <td>23.3</td>\n",
       "      <td>0.672</td>\n",
       "      <td>32</td>\n",
       "      <td>1</td>\n",
       "      <td>True</td>\n",
       "      <td>False</td>\n",
       "      <td>True</td>\n",
       "      <td>False</td>\n",
       "      <td>169.5</td>\n",
       "      <td>5.138735</td>\n",
       "      <td>False</td>\n",
       "    </tr>\n",
       "    <tr>\n",
       "      <th>3</th>\n",
       "      <td>1</td>\n",
       "      <td>89</td>\n",
       "      <td>66</td>\n",
       "      <td>23</td>\n",
       "      <td>94.000000</td>\n",
       "      <td>28.1</td>\n",
       "      <td>0.167</td>\n",
       "      <td>21</td>\n",
       "      <td>0</td>\n",
       "      <td>False</td>\n",
       "      <td>True</td>\n",
       "      <td>False</td>\n",
       "      <td>False</td>\n",
       "      <td>94.0</td>\n",
       "      <td>4.553877</td>\n",
       "      <td>True</td>\n",
       "    </tr>\n",
       "    <tr>\n",
       "      <th>4</th>\n",
       "      <td>0</td>\n",
       "      <td>137</td>\n",
       "      <td>40</td>\n",
       "      <td>35</td>\n",
       "      <td>168.000000</td>\n",
       "      <td>43.1</td>\n",
       "      <td>2.288</td>\n",
       "      <td>33</td>\n",
       "      <td>1</td>\n",
       "      <td>False</td>\n",
       "      <td>False</td>\n",
       "      <td>True</td>\n",
       "      <td>False</td>\n",
       "      <td>168.0</td>\n",
       "      <td>5.129899</td>\n",
       "      <td>False</td>\n",
       "    </tr>\n",
       "  </tbody>\n",
       "</table>\n",
       "</div>"
      ],
      "text/plain": [
       "   Pregnancies  Glucose  BloodPressure  SkinThickness     Insulin   BMI  \\\n",
       "0            6      148             72             35  186.469417  33.6   \n",
       "1            1       85             66             29   58.633975  26.6   \n",
       "2            8      183             64              0  189.125418  23.3   \n",
       "3            1       89             66             23   94.000000  28.1   \n",
       "4            0      137             40             35  168.000000  43.1   \n",
       "\n",
       "   DiabetesPedigreeFunction  Age  Outcome  Pregnancies_high  Age_low  \\\n",
       "0                     0.627   50        1             False    False   \n",
       "1                     0.351   31        0             False    False   \n",
       "2                     0.672   32        1              True    False   \n",
       "3                     0.167   21        0             False     True   \n",
       "4                     2.288   33        1             False    False   \n",
       "\n",
       "   Age_middle  Age_high  Insulin_nan  Insulin_log  low_glu_insulin  \n",
       "0        True     False        169.5     5.138735            False  \n",
       "1        True     False        102.5     4.639572             True  \n",
       "2        True     False        169.5     5.138735            False  \n",
       "3       False     False         94.0     4.553877             True  \n",
       "4        True     False        168.0     5.129899            False  "
      ]
     },
     "execution_count": 4,
     "metadata": {},
     "output_type": "execute_result"
    }
   ],
   "source": [
    "df.head()"
   ]
  },
  {
   "cell_type": "markdown",
   "id": "50fb59e1",
   "metadata": {},
   "source": [
    "# 학습과 예측에 사용할 데이터셋 만들기"
   ]
  },
  {
   "cell_type": "code",
   "execution_count": 5,
   "id": "621cbaba",
   "metadata": {
    "scrolled": true
   },
   "outputs": [
    {
     "data": {
      "text/plain": [
       "Index(['Pregnancies', 'Glucose', 'BloodPressure', 'SkinThickness', 'Insulin',\n",
       "       'BMI', 'DiabetesPedigreeFunction', 'Age', 'Outcome', 'Pregnancies_high',\n",
       "       'Age_low', 'Age_middle', 'Age_high', 'Insulin_nan', 'Insulin_log',\n",
       "       'low_glu_insulin'],\n",
       "      dtype='object')"
      ]
     },
     "execution_count": 5,
     "metadata": {},
     "output_type": "execute_result"
    }
   ],
   "source": [
    "df.columns"
   ]
  },
  {
   "cell_type": "code",
   "execution_count": 6,
   "id": "b44c2461",
   "metadata": {},
   "outputs": [
    {
     "data": {
      "text/plain": [
       "(768, 8)"
      ]
     },
     "execution_count": 6,
     "metadata": {},
     "output_type": "execute_result"
    }
   ],
   "source": [
    "X = df[['Glucose', 'BloodPressure', 'SkinThickness',\n",
    "       'BMI', 'DiabetesPedigreeFunction', 'Age', 'Pregnancies_high',\n",
    "       'Insulin']]\n",
    "X.shape"
   ]
  },
  {
   "cell_type": "code",
   "execution_count": 7,
   "id": "40c41050",
   "metadata": {},
   "outputs": [
    {
     "data": {
      "text/plain": [
       "(768,)"
      ]
     },
     "execution_count": 7,
     "metadata": {},
     "output_type": "execute_result"
    }
   ],
   "source": [
    "y = df[\"Outcome\"]\n",
    "y.shape"
   ]
  },
  {
   "cell_type": "code",
   "execution_count": 8,
   "id": "4960faa2",
   "metadata": {},
   "outputs": [],
   "source": [
    "# 사이킷런에서 제공하는 model_selection의 train_test_split으로 만들기\n",
    "from sklearn.model_selection import train_test_split\n",
    "\n",
    "X_train, X_test, y_train, y_test = train_test_split(\n",
    "                                    X, y, test_size=0.2, random_state=42)"
   ]
  },
  {
   "cell_type": "code",
   "execution_count": 9,
   "id": "51b0e904",
   "metadata": {},
   "outputs": [
    {
     "data": {
      "text/plain": [
       "((614, 8), (614,))"
      ]
     },
     "execution_count": 9,
     "metadata": {},
     "output_type": "execute_result"
    }
   ],
   "source": [
    "# train 세트의 문제와 정답 데이터 수를 확인\n",
    "X_train.shape, y_train.shape"
   ]
  },
  {
   "cell_type": "code",
   "execution_count": 10,
   "id": "244ebefa",
   "metadata": {
    "scrolled": false
   },
   "outputs": [
    {
     "data": {
      "text/plain": [
       "((154, 8), (154,))"
      ]
     },
     "execution_count": 10,
     "metadata": {},
     "output_type": "execute_result"
    }
   ],
   "source": [
    "# test 세트의 문제와 정답 데이터 수를 확인\n",
    "X_test.shape, y_test.shape"
   ]
  },
  {
   "cell_type": "markdown",
   "id": "9468b2a6",
   "metadata": {},
   "source": [
    "# 머신러닝 알고리즘 사용하기"
   ]
  },
  {
   "cell_type": "markdown",
   "id": "d6b9aa1f",
   "metadata": {},
   "source": [
    "## DecisionTreeClassifier"
   ]
  },
  {
   "cell_type": "code",
   "execution_count": 11,
   "id": "711b5af2",
   "metadata": {},
   "outputs": [],
   "source": [
    "from sklearn.tree import DecisionTreeClassifier\n",
    "\n",
    "# model = DecisionTreeClassifier(random_state=42)\n",
    "# model"
   ]
  },
  {
   "cell_type": "markdown",
   "id": "6a7b7556",
   "metadata": {},
   "source": [
    "## Bagging(RandomForestClassifier)"
   ]
  },
  {
   "cell_type": "code",
   "execution_count": 28,
   "id": "8cd5ec68",
   "metadata": {},
   "outputs": [],
   "source": [
    "# from sklearn.ensemble import RandomForestClassifier\n",
    "\n",
    "# model = RandomForestClassifier(n_estimators=100, random_state=42)"
   ]
  },
  {
   "cell_type": "markdown",
   "id": "d515d817",
   "metadata": {},
   "source": [
    "## Boosting"
   ]
  },
  {
   "cell_type": "code",
   "execution_count": 16,
   "id": "54fe5675",
   "metadata": {},
   "outputs": [
    {
     "data": {
      "text/plain": [
       "GradientBoostingClassifier(random_state=42)"
      ]
     },
     "execution_count": 16,
     "metadata": {},
     "output_type": "execute_result"
    }
   ],
   "source": [
    "from sklearn.ensemble import GradientBoostingClassifier\n",
    "\n",
    "model = GradientBoostingClassifier(random_state=42)\n",
    "model"
   ]
  },
  {
   "cell_type": "code",
   "execution_count": null,
   "id": "4bd38501",
   "metadata": {},
   "outputs": [],
   "source": [
    "from sklearn.model_selection import RandomizedSearchCV\n",
    "\n",
    "max_depth = np.random.randint(2,20,10)\n",
    "max_features = np.random.uniform(0.3, 1.0, 10)\n",
    "\n",
    "param_distributions = {\"max_depth\":max_depth, \"max_features\":max_features}\n",
    "\n",
    "\n",
    "clf = RandomizedSearchCV(estimator, param_distributions, n_iter=10, \n",
    "                   scoring=\"accuracy\", n_jobs=-1, cv=5, verbose=2)\n",
    "\n",
    "clf.fit(X_train, y_train)\n",
    "    "
   ]
  },
  {
   "cell_type": "code",
   "execution_count": 34,
   "id": "872a4df2",
   "metadata": {},
   "outputs": [
    {
     "data": {
      "text/plain": [
       "{'max_features': 0.857465225895093, 'max_depth': 4}"
      ]
     },
     "execution_count": 34,
     "metadata": {},
     "output_type": "execute_result"
    }
   ],
   "source": [
    "clf.best_params_"
   ]
  },
  {
   "cell_type": "code",
   "execution_count": 35,
   "id": "f0170594",
   "metadata": {},
   "outputs": [
    {
     "data": {
      "text/plain": [
       "0.8681060908969747"
      ]
     },
     "execution_count": 35,
     "metadata": {},
     "output_type": "execute_result"
    }
   ],
   "source": [
    "clf.best_score_"
   ]
  },
  {
   "cell_type": "markdown",
   "id": "086f0e62",
   "metadata": {},
   "source": [
    "## 여러 개의 알고리즘 사용해서 비교하기"
   ]
  },
  {
   "cell_type": "code",
   "execution_count": 12,
   "id": "ee71d1ca",
   "metadata": {},
   "outputs": [
    {
     "data": {
      "text/plain": [
       "[DecisionTreeClassifier(random_state=42),\n",
       " RandomForestClassifier(random_state=42),\n",
       " GradientBoostingClassifier(random_state=42)]"
      ]
     },
     "execution_count": 12,
     "metadata": {},
     "output_type": "execute_result"
    }
   ],
   "source": [
    "from sklearn.tree import DecisionTreeClassifier\n",
    "from sklearn.ensemble import RandomForestClassifier, GradientBoostingClassifier\n",
    "\n",
    "estimators = [DecisionTreeClassifier(random_state=42),\n",
    "             RandomForestClassifier(random_state=42),\n",
    "             GradientBoostingClassifier(random_state=42)]\n",
    "estimators"
   ]
  },
  {
   "cell_type": "code",
   "execution_count": 13,
   "id": "2bdaf278",
   "metadata": {},
   "outputs": [
    {
     "name": "stdout",
     "output_type": "stream",
     "text": [
      "Fitting 5 folds for each of 100 candidates, totalling 500 fits\n",
      "Fitting 5 folds for each of 100 candidates, totalling 500 fits\n",
      "Fitting 5 folds for each of 100 candidates, totalling 500 fits\n"
     ]
    }
   ],
   "source": [
    "from sklearn.model_selection import RandomizedSearchCV\n",
    "\n",
    "max_depth = np.random.randint(2,20,10)\n",
    "max_features = np.random.uniform(0.4, 1.0, 10)\n",
    "\n",
    "param_distributions = {\"max_depth\":max_depth, \"max_features\":max_features}\n",
    "\n",
    "results = []\n",
    "for estimator in estimators:\n",
    "    result = []\n",
    "    if estimator.__class__.__name__ != 'DecisionTreeClassifier':\n",
    "        param_distributions[\"n_estimators\"] = np.random.randint(100, 200, 10)\n",
    "    clf = RandomizedSearchCV(estimator, param_distributions, n_iter=100, \n",
    "                       scoring=\"accuracy\", n_jobs=-1, cv=5, verbose=2)\n",
    "\n",
    "    clf.fit(X_train, y_train)\n",
    "    \n",
    "    result.append(estimator.__class__.__name__)\n",
    "    result.append(clf.best_params_)\n",
    "    result.append(clf.best_score_) # train dataset에서의 점수\n",
    "    result.append(clf.score(X_test, y_test)) # test dataset에서의 점수\n",
    "    result.append(clf.cv_results_)\n",
    "\n",
    "    results.append(result)"
   ]
  },
  {
   "cell_type": "code",
   "execution_count": 14,
   "id": "cf443456",
   "metadata": {},
   "outputs": [
    {
     "data": {
      "text/html": [
       "<div>\n",
       "<style scoped>\n",
       "    .dataframe tbody tr th:only-of-type {\n",
       "        vertical-align: middle;\n",
       "    }\n",
       "\n",
       "    .dataframe tbody tr th {\n",
       "        vertical-align: top;\n",
       "    }\n",
       "\n",
       "    .dataframe thead th {\n",
       "        text-align: right;\n",
       "    }\n",
       "</style>\n",
       "<table border=\"1\" class=\"dataframe\">\n",
       "  <thead>\n",
       "    <tr style=\"text-align: right;\">\n",
       "      <th></th>\n",
       "      <th>estimator</th>\n",
       "      <th>best_params</th>\n",
       "      <th>train_score</th>\n",
       "      <th>test_score</th>\n",
       "      <th>cv_result</th>\n",
       "    </tr>\n",
       "  </thead>\n",
       "  <tbody>\n",
       "    <tr>\n",
       "      <th>0</th>\n",
       "      <td>DecisionTreeClassifier</td>\n",
       "      <td>{'max_features': 0.9854488471695854, 'max_dept...</td>\n",
       "      <td>0.768799</td>\n",
       "      <td>0.727273</td>\n",
       "      <td>{'mean_fit_time': [0.010255527496337891, 0.010...</td>\n",
       "    </tr>\n",
       "    <tr>\n",
       "      <th>1</th>\n",
       "      <td>RandomForestClassifier</td>\n",
       "      <td>{'n_estimators': 167, 'max_features': 0.449858...</td>\n",
       "      <td>0.793176</td>\n",
       "      <td>0.746753</td>\n",
       "      <td>{'mean_fit_time': [0.9196399688720703, 1.34132...</td>\n",
       "    </tr>\n",
       "    <tr>\n",
       "      <th>2</th>\n",
       "      <td>GradientBoostingClassifier</td>\n",
       "      <td>{'n_estimators': 109, 'max_features': 0.704265...</td>\n",
       "      <td>0.788285</td>\n",
       "      <td>0.753247</td>\n",
       "      <td>{'mean_fit_time': [1.3540307998657226, 0.19894...</td>\n",
       "    </tr>\n",
       "  </tbody>\n",
       "</table>\n",
       "</div>"
      ],
      "text/plain": [
       "                    estimator  \\\n",
       "0      DecisionTreeClassifier   \n",
       "1      RandomForestClassifier   \n",
       "2  GradientBoostingClassifier   \n",
       "\n",
       "                                         best_params  train_score  test_score  \\\n",
       "0  {'max_features': 0.9854488471695854, 'max_dept...     0.768799    0.727273   \n",
       "1  {'n_estimators': 167, 'max_features': 0.449858...     0.793176    0.746753   \n",
       "2  {'n_estimators': 109, 'max_features': 0.704265...     0.788285    0.753247   \n",
       "\n",
       "                                           cv_result  \n",
       "0  {'mean_fit_time': [0.010255527496337891, 0.010...  \n",
       "1  {'mean_fit_time': [0.9196399688720703, 1.34132...  \n",
       "2  {'mean_fit_time': [1.3540307998657226, 0.19894...  "
      ]
     },
     "execution_count": 14,
     "metadata": {},
     "output_type": "execute_result"
    }
   ],
   "source": [
    "result_df = pd.DataFrame(results, columns = [\"estimator\", \"best_params\", \"train_score\",\n",
    "                                \"test_score\", \"cv_result\"])\n",
    "result_df"
   ]
  },
  {
   "cell_type": "code",
   "execution_count": 62,
   "id": "fb44e0f9",
   "metadata": {},
   "outputs": [
    {
     "data": {
      "text/html": [
       "<div>\n",
       "<style scoped>\n",
       "    .dataframe tbody tr th:only-of-type {\n",
       "        vertical-align: middle;\n",
       "    }\n",
       "\n",
       "    .dataframe tbody tr th {\n",
       "        vertical-align: top;\n",
       "    }\n",
       "\n",
       "    .dataframe thead th {\n",
       "        text-align: right;\n",
       "    }\n",
       "</style>\n",
       "<table border=\"1\" class=\"dataframe\">\n",
       "  <thead>\n",
       "    <tr style=\"text-align: right;\">\n",
       "      <th></th>\n",
       "      <th>mean_fit_time</th>\n",
       "      <th>std_fit_time</th>\n",
       "      <th>mean_score_time</th>\n",
       "      <th>std_score_time</th>\n",
       "      <th>param_n_estimators</th>\n",
       "      <th>param_max_features</th>\n",
       "      <th>param_max_depth</th>\n",
       "      <th>params</th>\n",
       "      <th>split0_test_score</th>\n",
       "      <th>split1_test_score</th>\n",
       "      <th>split2_test_score</th>\n",
       "      <th>split3_test_score</th>\n",
       "      <th>split4_test_score</th>\n",
       "      <th>mean_test_score</th>\n",
       "      <th>std_test_score</th>\n",
       "      <th>rank_test_score</th>\n",
       "    </tr>\n",
       "  </thead>\n",
       "  <tbody>\n",
       "    <tr>\n",
       "      <th>50</th>\n",
       "      <td>0.390568</td>\n",
       "      <td>0.008669</td>\n",
       "      <td>0.022217</td>\n",
       "      <td>0.002535</td>\n",
       "      <td>176</td>\n",
       "      <td>0.584745</td>\n",
       "      <td>10</td>\n",
       "      <td>{'n_estimators': 176, 'max_features': 0.584744...</td>\n",
       "      <td>0.886179</td>\n",
       "      <td>0.934959</td>\n",
       "      <td>0.861789</td>\n",
       "      <td>0.902439</td>\n",
       "      <td>0.942623</td>\n",
       "      <td>0.905598</td>\n",
       "      <td>0.030131</td>\n",
       "      <td>1</td>\n",
       "    </tr>\n",
       "    <tr>\n",
       "      <th>45</th>\n",
       "      <td>0.363874</td>\n",
       "      <td>0.004624</td>\n",
       "      <td>0.017921</td>\n",
       "      <td>0.002045</td>\n",
       "      <td>154</td>\n",
       "      <td>0.795376</td>\n",
       "      <td>7</td>\n",
       "      <td>{'n_estimators': 154, 'max_features': 0.795376...</td>\n",
       "      <td>0.886179</td>\n",
       "      <td>0.951220</td>\n",
       "      <td>0.869919</td>\n",
       "      <td>0.894309</td>\n",
       "      <td>0.926230</td>\n",
       "      <td>0.905571</td>\n",
       "      <td>0.029273</td>\n",
       "      <td>2</td>\n",
       "    </tr>\n",
       "    <tr>\n",
       "      <th>10</th>\n",
       "      <td>0.391667</td>\n",
       "      <td>0.005677</td>\n",
       "      <td>0.024800</td>\n",
       "      <td>0.001470</td>\n",
       "      <td>176</td>\n",
       "      <td>0.62476</td>\n",
       "      <td>12</td>\n",
       "      <td>{'n_estimators': 176, 'max_features': 0.624759...</td>\n",
       "      <td>0.878049</td>\n",
       "      <td>0.934959</td>\n",
       "      <td>0.853659</td>\n",
       "      <td>0.902439</td>\n",
       "      <td>0.950820</td>\n",
       "      <td>0.903985</td>\n",
       "      <td>0.035667</td>\n",
       "      <td>3</td>\n",
       "    </tr>\n",
       "    <tr>\n",
       "      <th>65</th>\n",
       "      <td>0.235249</td>\n",
       "      <td>0.006036</td>\n",
       "      <td>0.016399</td>\n",
       "      <td>0.001744</td>\n",
       "      <td>106</td>\n",
       "      <td>0.614767</td>\n",
       "      <td>14</td>\n",
       "      <td>{'n_estimators': 106, 'max_features': 0.614766...</td>\n",
       "      <td>0.886179</td>\n",
       "      <td>0.934959</td>\n",
       "      <td>0.861789</td>\n",
       "      <td>0.894309</td>\n",
       "      <td>0.942623</td>\n",
       "      <td>0.903972</td>\n",
       "      <td>0.030475</td>\n",
       "      <td>4</td>\n",
       "    </tr>\n",
       "    <tr>\n",
       "      <th>61</th>\n",
       "      <td>0.433679</td>\n",
       "      <td>0.005572</td>\n",
       "      <td>0.027008</td>\n",
       "      <td>0.002393</td>\n",
       "      <td>193</td>\n",
       "      <td>0.571894</td>\n",
       "      <td>14</td>\n",
       "      <td>{'n_estimators': 193, 'max_features': 0.571894...</td>\n",
       "      <td>0.878049</td>\n",
       "      <td>0.934959</td>\n",
       "      <td>0.861789</td>\n",
       "      <td>0.902439</td>\n",
       "      <td>0.942623</td>\n",
       "      <td>0.903972</td>\n",
       "      <td>0.031330</td>\n",
       "      <td>4</td>\n",
       "    </tr>\n",
       "  </tbody>\n",
       "</table>\n",
       "</div>"
      ],
      "text/plain": [
       "    mean_fit_time  std_fit_time  mean_score_time  std_score_time  \\\n",
       "50       0.390568      0.008669         0.022217        0.002535   \n",
       "45       0.363874      0.004624         0.017921        0.002045   \n",
       "10       0.391667      0.005677         0.024800        0.001470   \n",
       "65       0.235249      0.006036         0.016399        0.001744   \n",
       "61       0.433679      0.005572         0.027008        0.002393   \n",
       "\n",
       "   param_n_estimators param_max_features param_max_depth  \\\n",
       "50                176           0.584745              10   \n",
       "45                154           0.795376               7   \n",
       "10                176            0.62476              12   \n",
       "65                106           0.614767              14   \n",
       "61                193           0.571894              14   \n",
       "\n",
       "                                               params  split0_test_score  \\\n",
       "50  {'n_estimators': 176, 'max_features': 0.584744...           0.886179   \n",
       "45  {'n_estimators': 154, 'max_features': 0.795376...           0.886179   \n",
       "10  {'n_estimators': 176, 'max_features': 0.624759...           0.878049   \n",
       "65  {'n_estimators': 106, 'max_features': 0.614766...           0.886179   \n",
       "61  {'n_estimators': 193, 'max_features': 0.571894...           0.878049   \n",
       "\n",
       "    split1_test_score  split2_test_score  split3_test_score  \\\n",
       "50           0.934959           0.861789           0.902439   \n",
       "45           0.951220           0.869919           0.894309   \n",
       "10           0.934959           0.853659           0.902439   \n",
       "65           0.934959           0.861789           0.894309   \n",
       "61           0.934959           0.861789           0.902439   \n",
       "\n",
       "    split4_test_score  mean_test_score  std_test_score  rank_test_score  \n",
       "50           0.942623         0.905598        0.030131                1  \n",
       "45           0.926230         0.905571        0.029273                2  \n",
       "10           0.950820         0.903985        0.035667                3  \n",
       "65           0.942623         0.903972        0.030475                4  \n",
       "61           0.942623         0.903972        0.031330                4  "
      ]
     },
     "execution_count": 62,
     "metadata": {},
     "output_type": "execute_result"
    }
   ],
   "source": [
    "# RandomForestClassifier 결과 자세히 보기\n",
    "pd.DataFrame(result_df.loc[1, \"cv_result\"]).sort_values(by=\"rank_test_score\").head()"
   ]
  },
  {
   "cell_type": "code",
   "execution_count": null,
   "id": "69b16d3f",
   "metadata": {},
   "outputs": [],
   "source": []
  },
  {
   "cell_type": "code",
   "execution_count": null,
   "id": "e024fdb9",
   "metadata": {},
   "outputs": [],
   "source": []
  },
  {
   "cell_type": "markdown",
   "id": "a1c6e929",
   "metadata": {},
   "source": [
    "# 학습과 예측하기"
   ]
  },
  {
   "cell_type": "code",
   "execution_count": 17,
   "id": "41b14982",
   "metadata": {},
   "outputs": [
    {
     "data": {
      "text/plain": [
       "GradientBoostingClassifier(random_state=42)"
      ]
     },
     "execution_count": 17,
     "metadata": {},
     "output_type": "execute_result"
    }
   ],
   "source": [
    "# 학습시키기\n",
    "model.fit(X_train, y_train)"
   ]
  },
  {
   "cell_type": "code",
   "execution_count": 18,
   "id": "a82f7d0a",
   "metadata": {},
   "outputs": [
    {
     "data": {
      "text/plain": [
       "array([1.06409948e-01, 7.04053663e-03, 6.57236021e-02, 3.73742490e-02,\n",
       "       2.62954875e-02, 9.47259928e-02, 1.56708089e-04, 6.62273475e-01,\n",
       "       0.00000000e+00])"
      ]
     },
     "execution_count": 18,
     "metadata": {},
     "output_type": "execute_result"
    }
   ],
   "source": [
    "model.feature_importances_"
   ]
  },
  {
   "cell_type": "code",
   "execution_count": 19,
   "id": "7536ad86",
   "metadata": {},
   "outputs": [
    {
     "data": {
      "text/plain": [
       "<AxesSubplot:>"
      ]
     },
     "execution_count": 19,
     "metadata": {},
     "output_type": "execute_result"
    },
    {
     "data": {
      "image/png": "[encoded data removed]",
      "text/plain": [
       "<Figure size 640x480 with 1 Axes>"
      ]
     },
     "metadata": {},
     "output_type": "display_data"
    }
   ],
   "source": [
    "feature_names = X_train.columns.tolist()\n",
    "sns.barplot(x=model.feature_importances_, y=feature_names)"
   ]
  },
  {
   "cell_type": "code",
   "execution_count": 20,
   "id": "de2d8907",
   "metadata": {},
   "outputs": [
    {
     "data": {
      "text/plain": [
       "array([1, 0, 0, 0, 0, 1, 0, 0, 1, 0, 1, 1, 0, 0, 0, 1, 0, 0, 1, 0, 0, 0,\n",
       "       0, 0, 1, 1, 0, 0, 0, 0, 1, 1, 1, 1, 0, 1, 1, 1, 0, 1, 0, 0, 0, 1,\n",
       "       0, 0, 1, 0, 0, 1, 0, 1, 1, 1, 0, 0, 0, 0, 0, 1, 1, 0, 0, 0, 0, 0,\n",
       "       0, 1, 0, 1, 1, 0, 0, 0, 0, 0, 0, 0, 0, 0, 1, 0, 0, 1, 0, 1, 1, 0,\n",
       "       0, 0, 0, 0, 0, 1, 1, 0, 0, 0, 1, 0, 1, 0, 1, 1, 1, 1, 0, 1, 0, 1,\n",
       "       0, 0, 0, 1, 0, 0, 1, 0, 0, 0, 0, 0, 1, 0, 0, 1, 1, 1, 1, 1, 1, 1,\n",
       "       0, 1, 1, 0, 1, 1, 1, 0, 0, 0, 0, 0, 0, 0, 1, 0, 0, 1, 0, 0, 0, 0],\n",
       "      dtype=int64)"
      ]
     },
     "execution_count": 20,
     "metadata": {},
     "output_type": "execute_result"
    }
   ],
   "source": [
    "# 예측하고 결과를 y_predict에 담는다.\n",
    "y_predict = model.predict(X_test)\n",
    "y_predict"
   ]
  },
  {
   "cell_type": "markdown",
   "id": "1eea1e78",
   "metadata": {},
   "source": [
    "# 정확도 측정하기"
   ]
  },
  {
   "cell_type": "code",
   "execution_count": 21,
   "id": "953ea3f5",
   "metadata": {},
   "outputs": [
    {
     "data": {
      "text/plain": [
       "24"
      ]
     },
     "execution_count": 21,
     "metadata": {},
     "output_type": "execute_result"
    }
   ],
   "source": [
    "# 다르게 예측한 개수 구해서 diff_count에 할당\n",
    "# DecisionTreeClassifier : 28개\n",
    "# RandomForestClassifier : 20개\n",
    "# GradientBoostingClassifier : 24개\n",
    "diff_count = (y_predict != y_test).sum() \n",
    "diff_count"
   ]
  },
  {
   "cell_type": "code",
   "execution_count": 22,
   "id": "d1cddbe3",
   "metadata": {},
   "outputs": [
    {
     "data": {
      "text/plain": [
       "0.8441558441558441"
      ]
     },
     "execution_count": 22,
     "metadata": {},
     "output_type": "execute_result"
    }
   ],
   "source": [
    "# accuracy score 구하기\n",
    "from sklearn.metrics import accuracy_score\n",
    "\n",
    "# DecisionTreeClassifier : 0.8181818181818182\n",
    "# RandomForestClassifier : 0.8701298701298701\n",
    "# GradientBoostingClassifier : 0.8441558441558441\n",
    "\n",
    "accuracy_score(y_test, y_predict)"
   ]
  },
  {
   "cell_type": "code",
   "execution_count": null,
   "id": "5e0aa8f5",
   "metadata": {},
   "outputs": [],
   "source": []
  }
 ],
 "metadata": {
  "kernelspec": {
   "display_name": "Python 3 (ipykernel)",
   "language": "python",
   "name": "python3"
  },
  "language_info": {
   "codemirror_mode": {
    "name": "ipython",
    "version": 3
   },
   "file_extension": ".py",
   "mimetype": "text/x-python",
   "name": "python",
   "nbconvert_exporter": "python",
   "pygments_lexer": "ipython3",
   "version": "3.9.13"
  },
  "toc": {
   "base_numbering": 1,
   "nav_menu": {},
   "number_sections": true,
   "sideBar": true,
   "skip_h1_title": false,
   "title_cell": "Table of Contents",
   "title_sidebar": "Contents",
   "toc_cell": false,
   "toc_position": {
    "height": "calc(100% - 180px)",
    "left": "10px",
    "top": "150px",
    "width": "307.2px"
   },
   "toc_section_display": true,
   "toc_window_display": false
  }
 },
 "nbformat": 4,
 "nbformat_minor": 5
}
